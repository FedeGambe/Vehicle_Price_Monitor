{
 "cells": [
  {
   "cell_type": "code",
   "execution_count": 1,
   "id": "10f7f23c",
   "metadata": {},
   "outputs": [],
   "source": [
    "modello_per_analisi = 'Opel_Corsa'"
   ]
  },
  {
   "cell_type": "markdown",
   "id": "692ad568",
   "metadata": {},
   "source": [
    "### 0. Import funzioni e librerie"
   ]
  },
  {
   "cell_type": "code",
   "execution_count": 2,
   "id": "2fc82b9a",
   "metadata": {},
   "outputs": [],
   "source": [
    "import os\n",
    "import sys\n",
    "from pathlib import Path\n",
    "import importlib\n",
    "import requests\n",
    "import pandas as pd\n",
    "import joblib\n",
    "\n",
    "import dash\n",
    "from dash import dcc, html\n",
    "from dash.dependencies import Input, Output, State\n",
    "import dash_bootstrap_components as dbc"
   ]
  },
  {
   "cell_type": "code",
   "execution_count": 3,
   "id": "dd853721",
   "metadata": {},
   "outputs": [],
   "source": [
    "source_root = Path.cwd().parents[0]\n",
    "# Percorsi delle cartelle contenenti i moduli\n",
    "dashboard_dir = source_root / '4_Dashboard' / 'Utils'\n",
    "\n",
    "# Aggiungi al sys.path\n",
    "sys.path.extend([str(dashboard_dir)])\n",
    "\n",
    "# Import\n",
    "from Functions_dashboard import get_data_dummy_for_dash, create_dashboard"
   ]
  },
  {
   "cell_type": "code",
   "execution_count": 4,
   "id": "7fafdd3e",
   "metadata": {},
   "outputs": [
    {
     "name": "stdout",
     "output_type": "stream",
     "text": [
      "Il config_dir risulta: /Users/federicogamberini/VS Code/Vehicle_Price_Monitor/Data/config ,\n",
      "il cui contenuto della cartella: ['config_Audi_A3.py', 'config_Opel_Corsa.py', '__pycache__', 'config_BMW_Serie_1.py', 'config_Mercedes_Classe_A.py']\n",
      "✅ Modulo di configurazione 'config_Opel_Corsa' caricato.\n"
     ]
    }
   ],
   "source": [
    "# --- IMPORT CONFIGURAZIONE DELL'AUTO ---\n",
    "# Percorsi delle cartelle contenenti i moduli\n",
    "config_path = Path.cwd().parents[1] / 'Data'/ 'config'\n",
    "# Aggiungi al sys.path\n",
    "sys.path.extend([str(config_path)])\n",
    "print('Il config_dir risulta:', config_path, ',')\n",
    "print(\"il cui contenuto della cartella:\", os.listdir(config_path))\n",
    "config_path\n",
    "# --- Import dinamico del modulo di configurazione in base al modello ---\n",
    "modulo_config = f\"config_{modello_per_analisi}\"  # esempio: config_Mercedes_Classe_A\n",
    "try:\n",
    "    config = importlib.import_module(modulo_config)\n",
    "    print(f\"✅ Modulo di configurazione '{modulo_config}' caricato.\")\n",
    "except ModuleNotFoundError:\n",
    "    print(f\"❌ Modulo di configurazione '{modulo_config}' non trovato.\")\n",
    "    sys.exit(1)\n",
    "# --- Accesso ai parametri di configurazione ---\n",
    "#allestimenti = config.allestimenti\n",
    "allestimento_performance = config.allestimento_performance\n",
    "allestimento_sport = config.allestimento_sport\n",
    "allestimento_middle = config.allestimento_middle\n",
    "allestimento_base = config.allestimento_base\n",
    "motorizzazioni_norm = config.motorizzazioni_norm\n",
    "modelli_ord = config.modelli_ord\n",
    "mappa_cv = config.mappa_cv\n",
    "mappa_allestimenti = config.mappa_allestimenti"
   ]
  },
  {
   "cell_type": "markdown",
   "id": "1e1b9b70",
   "metadata": {},
   "source": [
    "### 1. Dati"
   ]
  },
  {
   "cell_type": "code",
   "execution_count": 7,
   "id": "4de50310",
   "metadata": {},
   "outputs": [],
   "source": [
    "project_root = Path.cwd().parents[1]\n",
    "\n",
    "model_ml = joblib.load(project_root / 'Data' / 'Modelli_ML' / modello_per_analisi / 'modello_rf.pkl')\n",
    "scaler_ml = joblib.load(project_root / 'Data' / 'Modelli_ML' / modello_per_analisi / 'scaler_rf.pkl')\n",
    "mse = joblib.load(project_root / 'Data' / 'Modelli_ML' / modello_per_analisi / 'mse_rf.pkl')\n",
    "rmse = joblib.load(project_root / 'Data' / 'Modelli_ML' / modello_per_analisi / 'rmse_rf.pkl')\n",
    "r2 = joblib.load(project_root / 'Data' / 'Modelli_ML' / modello_per_analisi / 'r2_rf.pkl')\n",
    "cols_model = joblib.load(project_root / 'Data' / 'Modelli_ML' / modello_per_analisi / 'cols_model.pkl')\n",
    "\n",
    "#### CARICAMENTO DATI SINGOLI\n",
    "data_dummy = pd.read_csv(project_root / 'Data' / 'Processed_data' / modello_per_analisi / f'data_dummy_{modello_per_analisi}.csv')\n",
    "data_originale = pd.read_csv(project_root / 'Data' / 'Processed_data' / modello_per_analisi / f'data_{modello_per_analisi}.csv')"
   ]
  },
  {
   "cell_type": "code",
   "execution_count": 8,
   "id": "094961c9",
   "metadata": {},
   "outputs": [],
   "source": [
    "allestimenti = list(set(allestimento_performance + allestimento_sport + allestimento_middle + allestimento_base))\n",
    "carburanti = data_originale['Carburante'].unique().tolist()\n",
    "val_metrics = dict(mse=mse,rmse=rmse,r2=r2)\n",
    "\n",
    "cols_to_remove = ['prezzo_previsto', 'delta_prezzo', 'is_conveniente']\n",
    "cols_model = [col for col in cols_model if col not in cols_to_remove]"
   ]
  },
  {
   "cell_type": "markdown",
   "id": "4f6a71fa",
   "metadata": {},
   "source": [
    "### 2. Dashboard di previsione"
   ]
  },
  {
   "cell_type": "code",
   "execution_count": null,
   "id": "269541f4",
   "metadata": {},
   "outputs": [],
   "source": [
    "# ===============================\n",
    "# Esempio di utilizzo\n",
    "# ===============================\n",
    "app = create_dashboard(modello_per_analisi, data_originale, allestimenti, carburanti, allestimento_performance,\n",
    "                       allestimento_sport, allestimento_middle, model_ml, scaler_ml, val_metrics, cols_model, get_data_dummy_for_dash)\n",
    "\n",
    "app.run(debug=True, port=8051) #port da modificare se necessario, se già in uso "
   ]
  }
 ],
 "metadata": {
  "kernelspec": {
   "display_name": "Python 3",
   "language": "python",
   "name": "python3"
  },
  "language_info": {
   "codemirror_mode": {
    "name": "ipython",
    "version": 3
   },
   "file_extension": ".py",
   "mimetype": "text/x-python",
   "name": "python",
   "nbconvert_exporter": "python",
   "pygments_lexer": "ipython3",
   "version": "3.13.2"
  }
 },
 "nbformat": 4,
 "nbformat_minor": 5
}
