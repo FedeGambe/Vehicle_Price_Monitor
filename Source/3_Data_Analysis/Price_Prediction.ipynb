{
 "cells": [
  {
   "cell_type": "code",
   "execution_count": null,
   "id": "8e192fd2",
   "metadata": {},
   "outputs": [],
   "source": [
    "modello_per_analisi = ''\n",
    "# Opzioni possibili: Mercedes_Classe_A, BMW_Serie_1, Audi_A3, Opel_Corsa"
   ]
  },
  {
   "cell_type": "markdown",
   "id": "3aeb0754",
   "metadata": {},
   "source": [
    "### 0. Import funzioni e librerie"
   ]
  },
  {
   "cell_type": "code",
   "execution_count": null,
   "id": "f5ec9616",
   "metadata": {},
   "outputs": [],
   "source": [
    "import pandas as pd\n",
    "import os\n",
    "import sys\n",
    "import requests\n",
    "import importlib\n",
    "from pathlib import Path"
   ]
  },
  {
   "cell_type": "code",
   "execution_count": null,
   "id": "8c254144",
   "metadata": {},
   "outputs": [],
   "source": [
    "source_root = Path.cwd().parents[0]\n",
    "# Percorsi delle cartelle contenenti i moduli\n",
    "loader_dir = source_root / '2_Data_Preparation' / 'Utils'\n",
    "utils_dir = source_root / '3_Data_Analysis' / 'Utils'\n",
    "\n",
    "# Aggiungi al sys.path\n",
    "sys.path.extend([str(loader_dir), str(utils_dir)])\n",
    "\n",
    "# Import\n",
    "from data_loader import load_csv_for_notebook\n",
    "from Plots_maker import plot_is_conveniente_distribution, plot_price_prediction_distributions\n",
    "from Function_price_analysis import modello_ml, predizione_prezzo, is_conveniente_class_report, indice_appetibilita, display_top_auto"
   ]
  },
  {
   "cell_type": "code",
   "execution_count": null,
   "id": "b7db8a7a",
   "metadata": {},
   "outputs": [],
   "source": [
    "# --- IMPORT CONFIGURAZIONE DELL'AUTO ---\n",
    "# Percorsi delle cartelle contenenti i moduli\n",
    "project_root = Path.cwd().parents[1]\n",
    "config_path = project_root / 'Data'/ 'config'\n",
    "# Aggiungi al sys.path\n",
    "sys.path.extend([str(config_path)])\n",
    "print('Il config_dir risulta:', config_path, ',')\n",
    "print(\"il cui contenuto della cartella:\", os.listdir(config_path))\n",
    "config_path\n",
    "# --- Import dinamico del modulo di configurazione in base al modello ---\n",
    "modulo_config = f\"config_{modello_per_analisi}\"  # esempio: config_Mercedes_Classe_A\n",
    "try:\n",
    "    config = importlib.import_module(modulo_config)\n",
    "    print(f\"✅ Modulo di configurazione '{modulo_config}' caricato.\")\n",
    "except ModuleNotFoundError:\n",
    "    print(f\"❌ Modulo di configurazione '{modulo_config}' non trovato.\")\n",
    "    sys.exit(1)\n",
    "# --- Accesso ai parametri di configurazione ---\n",
    "#allestimenti = config.allestimenti\n",
    "allestimento_performance = config.allestimento_performance\n",
    "allestimento_sport = config.allestimento_sport\n",
    "allestimento_middle = config.allestimento_middle\n",
    "allestimento_base = config.allestimento_base\n",
    "motorizzazioni_norm = config.motorizzazioni_norm\n",
    "modelli_ord = config.modelli_ord\n",
    "mappa_cv = config.mappa_cv\n",
    "mappa_allestimenti = config.mappa_allestimenti"
   ]
  },
  {
   "cell_type": "markdown",
   "id": "43937f8d",
   "metadata": {},
   "source": [
    "### 1. Dati"
   ]
  },
  {
   "cell_type": "code",
   "execution_count": null,
   "id": "a0466c4a",
   "metadata": {},
   "outputs": [],
   "source": [
    "#### CARICAMENTO DATI SINGOLI\n",
    "data_dummy = pd.read_csv(project_root / 'Data' / 'Processed_data' / modello_per_analisi / f'data_dummy_{modello_per_analisi}.csv')\n",
    "data = pd.read_csv(project_root / 'Data' / 'Processed_data' / modello_per_analisi / f'data_{modello_per_analisi}.csv')\n",
    "\n",
    "X = data_dummy.drop(columns=['Prezzo', 'Distanza', 'Venditore'])\n",
    "y = data_dummy['Prezzo']"
   ]
  },
  {
   "cell_type": "markdown",
   "id": "bfc5e826",
   "metadata": {},
   "source": [
    "### 2. Predizione prezzo, analisi della convenienza"
   ]
  },
  {
   "cell_type": "code",
   "execution_count": null,
   "id": "40bdbdde",
   "metadata": {},
   "outputs": [],
   "source": [
    "modello_ml(X, y, (project_root / 'Data' / 'Modelli_ML' / modello_per_analisi))\n",
    "data_ml, y_pred = predizione_prezzo(data_dummy, X, (project_root / 'Data' / 'Modelli_ML' / modello_per_analisi))"
   ]
  },
  {
   "cell_type": "code",
   "execution_count": null,
   "id": "8cee3225",
   "metadata": {},
   "outputs": [],
   "source": [
    "plot_is_conveniente_distribution(data_ml)"
   ]
  },
  {
   "cell_type": "code",
   "execution_count": null,
   "id": "0e67af43",
   "metadata": {},
   "outputs": [],
   "source": [
    "plot_price_prediction_distributions(data_ml)"
   ]
  },
  {
   "cell_type": "code",
   "execution_count": null,
   "id": "992b4a51",
   "metadata": {},
   "outputs": [],
   "source": [
    "#is_conveniente_class_report(data_ml)"
   ]
  },
  {
   "cell_type": "markdown",
   "id": "234eb0ec",
   "metadata": {},
   "source": [
    "### 3. Indice di attendibilità"
   ]
  },
  {
   "cell_type": "code",
   "execution_count": null,
   "id": "d5b7b4ed",
   "metadata": {},
   "outputs": [],
   "source": [
    "#Prezzo soglia: prezzo oltre il quale il punteggio di attendibilità diminuisce\n",
    "prezzo_soglia=35000\n",
    "\n",
    "#Valori per il calcolo indice di attendibilità\n",
    "valore_idx_anni = 0.025\n",
    "valore_idx_prezzo = 0.15\n",
    "valore_idx_km= 0.15 \n",
    "valore_idx_dist = 0.10 \n",
    "valore_idx_allestimento= 0.25 \n",
    "valore_idx_cv =0.025\n",
    "valore_idx_cambio = 0.20 "
   ]
  },
  {
   "cell_type": "code",
   "execution_count": null,
   "id": "6d250988",
   "metadata": {},
   "outputs": [],
   "source": [
    "df = indice_appetibilita(data, y_pred, prezzo_soglia, valore_idx_anni, valore_idx_prezzo, valore_idx_km, \n",
    "                           valore_idx_dist, valore_idx_allestimento, valore_idx_cv, valore_idx_cambio, \n",
    "                           allestimento_performance, allestimento_sport,allestimento_middle,allestimento_base)"
   ]
  },
  {
   "cell_type": "code",
   "execution_count": null,
   "id": "e94688f0",
   "metadata": {},
   "outputs": [],
   "source": [
    "prezzo_max = 12000\n",
    "prezzo_min = 7000\n",
    "km_max =90000\n",
    "km_min = 0\n",
    "dist_max = 150\n",
    "dispaly = 20\n",
    "\n",
    "display_top_auto(df, dispaly, prezzo_max, prezzo_min, km_max, km_min, dist_max, carburante=None)\n"
   ]
  }
 ],
 "metadata": {
  "kernelspec": {
   "display_name": "Python 3",
   "language": "python",
   "name": "python3"
  },
  "language_info": {
   "codemirror_mode": {
    "name": "ipython",
    "version": 3
   },
   "file_extension": ".py",
   "mimetype": "text/x-python",
   "name": "python",
   "nbconvert_exporter": "python",
   "pygments_lexer": "ipython3",
   "version": "3.13.2"
  }
 },
 "nbformat": 4,
 "nbformat_minor": 5
}
