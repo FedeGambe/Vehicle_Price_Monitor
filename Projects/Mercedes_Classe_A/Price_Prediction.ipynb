{
 "cells": [
  {
   "cell_type": "code",
   "execution_count": 1,
   "id": "8e192fd2",
   "metadata": {},
   "outputs": [],
   "source": [
    "modello_per_analisi = 'Mercedes_Classe_A'\n",
    "# Opzioni possibili: Mercedes_Classe_A, BMW_Serie_1, Audi_A3, Fiat_Panda"
   ]
  },
  {
   "cell_type": "markdown",
   "id": "3aeb0754",
   "metadata": {},
   "source": [
    "### 0. Import funzioni e librerie"
   ]
  },
  {
   "cell_type": "code",
   "execution_count": 2,
   "id": "f5ec9616",
   "metadata": {},
   "outputs": [],
   "source": [
    "import pandas as pd\n",
    "import os\n",
    "import sys\n",
    "import requests\n",
    "import importlib\n",
    "from pathlib import Path\n"
   ]
  },
  {
   "cell_type": "code",
   "execution_count": 3,
   "id": "1067248f",
   "metadata": {},
   "outputs": [],
   "source": [
    "project_root = Path.cwd().parents[1]\n",
    "\n",
    "# Percorsi delle cartelle contenenti i moduli\n",
    "loader_dir = project_root / 'Source' / '2_Data_Preparation' / 'Utils'\n",
    "utils_dir = project_root / 'Source' / '3_Data_Analysis' / 'Utils'\n",
    "# Aggiungi al sys.path\n",
    "sys.path.extend([str(loader_dir), str(utils_dir)])\n",
    "\n",
    "# Import\n",
    "from data_loader import load_csv_for_notebook\n",
    "from Plots_maker import plot_is_conveniente_distribution, plot_price_prediction_distributions\n",
    "from Function_price_analysis import modello_ml, predizione_prezzo, is_conveniente_class_report, indice_appetibilita, display_top_auto"
   ]
  },
  {
   "cell_type": "code",
   "execution_count": 4,
   "id": "e1aa9ce0",
   "metadata": {},
   "outputs": [
    {
     "name": "stdout",
     "output_type": "stream",
     "text": [
      "\n",
      " - config_path: /Users/federicogamberini/VS Code/Vehicle_Price_Monitor/Data/config\n",
      " - Contenuto della cartella: ['config_Audi_A3.py', 'config_Opel_Corsa.py', '__pycache__', 'config_BMW_Serie_1.py', 'config_Mercedes_Classe_A.py']\n"
     ]
    }
   ],
   "source": [
    "# --- IMPORT CONFIGURAZIONE DELL'AUTO ---\n",
    "#Configurazione path per import dinamico del modulo di configurazione \n",
    "\n",
    "config_path = project_root / 'Data'/ 'config'\n",
    "\n",
    "sys.path.extend([str(config_path)])\n",
    "print(\"\\n - config_path:\", config_path)\n",
    "print(\" - Contenuto della cartella:\", os.listdir(config_path))\n",
    "\n",
    "# --- Import dinamico del modulo di configurazione in base al modello ---\n",
    "modulo_config = f\"config_{modello_per_analisi}\"  # esempio: config_Mercedes_Classe_A\n",
    "try:\n",
    "    config = importlib.import_module(modulo_config)\n",
    "except ModuleNotFoundError:\n",
    "    print(f\"❌ Modulo di configurazione '{modulo_config}' non trovato.\")\n",
    "    sys.exit(1)\n",
    "# --- Accesso ai parametri di configurazione ---\n",
    "#allestimenti = config.allestimenti\n",
    "allestimento_performance = config.allestimento_performance\n",
    "allestimento_sport = config.allestimento_sport\n",
    "allestimento_middle = config.allestimento_middle\n",
    "allestimento_base = config.allestimento_base"
   ]
  },
  {
   "cell_type": "markdown",
   "id": "43937f8d",
   "metadata": {},
   "source": [
    "### 1. Dati"
   ]
  },
  {
   "cell_type": "code",
   "execution_count": 5,
   "id": "a0466c4a",
   "metadata": {},
   "outputs": [
    {
     "name": "stdout",
     "output_type": "stream",
     "text": [
      "✅ File caricato: /Users/federicogamberini/VS Code/Vehicle_Price_Monitor/Data/Processed_data/Mercedes_Classe_A/data_dummy_Mercedes_Classe_A.csv (3043 righe, 15 colonne)\n",
      "✅ File caricato: /Users/federicogamberini/VS Code/Vehicle_Price_Monitor/Data/Processed_data/Mercedes_Classe_A/data_Mercedes_Classe_A.csv (3043 righe, 18 colonne)\n"
     ]
    }
   ],
   "source": [
    "#### CARICAMENTO DATI SINGOLI\n",
    "data_dummy= load_csv_for_notebook(project_root,['Data', 'Processed_data', modello_per_analisi, f'data_dummy_{modello_per_analisi}.csv'])\n",
    "data = load_csv_for_notebook(project_root,['Data', 'Processed_data', modello_per_analisi, f'data_{modello_per_analisi}.csv'])\n",
    "\n",
    "X = data_dummy.drop(columns=['Prezzo', 'Distanza', 'Venditore'])\n",
    "y = data_dummy['Prezzo']"
   ]
  },
  {
   "cell_type": "markdown",
   "id": "bfc5e826",
   "metadata": {},
   "source": [
    "### 2. Predizione prezzo, analisi della convenienza"
   ]
  },
  {
   "cell_type": "code",
   "execution_count": 6,
   "id": "c50b146b",
   "metadata": {},
   "outputs": [
    {
     "name": "stdout",
     "output_type": "stream",
     "text": [
      "Valutazione delle performance sul test set\n",
      " - Mean Squared Error: 5146608.2\n",
      " - Root Mean Squared Error: 2268.61 euro\n",
      " - R-squared:  0.92\n"
     ]
    }
   ],
   "source": [
    "modello_ml(X, y, (project_root / 'Data' / 'Modelli_ML' / modello_per_analisi))\n",
    "data_ml, y_pred = predizione_prezzo(data_dummy, X, (project_root / 'Data' / 'Modelli_ML' / modello_per_analisi))"
   ]
  },
  {
   "cell_type": "code",
   "execution_count": 7,
   "id": "8cee3225",
   "metadata": {},
   "outputs": [
    {
     "data": {
      "application/vnd.plotly.v1+json": {
       "config": {
        "plotlyServerURL": "https://plot.ly"
       },
       "data": [
        {
         "customdata": {
          "bdata": "AAE=",
          "dtype": "i1",
          "shape": "2, 1"
         },
         "domain": {
          "x": [
           0,
           1
          ],
          "y": [
           0,
           1
          ]
         },
         "hole": 0.2,
         "hovertemplate": "label=%{label}<br>value=%{value}<br>color=%{customdata[0]}<extra></extra>",
         "labels": {
          "bdata": "AAE=",
          "dtype": "i1"
         },
         "legendgroup": "",
         "marker": {
          "colors": [
           "lightgreen",
           "lightcoral"
          ]
         },
         "name": "",
         "showlegend": true,
         "textinfo": "percent+label",
         "type": "pie",
         "values": {
          "bdata": "fgZlBQ==",
          "dtype": "i2"
         }
        }
       ],
       "layout": {
        "legend": {
         "tracegroupgap": 0
        },
        "margin": {
         "t": 60
        },
        "template": {
         "data": {
          "bar": [
           {
            "error_x": {
             "color": "#2a3f5f"
            },
            "error_y": {
             "color": "#2a3f5f"
            },
            "marker": {
             "line": {
              "color": "#E5ECF6",
              "width": 0.5
             },
             "pattern": {
              "fillmode": "overlay",
              "size": 10,
              "solidity": 0.2
             }
            },
            "type": "bar"
           }
          ],
          "barpolar": [
           {
            "marker": {
             "line": {
              "color": "#E5ECF6",
              "width": 0.5
             },
             "pattern": {
              "fillmode": "overlay",
              "size": 10,
              "solidity": 0.2
             }
            },
            "type": "barpolar"
           }
          ],
          "carpet": [
           {
            "aaxis": {
             "endlinecolor": "#2a3f5f",
             "gridcolor": "white",
             "linecolor": "white",
             "minorgridcolor": "white",
             "startlinecolor": "#2a3f5f"
            },
            "baxis": {
             "endlinecolor": "#2a3f5f",
             "gridcolor": "white",
             "linecolor": "white",
             "minorgridcolor": "white",
             "startlinecolor": "#2a3f5f"
            },
            "type": "carpet"
           }
          ],
          "choropleth": [
           {
            "colorbar": {
             "outlinewidth": 0,
             "ticks": ""
            },
            "type": "choropleth"
           }
          ],
          "contour": [
           {
            "colorbar": {
             "outlinewidth": 0,
             "ticks": ""
            },
            "colorscale": [
             [
              0,
              "#0d0887"
             ],
             [
              0.1111111111111111,
              "#46039f"
             ],
             [
              0.2222222222222222,
              "#7201a8"
             ],
             [
              0.3333333333333333,
              "#9c179e"
             ],
             [
              0.4444444444444444,
              "#bd3786"
             ],
             [
              0.5555555555555556,
              "#d8576b"
             ],
             [
              0.6666666666666666,
              "#ed7953"
             ],
             [
              0.7777777777777778,
              "#fb9f3a"
             ],
             [
              0.8888888888888888,
              "#fdca26"
             ],
             [
              1,
              "#f0f921"
             ]
            ],
            "type": "contour"
           }
          ],
          "contourcarpet": [
           {
            "colorbar": {
             "outlinewidth": 0,
             "ticks": ""
            },
            "type": "contourcarpet"
           }
          ],
          "heatmap": [
           {
            "colorbar": {
             "outlinewidth": 0,
             "ticks": ""
            },
            "colorscale": [
             [
              0,
              "#0d0887"
             ],
             [
              0.1111111111111111,
              "#46039f"
             ],
             [
              0.2222222222222222,
              "#7201a8"
             ],
             [
              0.3333333333333333,
              "#9c179e"
             ],
             [
              0.4444444444444444,
              "#bd3786"
             ],
             [
              0.5555555555555556,
              "#d8576b"
             ],
             [
              0.6666666666666666,
              "#ed7953"
             ],
             [
              0.7777777777777778,
              "#fb9f3a"
             ],
             [
              0.8888888888888888,
              "#fdca26"
             ],
             [
              1,
              "#f0f921"
             ]
            ],
            "type": "heatmap"
           }
          ],
          "histogram": [
           {
            "marker": {
             "pattern": {
              "fillmode": "overlay",
              "size": 10,
              "solidity": 0.2
             }
            },
            "type": "histogram"
           }
          ],
          "histogram2d": [
           {
            "colorbar": {
             "outlinewidth": 0,
             "ticks": ""
            },
            "colorscale": [
             [
              0,
              "#0d0887"
             ],
             [
              0.1111111111111111,
              "#46039f"
             ],
             [
              0.2222222222222222,
              "#7201a8"
             ],
             [
              0.3333333333333333,
              "#9c179e"
             ],
             [
              0.4444444444444444,
              "#bd3786"
             ],
             [
              0.5555555555555556,
              "#d8576b"
             ],
             [
              0.6666666666666666,
              "#ed7953"
             ],
             [
              0.7777777777777778,
              "#fb9f3a"
             ],
             [
              0.8888888888888888,
              "#fdca26"
             ],
             [
              1,
              "#f0f921"
             ]
            ],
            "type": "histogram2d"
           }
          ],
          "histogram2dcontour": [
           {
            "colorbar": {
             "outlinewidth": 0,
             "ticks": ""
            },
            "colorscale": [
             [
              0,
              "#0d0887"
             ],
             [
              0.1111111111111111,
              "#46039f"
             ],
             [
              0.2222222222222222,
              "#7201a8"
             ],
             [
              0.3333333333333333,
              "#9c179e"
             ],
             [
              0.4444444444444444,
              "#bd3786"
             ],
             [
              0.5555555555555556,
              "#d8576b"
             ],
             [
              0.6666666666666666,
              "#ed7953"
             ],
             [
              0.7777777777777778,
              "#fb9f3a"
             ],
             [
              0.8888888888888888,
              "#fdca26"
             ],
             [
              1,
              "#f0f921"
             ]
            ],
            "type": "histogram2dcontour"
           }
          ],
          "mesh3d": [
           {
            "colorbar": {
             "outlinewidth": 0,
             "ticks": ""
            },
            "type": "mesh3d"
           }
          ],
          "parcoords": [
           {
            "line": {
             "colorbar": {
              "outlinewidth": 0,
              "ticks": ""
             }
            },
            "type": "parcoords"
           }
          ],
          "pie": [
           {
            "automargin": true,
            "type": "pie"
           }
          ],
          "scatter": [
           {
            "fillpattern": {
             "fillmode": "overlay",
             "size": 10,
             "solidity": 0.2
            },
            "type": "scatter"
           }
          ],
          "scatter3d": [
           {
            "line": {
             "colorbar": {
              "outlinewidth": 0,
              "ticks": ""
             }
            },
            "marker": {
             "colorbar": {
              "outlinewidth": 0,
              "ticks": ""
             }
            },
            "type": "scatter3d"
           }
          ],
          "scattercarpet": [
           {
            "marker": {
             "colorbar": {
              "outlinewidth": 0,
              "ticks": ""
             }
            },
            "type": "scattercarpet"
           }
          ],
          "scattergeo": [
           {
            "marker": {
             "colorbar": {
              "outlinewidth": 0,
              "ticks": ""
             }
            },
            "type": "scattergeo"
           }
          ],
          "scattergl": [
           {
            "marker": {
             "colorbar": {
              "outlinewidth": 0,
              "ticks": ""
             }
            },
            "type": "scattergl"
           }
          ],
          "scattermap": [
           {
            "marker": {
             "colorbar": {
              "outlinewidth": 0,
              "ticks": ""
             }
            },
            "type": "scattermap"
           }
          ],
          "scattermapbox": [
           {
            "marker": {
             "colorbar": {
              "outlinewidth": 0,
              "ticks": ""
             }
            },
            "type": "scattermapbox"
           }
          ],
          "scatterpolar": [
           {
            "marker": {
             "colorbar": {
              "outlinewidth": 0,
              "ticks": ""
             }
            },
            "type": "scatterpolar"
           }
          ],
          "scatterpolargl": [
           {
            "marker": {
             "colorbar": {
              "outlinewidth": 0,
              "ticks": ""
             }
            },
            "type": "scatterpolargl"
           }
          ],
          "scatterternary": [
           {
            "marker": {
             "colorbar": {
              "outlinewidth": 0,
              "ticks": ""
             }
            },
            "type": "scatterternary"
           }
          ],
          "surface": [
           {
            "colorbar": {
             "outlinewidth": 0,
             "ticks": ""
            },
            "colorscale": [
             [
              0,
              "#0d0887"
             ],
             [
              0.1111111111111111,
              "#46039f"
             ],
             [
              0.2222222222222222,
              "#7201a8"
             ],
             [
              0.3333333333333333,
              "#9c179e"
             ],
             [
              0.4444444444444444,
              "#bd3786"
             ],
             [
              0.5555555555555556,
              "#d8576b"
             ],
             [
              0.6666666666666666,
              "#ed7953"
             ],
             [
              0.7777777777777778,
              "#fb9f3a"
             ],
             [
              0.8888888888888888,
              "#fdca26"
             ],
             [
              1,
              "#f0f921"
             ]
            ],
            "type": "surface"
           }
          ],
          "table": [
           {
            "cells": {
             "fill": {
              "color": "#EBF0F8"
             },
             "line": {
              "color": "white"
             }
            },
            "header": {
             "fill": {
              "color": "#C8D4E3"
             },
             "line": {
              "color": "white"
             }
            },
            "type": "table"
           }
          ]
         },
         "layout": {
          "annotationdefaults": {
           "arrowcolor": "#2a3f5f",
           "arrowhead": 0,
           "arrowwidth": 1
          },
          "autotypenumbers": "strict",
          "coloraxis": {
           "colorbar": {
            "outlinewidth": 0,
            "ticks": ""
           }
          },
          "colorscale": {
           "diverging": [
            [
             0,
             "#8e0152"
            ],
            [
             0.1,
             "#c51b7d"
            ],
            [
             0.2,
             "#de77ae"
            ],
            [
             0.3,
             "#f1b6da"
            ],
            [
             0.4,
             "#fde0ef"
            ],
            [
             0.5,
             "#f7f7f7"
            ],
            [
             0.6,
             "#e6f5d0"
            ],
            [
             0.7,
             "#b8e186"
            ],
            [
             0.8,
             "#7fbc41"
            ],
            [
             0.9,
             "#4d9221"
            ],
            [
             1,
             "#276419"
            ]
           ],
           "sequential": [
            [
             0,
             "#0d0887"
            ],
            [
             0.1111111111111111,
             "#46039f"
            ],
            [
             0.2222222222222222,
             "#7201a8"
            ],
            [
             0.3333333333333333,
             "#9c179e"
            ],
            [
             0.4444444444444444,
             "#bd3786"
            ],
            [
             0.5555555555555556,
             "#d8576b"
            ],
            [
             0.6666666666666666,
             "#ed7953"
            ],
            [
             0.7777777777777778,
             "#fb9f3a"
            ],
            [
             0.8888888888888888,
             "#fdca26"
            ],
            [
             1,
             "#f0f921"
            ]
           ],
           "sequentialminus": [
            [
             0,
             "#0d0887"
            ],
            [
             0.1111111111111111,
             "#46039f"
            ],
            [
             0.2222222222222222,
             "#7201a8"
            ],
            [
             0.3333333333333333,
             "#9c179e"
            ],
            [
             0.4444444444444444,
             "#bd3786"
            ],
            [
             0.5555555555555556,
             "#d8576b"
            ],
            [
             0.6666666666666666,
             "#ed7953"
            ],
            [
             0.7777777777777778,
             "#fb9f3a"
            ],
            [
             0.8888888888888888,
             "#fdca26"
            ],
            [
             1,
             "#f0f921"
            ]
           ]
          },
          "colorway": [
           "#636efa",
           "#EF553B",
           "#00cc96",
           "#ab63fa",
           "#FFA15A",
           "#19d3f3",
           "#FF6692",
           "#B6E880",
           "#FF97FF",
           "#FECB52"
          ],
          "font": {
           "color": "#2a3f5f"
          },
          "geo": {
           "bgcolor": "white",
           "lakecolor": "white",
           "landcolor": "#E5ECF6",
           "showlakes": true,
           "showland": true,
           "subunitcolor": "white"
          },
          "hoverlabel": {
           "align": "left"
          },
          "hovermode": "closest",
          "mapbox": {
           "style": "light"
          },
          "paper_bgcolor": "white",
          "plot_bgcolor": "#E5ECF6",
          "polar": {
           "angularaxis": {
            "gridcolor": "white",
            "linecolor": "white",
            "ticks": ""
           },
           "bgcolor": "#E5ECF6",
           "radialaxis": {
            "gridcolor": "white",
            "linecolor": "white",
            "ticks": ""
           }
          },
          "scene": {
           "xaxis": {
            "backgroundcolor": "#E5ECF6",
            "gridcolor": "white",
            "gridwidth": 2,
            "linecolor": "white",
            "showbackground": true,
            "ticks": "",
            "zerolinecolor": "white"
           },
           "yaxis": {
            "backgroundcolor": "#E5ECF6",
            "gridcolor": "white",
            "gridwidth": 2,
            "linecolor": "white",
            "showbackground": true,
            "ticks": "",
            "zerolinecolor": "white"
           },
           "zaxis": {
            "backgroundcolor": "#E5ECF6",
            "gridcolor": "white",
            "gridwidth": 2,
            "linecolor": "white",
            "showbackground": true,
            "ticks": "",
            "zerolinecolor": "white"
           }
          },
          "shapedefaults": {
           "line": {
            "color": "#2a3f5f"
           }
          },
          "ternary": {
           "aaxis": {
            "gridcolor": "white",
            "linecolor": "white",
            "ticks": ""
           },
           "baxis": {
            "gridcolor": "white",
            "linecolor": "white",
            "ticks": ""
           },
           "bgcolor": "#E5ECF6",
           "caxis": {
            "gridcolor": "white",
            "linecolor": "white",
            "ticks": ""
           }
          },
          "title": {
           "x": 0.05
          },
          "xaxis": {
           "automargin": true,
           "gridcolor": "white",
           "linecolor": "white",
           "ticks": "",
           "title": {
            "standoff": 15
           },
           "zerolinecolor": "white",
           "zerolinewidth": 2
          },
          "yaxis": {
           "automargin": true,
           "gridcolor": "white",
           "linecolor": "white",
           "ticks": "",
           "title": {
            "standoff": 15
           },
           "zerolinecolor": "white",
           "zerolinewidth": 2
          }
         }
        },
        "title": {
         "font": {
          "family": "Arial",
          "size": 20,
          "weight": "bold"
         },
         "text": "Distribuzione della variabile is_conveniente",
         "x": 0.5,
         "xanchor": "center"
        }
       }
      }
     },
     "metadata": {},
     "output_type": "display_data"
    },
    {
     "name": "stdout",
     "output_type": "stream",
     "text": [
      "\n",
      "Distribuzione relativa della variabile 'is_conveniente':\n",
      "\n",
      " is_conveniente  Frequenza Relativa\n",
      "              0            0.546172\n",
      "              1            0.453828\n"
     ]
    }
   ],
   "source": [
    "plot_is_conveniente_distribution(data_ml)"
   ]
  },
  {
   "cell_type": "code",
   "execution_count": 8,
   "id": "0e67af43",
   "metadata": {},
   "outputs": [
    {
     "data": {
      "application/vnd.plotly.v1+json": {
       "config": {
        "plotlyServerURL": "https://plot.ly"
       },
       "data": [
        {
         "marker": {
          "color": "steelblue"
         },
         "name": "Prezzo Previsto",
         "nbinsx": 120,
         "type": "histogram",
         "x": {
          "bdata": "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",
          "dtype": "f8"
         },
         "xaxis": "x",
         "yaxis": "y"
        },
        {
         "marker": {
          "color": "darkorange"
         },
         "name": "Delta Prezzo",
         "nbinsx": 120,
         "type": "histogram",
         "x": {
          "bdata": "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",
          "dtype": "f8"
         },
         "xaxis": "x2",
         "yaxis": "y2"
        },
        {
         "line": {
          "color": "black",
          "dash": "dash"
         },
         "mode": "lines",
         "name": "Curva Normale Prezzo Previsto",
         "type": "scatter",
         "x": {
          "bdata": "mpmZmRnJyEBUwUGAZS/JQA7p6WaxlclAyBCSTf37yUCDODo0SWLKQD1g4hqVyMpA94eKAeEuy0CxrzLoLJXLQGvX2s54+8tAJf+CtcRhzEDfJiucEMjMQJpO04JcLs1AVHZ7aaiUzUAOniNQ9PrNQMjFyzZAYc5Agu1zHYzHzkA8FRwE2C3PQPY8xOojlM9AsGRs0W/6z0A1RgrcXTDQQBJaXs+DY9BA8G2ywqmW0EDMgQa2z8nQQKqVWqn1/NBAh6munBsw0UBkvQKQQWPRQEHRVoNnltFAHuWqdo3J0UD7+P5ps/zRQNgMU13ZL9JAtSCnUP9i0kCSNPtDJZbSQG9ITzdLydJATFyjKnH80kAqcPcdly/TQAaESxG9YtNA5JefBOOV00DAq/P3CMnTQJ6/R+su/NNAe9Ob3lQv1EBY5+/RemLUQDX7Q8WgldRAEg+YuMbI1EDvIuyr7PvUQMw2QJ8SL9VAqUqUkjhi1UCGXuiFXpXVQGRyPHmEyNVAQIaQbKr71UAemuRf0C7WQPqtOFP2YdZA2MGMRhyV1kC01eA5QsjWQJLpNC1o+9ZAb/2III4u10BMEd0TtGHXQCklMQfalNdABjmF+v/H10DjTNntJfvXQMBgLeFLLthAnXSB1HFh2EB6iNXHl5TYQFicKbu9x9hANLB9ruP62EASxNGhCS7ZQO7XJZUvYdlAzOt5iFWU2UCo/817e8fZQIYTIm+h+tlAYyd2Ysct2kBAO8pV7WDaQB1PHkkTlNpA+mJyPDnH2kDXdsYvX/raQLSKGiOFLdtAkp5uFqtg20BussIJ0ZPbQEzGFv32xttAKNpq8Bz620AG7r7jQi3cQOIBE9doYNxAwBVnyo6T3ECdKbu9tMbcQHo9D7Ha+dxAV1FjpAAt3UA0ZbeXJmDdQBF5C4tMk91A7oxffnLG3UDLoLNxmPndQKi0B2W+LN5AhchbWORf3kBi3K9LCpPeQD/wAz8wxt5AHQRYMlb53kD6F6wlfCzfQNcrABmiX99AtD9UDMiS30CRU6j/7cXfQG5n/PIT+d9Apj0o8xwW4ECUR9Lsry/gQIJRfOZCSeBAcVsm4NVi4EBgZdDZaHzgQE5vetP7leBAPHkkzY6v4EArg87GIcngQBqNeMC04uBACJciukf84ED3oMyz2hXhQOaqdq1tL+FA1LQgpwBJ4UDCvsqgk2LhQLHIdJomfOFAoNIelLmV4UCO3MiNTK/hQHzmcoffyOFAa/AcgXLi4UBa+sZ6BfzhQEgEcXSYFeJANg4bbisv4kAmGMVnvkjiQBQib2FRYuJAAiwZW+R74kDxNcNUd5XiQOA/bU4Kr+JAzkkXSJ3I4kC8U8FBMOLiQKtdazvD++JAmmcVNVYV40CIcb8u6S7jQHZ7aSh8SONAZYUTIg9i40BUj70bonvjQEKZZxU1leNAMKMRD8iu40AgrbsIW8jjQA63ZQLu4eNA/MAP/ID740Dryrn1ExXkQNrUY++mLuRAyN4N6TlI5EC26LfizGHkQKXyYdxfe+RAlPwL1vKU5ECCBrbPha7kQHAQYMkYyORAXxoKw6vh5EBOJLS8PvvkQDwuXrbRFOVAKzgIsGQu5UAaQrKp90flQAhMXKOKYeVA9lUGnR175UDlX7CWsJTlQNRpWpBDruVAwnMEitbH5UCwfa6DaeHlQJ+HWH38+uVAjpECd48U5kB8m6xwIi7mQGqlVmq1R+ZAWq8AZEhh5kBIuapd23rmQDbDVFdulOZAJM3+UAGu5kAU16hKlMfmQALhUkQn4eZA8Or8Pbr65kDe9KY3TRTnQM7+UDHgLedAvAj7KnNH50CqEqUkBmHnQJocTx6ZeudAiCb5FyyU50B2MKMRv63nQGQ6TQtSx+dAVET3BOXg50BCTqH+d/rnQDBYS/gKFOhAHmL18Z0t6EAObJ/rMEfoQPx1SeXDYOhA6n/z3lZ66EDYiZ3Y6ZPoQMiTR9J8rehAtp3xyw/H6ECkp5vFouDoQJSxRb81+uhAgrvvuMgT6UBwxZmyWy3pQF7PQ6zuRulATtntpYFg6UA845efFHrpQCrtQZmnk+lAGPfrkjqt6UAIAZaMzcbpQPYKQIZg4OlA5BTqf/P56UDSHpR5hhPqQMIoPnMZLepAsDLobKxG6kCePJJmP2DqQI5GPGDSeepAfFDmWWWT6kBqWpBT+KzqQFhkOk2LxupASG7kRh7g6kA2eI5AsfnqQCSCODpEE+tAEoziM9cs60AClowtakbrQPCfNif9X+tA3qngIJB560DOs4oaI5PrQLy9NBS2rOtAqsfeDUnG60CY0YgH3N/rQIjbMgFv+etAduXc+gET7EBk74b0lCzsQFL5MO4nRuxAQgPb57pf7EAwDYXhTXnsQB4XL9vgkuxADCHZ1HOs7ED8KoPOBsbsQOo0LciZ3+xA2D7XwSz57EDISIG7vxLtQLZSK7VSLO1ApFzVruVF7UCSZn+oeF/tQIJwKaILee1AcHrTm56S7UBehH2VMaztQEyOJ4/Exe1APJjRiFff7UAqonuC6vjtQBisJXx9Eu5ABrbPdRAs7kD2v3lvo0XuQOTJI2k2X+5A0tPNYsl47kDC3XdcXJLuQLDnIVbvq+5AnvHLT4LF7kCM+3VJFd/uQHwFIEOo+O5Aag/KPDsS70BYGXQ2zivvQEYjHjBhRe9ANi3IKfRe70AkN3Ijh3jvQBJBHB0aku9AAEvGFq2r70DwVHAQQMXvQN5eGgrT3u9AzGjEA2b470BeObd+/AjwQFU+jPvFFfBATENheI8i8EBDSDb1WC/wQDtNC3IiPPBAMlLg7utI8EApV7VrtVXwQCBciuh+YvBAGGFfZUhv8EAPZjTiEXzwQAZrCV/biPBA/W/e26SV8ED1dLNYbqLwQOx5iNU3r/BA435dUgG88EDbgzLPysjwQNKIB0yU1fBAyY3cyF3i8EDAkrFFJ+/wQLiXhsLw+/BAr5xbP7oI8UCmoTC8gxXxQJ2mBTlNIvFAlavatRYv8UCMsK8y4DvxQIO1hK+pSPFAe7pZLHNV8UByvy6pPGLxQGnEAyYGb/FAYMnYos978UBYzq0fmYjxQE/TgpxilfFARthXGSyi8UA93SyW9a7xQDXiARO/u/FALOfWj4jI8UAj7KsMUtXxQBrxgIkb4vFAEvZVBuXu8UAJ+yqDrvvxQAAAAAB4CPJA",
          "dtype": "f8"
         },
         "xaxis": "x",
         "y": {
          "bdata": "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",
          "dtype": "f8"
         },
         "yaxis": "y"
        },
        {
         "line": {
          "color": "black",
          "dash": "dash"
         },
         "mode": "lines",
         "name": "Curva Normale Delta Prezzo",
         "type": "scatter",
         "x": {
          "bdata": "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",
          "dtype": "f8"
         },
         "xaxis": "x2",
         "y": {
          "bdata": "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",
          "dtype": "f8"
         },
         "yaxis": "y2"
        }
       ],
       "layout": {
        "annotations": [
         {
          "font": {
           "size": 16
          },
          "showarrow": false,
          "text": "Distribuzione di Prezzo Previsto",
          "x": 0.225,
          "xanchor": "center",
          "xref": "paper",
          "y": 1,
          "yanchor": "bottom",
          "yref": "paper"
         },
         {
          "font": {
           "size": 16
          },
          "showarrow": false,
          "text": "Distribuzione di Delta Prezzo",
          "x": 0.775,
          "xanchor": "center",
          "xref": "paper",
          "y": 1,
          "yanchor": "bottom",
          "yref": "paper"
         }
        ],
        "bargap": 0.05,
        "showlegend": true,
        "template": {
         "data": {
          "bar": [
           {
            "error_x": {
             "color": "#2a3f5f"
            },
            "error_y": {
             "color": "#2a3f5f"
            },
            "marker": {
             "line": {
              "color": "#E5ECF6",
              "width": 0.5
             },
             "pattern": {
              "fillmode": "overlay",
              "size": 10,
              "solidity": 0.2
             }
            },
            "type": "bar"
           }
          ],
          "barpolar": [
           {
            "marker": {
             "line": {
              "color": "#E5ECF6",
              "width": 0.5
             },
             "pattern": {
              "fillmode": "overlay",
              "size": 10,
              "solidity": 0.2
             }
            },
            "type": "barpolar"
           }
          ],
          "carpet": [
           {
            "aaxis": {
             "endlinecolor": "#2a3f5f",
             "gridcolor": "white",
             "linecolor": "white",
             "minorgridcolor": "white",
             "startlinecolor": "#2a3f5f"
            },
            "baxis": {
             "endlinecolor": "#2a3f5f",
             "gridcolor": "white",
             "linecolor": "white",
             "minorgridcolor": "white",
             "startlinecolor": "#2a3f5f"
            },
            "type": "carpet"
           }
          ],
          "choropleth": [
           {
            "colorbar": {
             "outlinewidth": 0,
             "ticks": ""
            },
            "type": "choropleth"
           }
          ],
          "contour": [
           {
            "colorbar": {
             "outlinewidth": 0,
             "ticks": ""
            },
            "colorscale": [
             [
              0,
              "#0d0887"
             ],
             [
              0.1111111111111111,
              "#46039f"
             ],
             [
              0.2222222222222222,
              "#7201a8"
             ],
             [
              0.3333333333333333,
              "#9c179e"
             ],
             [
              0.4444444444444444,
              "#bd3786"
             ],
             [
              0.5555555555555556,
              "#d8576b"
             ],
             [
              0.6666666666666666,
              "#ed7953"
             ],
             [
              0.7777777777777778,
              "#fb9f3a"
             ],
             [
              0.8888888888888888,
              "#fdca26"
             ],
             [
              1,
              "#f0f921"
             ]
            ],
            "type": "contour"
           }
          ],
          "contourcarpet": [
           {
            "colorbar": {
             "outlinewidth": 0,
             "ticks": ""
            },
            "type": "contourcarpet"
           }
          ],
          "heatmap": [
           {
            "colorbar": {
             "outlinewidth": 0,
             "ticks": ""
            },
            "colorscale": [
             [
              0,
              "#0d0887"
             ],
             [
              0.1111111111111111,
              "#46039f"
             ],
             [
              0.2222222222222222,
              "#7201a8"
             ],
             [
              0.3333333333333333,
              "#9c179e"
             ],
             [
              0.4444444444444444,
              "#bd3786"
             ],
             [
              0.5555555555555556,
              "#d8576b"
             ],
             [
              0.6666666666666666,
              "#ed7953"
             ],
             [
              0.7777777777777778,
              "#fb9f3a"
             ],
             [
              0.8888888888888888,
              "#fdca26"
             ],
             [
              1,
              "#f0f921"
             ]
            ],
            "type": "heatmap"
           }
          ],
          "histogram": [
           {
            "marker": {
             "pattern": {
              "fillmode": "overlay",
              "size": 10,
              "solidity": 0.2
             }
            },
            "type": "histogram"
           }
          ],
          "histogram2d": [
           {
            "colorbar": {
             "outlinewidth": 0,
             "ticks": ""
            },
            "colorscale": [
             [
              0,
              "#0d0887"
             ],
             [
              0.1111111111111111,
              "#46039f"
             ],
             [
              0.2222222222222222,
              "#7201a8"
             ],
             [
              0.3333333333333333,
              "#9c179e"
             ],
             [
              0.4444444444444444,
              "#bd3786"
             ],
             [
              0.5555555555555556,
              "#d8576b"
             ],
             [
              0.6666666666666666,
              "#ed7953"
             ],
             [
              0.7777777777777778,
              "#fb9f3a"
             ],
             [
              0.8888888888888888,
              "#fdca26"
             ],
             [
              1,
              "#f0f921"
             ]
            ],
            "type": "histogram2d"
           }
          ],
          "histogram2dcontour": [
           {
            "colorbar": {
             "outlinewidth": 0,
             "ticks": ""
            },
            "colorscale": [
             [
              0,
              "#0d0887"
             ],
             [
              0.1111111111111111,
              "#46039f"
             ],
             [
              0.2222222222222222,
              "#7201a8"
             ],
             [
              0.3333333333333333,
              "#9c179e"
             ],
             [
              0.4444444444444444,
              "#bd3786"
             ],
             [
              0.5555555555555556,
              "#d8576b"
             ],
             [
              0.6666666666666666,
              "#ed7953"
             ],
             [
              0.7777777777777778,
              "#fb9f3a"
             ],
             [
              0.8888888888888888,
              "#fdca26"
             ],
             [
              1,
              "#f0f921"
             ]
            ],
            "type": "histogram2dcontour"
           }
          ],
          "mesh3d": [
           {
            "colorbar": {
             "outlinewidth": 0,
             "ticks": ""
            },
            "type": "mesh3d"
           }
          ],
          "parcoords": [
           {
            "line": {
             "colorbar": {
              "outlinewidth": 0,
              "ticks": ""
             }
            },
            "type": "parcoords"
           }
          ],
          "pie": [
           {
            "automargin": true,
            "type": "pie"
           }
          ],
          "scatter": [
           {
            "fillpattern": {
             "fillmode": "overlay",
             "size": 10,
             "solidity": 0.2
            },
            "type": "scatter"
           }
          ],
          "scatter3d": [
           {
            "line": {
             "colorbar": {
              "outlinewidth": 0,
              "ticks": ""
             }
            },
            "marker": {
             "colorbar": {
              "outlinewidth": 0,
              "ticks": ""
             }
            },
            "type": "scatter3d"
           }
          ],
          "scattercarpet": [
           {
            "marker": {
             "colorbar": {
              "outlinewidth": 0,
              "ticks": ""
             }
            },
            "type": "scattercarpet"
           }
          ],
          "scattergeo": [
           {
            "marker": {
             "colorbar": {
              "outlinewidth": 0,
              "ticks": ""
             }
            },
            "type": "scattergeo"
           }
          ],
          "scattergl": [
           {
            "marker": {
             "colorbar": {
              "outlinewidth": 0,
              "ticks": ""
             }
            },
            "type": "scattergl"
           }
          ],
          "scattermap": [
           {
            "marker": {
             "colorbar": {
              "outlinewidth": 0,
              "ticks": ""
             }
            },
            "type": "scattermap"
           }
          ],
          "scattermapbox": [
           {
            "marker": {
             "colorbar": {
              "outlinewidth": 0,
              "ticks": ""
             }
            },
            "type": "scattermapbox"
           }
          ],
          "scatterpolar": [
           {
            "marker": {
             "colorbar": {
              "outlinewidth": 0,
              "ticks": ""
             }
            },
            "type": "scatterpolar"
           }
          ],
          "scatterpolargl": [
           {
            "marker": {
             "colorbar": {
              "outlinewidth": 0,
              "ticks": ""
             }
            },
            "type": "scatterpolargl"
           }
          ],
          "scatterternary": [
           {
            "marker": {
             "colorbar": {
              "outlinewidth": 0,
              "ticks": ""
             }
            },
            "type": "scatterternary"
           }
          ],
          "surface": [
           {
            "colorbar": {
             "outlinewidth": 0,
             "ticks": ""
            },
            "colorscale": [
             [
              0,
              "#0d0887"
             ],
             [
              0.1111111111111111,
              "#46039f"
             ],
             [
              0.2222222222222222,
              "#7201a8"
             ],
             [
              0.3333333333333333,
              "#9c179e"
             ],
             [
              0.4444444444444444,
              "#bd3786"
             ],
             [
              0.5555555555555556,
              "#d8576b"
             ],
             [
              0.6666666666666666,
              "#ed7953"
             ],
             [
              0.7777777777777778,
              "#fb9f3a"
             ],
             [
              0.8888888888888888,
              "#fdca26"
             ],
             [
              1,
              "#f0f921"
             ]
            ],
            "type": "surface"
           }
          ],
          "table": [
           {
            "cells": {
             "fill": {
              "color": "#EBF0F8"
             },
             "line": {
              "color": "white"
             }
            },
            "header": {
             "fill": {
              "color": "#C8D4E3"
             },
             "line": {
              "color": "white"
             }
            },
            "type": "table"
           }
          ]
         },
         "layout": {
          "annotationdefaults": {
           "arrowcolor": "#2a3f5f",
           "arrowhead": 0,
           "arrowwidth": 1
          },
          "autotypenumbers": "strict",
          "coloraxis": {
           "colorbar": {
            "outlinewidth": 0,
            "ticks": ""
           }
          },
          "colorscale": {
           "diverging": [
            [
             0,
             "#8e0152"
            ],
            [
             0.1,
             "#c51b7d"
            ],
            [
             0.2,
             "#de77ae"
            ],
            [
             0.3,
             "#f1b6da"
            ],
            [
             0.4,
             "#fde0ef"
            ],
            [
             0.5,
             "#f7f7f7"
            ],
            [
             0.6,
             "#e6f5d0"
            ],
            [
             0.7,
             "#b8e186"
            ],
            [
             0.8,
             "#7fbc41"
            ],
            [
             0.9,
             "#4d9221"
            ],
            [
             1,
             "#276419"
            ]
           ],
           "sequential": [
            [
             0,
             "#0d0887"
            ],
            [
             0.1111111111111111,
             "#46039f"
            ],
            [
             0.2222222222222222,
             "#7201a8"
            ],
            [
             0.3333333333333333,
             "#9c179e"
            ],
            [
             0.4444444444444444,
             "#bd3786"
            ],
            [
             0.5555555555555556,
             "#d8576b"
            ],
            [
             0.6666666666666666,
             "#ed7953"
            ],
            [
             0.7777777777777778,
             "#fb9f3a"
            ],
            [
             0.8888888888888888,
             "#fdca26"
            ],
            [
             1,
             "#f0f921"
            ]
           ],
           "sequentialminus": [
            [
             0,
             "#0d0887"
            ],
            [
             0.1111111111111111,
             "#46039f"
            ],
            [
             0.2222222222222222,
             "#7201a8"
            ],
            [
             0.3333333333333333,
             "#9c179e"
            ],
            [
             0.4444444444444444,
             "#bd3786"
            ],
            [
             0.5555555555555556,
             "#d8576b"
            ],
            [
             0.6666666666666666,
             "#ed7953"
            ],
            [
             0.7777777777777778,
             "#fb9f3a"
            ],
            [
             0.8888888888888888,
             "#fdca26"
            ],
            [
             1,
             "#f0f921"
            ]
           ]
          },
          "colorway": [
           "#636efa",
           "#EF553B",
           "#00cc96",
           "#ab63fa",
           "#FFA15A",
           "#19d3f3",
           "#FF6692",
           "#B6E880",
           "#FF97FF",
           "#FECB52"
          ],
          "font": {
           "color": "#2a3f5f"
          },
          "geo": {
           "bgcolor": "white",
           "lakecolor": "white",
           "landcolor": "#E5ECF6",
           "showlakes": true,
           "showland": true,
           "subunitcolor": "white"
          },
          "hoverlabel": {
           "align": "left"
          },
          "hovermode": "closest",
          "mapbox": {
           "style": "light"
          },
          "paper_bgcolor": "white",
          "plot_bgcolor": "#E5ECF6",
          "polar": {
           "angularaxis": {
            "gridcolor": "white",
            "linecolor": "white",
            "ticks": ""
           },
           "bgcolor": "#E5ECF6",
           "radialaxis": {
            "gridcolor": "white",
            "linecolor": "white",
            "ticks": ""
           }
          },
          "scene": {
           "xaxis": {
            "backgroundcolor": "#E5ECF6",
            "gridcolor": "white",
            "gridwidth": 2,
            "linecolor": "white",
            "showbackground": true,
            "ticks": "",
            "zerolinecolor": "white"
           },
           "yaxis": {
            "backgroundcolor": "#E5ECF6",
            "gridcolor": "white",
            "gridwidth": 2,
            "linecolor": "white",
            "showbackground": true,
            "ticks": "",
            "zerolinecolor": "white"
           },
           "zaxis": {
            "backgroundcolor": "#E5ECF6",
            "gridcolor": "white",
            "gridwidth": 2,
            "linecolor": "white",
            "showbackground": true,
            "ticks": "",
            "zerolinecolor": "white"
           }
          },
          "shapedefaults": {
           "line": {
            "color": "#2a3f5f"
           }
          },
          "ternary": {
           "aaxis": {
            "gridcolor": "white",
            "linecolor": "white",
            "ticks": ""
           },
           "baxis": {
            "gridcolor": "white",
            "linecolor": "white",
            "ticks": ""
           },
           "bgcolor": "#E5ECF6",
           "caxis": {
            "gridcolor": "white",
            "linecolor": "white",
            "ticks": ""
           }
          },
          "title": {
           "x": 0.05
          },
          "xaxis": {
           "automargin": true,
           "gridcolor": "white",
           "linecolor": "white",
           "ticks": "",
           "title": {
            "standoff": 15
           },
           "zerolinecolor": "white",
           "zerolinewidth": 2
          },
          "yaxis": {
           "automargin": true,
           "gridcolor": "white",
           "linecolor": "white",
           "ticks": "",
           "title": {
            "standoff": 15
           },
           "zerolinecolor": "white",
           "zerolinewidth": 2
          }
         }
        },
        "title": {
         "font": {
          "family": "Arial",
          "size": 20,
          "weight": "bold"
         },
         "text": "Distribuzione delle variabili Prezzo Previsto e Delta Prezzo",
         "x": 0.5,
         "xanchor": "center"
        },
        "xaxis": {
         "anchor": "y",
         "domain": [
          0,
          0.45
         ]
        },
        "xaxis2": {
         "anchor": "y2",
         "domain": [
          0.55,
          1
         ]
        },
        "yaxis": {
         "anchor": "x",
         "domain": [
          0,
          1
         ]
        },
        "yaxis2": {
         "anchor": "x2",
         "domain": [
          0,
          1
         ]
        }
       }
      }
     },
     "metadata": {},
     "output_type": "display_data"
    }
   ],
   "source": [
    "plot_price_prediction_distributions(data_ml)"
   ]
  },
  {
   "cell_type": "code",
   "execution_count": 9,
   "id": "992b4a51",
   "metadata": {},
   "outputs": [],
   "source": [
    "#is_conveniente_class_report(data_ml)"
   ]
  },
  {
   "cell_type": "markdown",
   "id": "234eb0ec",
   "metadata": {},
   "source": [
    "### 3. Indice di attendibilità"
   ]
  },
  {
   "cell_type": "code",
   "execution_count": 10,
   "id": "d5b7b4ed",
   "metadata": {},
   "outputs": [],
   "source": [
    "#Prezzo soglia: prezzo oltre il quale il punteggio di attendibilità diminuisce\n",
    "prezzo_soglia=35000\n",
    "\n",
    "#Valori per il calcolo indice di attendibilità\n",
    "valore_idx_anni = 0.025\n",
    "valore_idx_prezzo = 0.15\n",
    "valore_idx_km= 0.15 \n",
    "valore_idx_dist = 0.10 \n",
    "valore_idx_allestimento= 0.25 \n",
    "valore_idx_cv =0.025\n",
    "valore_idx_cambio = 0.20 "
   ]
  },
  {
   "cell_type": "code",
   "execution_count": 11,
   "id": "6d250988",
   "metadata": {},
   "outputs": [],
   "source": [
    "df = indice_appetibilita(data, y_pred, prezzo_soglia, valore_idx_anni, valore_idx_prezzo, valore_idx_km, \n",
    "                           valore_idx_dist, valore_idx_allestimento, valore_idx_cv, valore_idx_cambio, \n",
    "                           allestimento_performance, allestimento_sport,allestimento_middle,allestimento_base)"
   ]
  },
  {
   "cell_type": "code",
   "execution_count": 12,
   "id": "e94688f0",
   "metadata": {},
   "outputs": [
    {
     "name": "stdout",
     "output_type": "stream",
     "text": [
      "Le migliori 20 auto secondo l'indice di appetibilità sono:\n"
     ]
    },
    {
     "data": {
      "text/html": [
       "Indice 0.81 → <a href='https://www.autoscout24.it/annunci/mercedes-benz-a-180-premium-amg-vari-colori-e-allestimenti-disponibili-benzina-bianco-279e09b8-8955-4575-a8f9-bd819d14d05b' target='_blank'>https://www.autoscout24.it/annunci/mercedes-benz-a-180-premium-amg-vari-colori-e-allestimenti-disponibili-benzina-bianco-279e09b8-8955-4575-a8f9-bd819d14d05b</a>"
      ],
      "text/plain": [
       "<IPython.core.display.HTML object>"
      ]
     },
     "metadata": {},
     "output_type": "display_data"
    },
    {
     "data": {
      "text/html": [
       "Indice 0.81 → <a href='https://www.autoscout24.it/annunci/mercedes-benz-a-200-premium-auto-benzina-f00429ee-393b-4e77-9845-173b96904071' target='_blank'>https://www.autoscout24.it/annunci/mercedes-benz-a-200-premium-auto-benzina-f00429ee-393b-4e77-9845-173b96904071</a>"
      ],
      "text/plain": [
       "<IPython.core.display.HTML object>"
      ]
     },
     "metadata": {},
     "output_type": "display_data"
    },
    {
     "data": {
      "text/html": [
       "Indice 0.80 → <a href='https://www.autoscout24.it/annunci/mercedes-benz-a-180-d-premium-amg-automatic-diesel-argento-689da2be-3dbc-4d6c-97fe-d58f791d68bd' target='_blank'>https://www.autoscout24.it/annunci/mercedes-benz-a-180-d-premium-amg-automatic-diesel-argento-689da2be-3dbc-4d6c-97fe-d58f791d68bd</a>"
      ],
      "text/plain": [
       "<IPython.core.display.HTML object>"
      ]
     },
     "metadata": {},
     "output_type": "display_data"
    },
    {
     "data": {
      "text/html": [
       "Indice 0.80 → <a href='https://www.autoscout24.it/annunci/mercedes-benz-a-180-mhv-premium-amg-automatic-elettrica-benzina-bianco-7715c756-5db5-4ca2-9892-dba4f072beae' target='_blank'>https://www.autoscout24.it/annunci/mercedes-benz-a-180-mhv-premium-amg-automatic-elettrica-benzina-bianco-7715c756-5db5-4ca2-9892-dba4f072beae</a>"
      ],
      "text/plain": [
       "<IPython.core.display.HTML object>"
      ]
     },
     "metadata": {},
     "output_type": "display_data"
    },
    {
     "data": {
      "text/html": [
       "Indice 0.80 → <a href='https://www.autoscout24.it/annunci/mercedes-benz-a-180-mhv-premium-amg-automatic-elettrica-benzina-bianco-442dd826-fa42-48c3-b9ad-200dd71da3b7' target='_blank'>https://www.autoscout24.it/annunci/mercedes-benz-a-180-mhv-premium-amg-automatic-elettrica-benzina-bianco-442dd826-fa42-48c3-b9ad-200dd71da3b7</a>"
      ],
      "text/plain": [
       "<IPython.core.display.HTML object>"
      ]
     },
     "metadata": {},
     "output_type": "display_data"
    },
    {
     "data": {
      "text/html": [
       "Indice 0.80 → <a href='https://www.autoscout24.it/annunci/mercedes-benz-a-180-mhv-premium-amg-automatic-elettrica-benzina-nero-dbba7316-1e41-41e0-bf7b-1b0e32aabb6e' target='_blank'>https://www.autoscout24.it/annunci/mercedes-benz-a-180-mhv-premium-amg-automatic-elettrica-benzina-nero-dbba7316-1e41-41e0-bf7b-1b0e32aabb6e</a>"
      ],
      "text/plain": [
       "<IPython.core.display.HTML object>"
      ]
     },
     "metadata": {},
     "output_type": "display_data"
    },
    {
     "data": {
      "text/html": [
       "Indice 0.80 → <a href='https://www.autoscout24.it/annunci/mercedes-benz-a-180-amg-premium-led-night-vari-colori-benzina-grigio-c15eb4ba-0790-45d0-be89-a553460f06dd' target='_blank'>https://www.autoscout24.it/annunci/mercedes-benz-a-180-amg-premium-led-night-vari-colori-benzina-grigio-c15eb4ba-0790-45d0-be89-a553460f06dd</a>"
      ],
      "text/plain": [
       "<IPython.core.display.HTML object>"
      ]
     },
     "metadata": {},
     "output_type": "display_data"
    },
    {
     "data": {
      "text/html": [
       "Indice 0.80 → <a href='https://www.autoscout24.it/annunci/mercedes-benz-a-180-premium-amg-pack-luci-vari-colori-e-allestimenti-benzina-nero-4e25643a-25da-4c84-9090-5da53d619afb' target='_blank'>https://www.autoscout24.it/annunci/mercedes-benz-a-180-premium-amg-pack-luci-vari-colori-e-allestimenti-benzina-nero-4e25643a-25da-4c84-9090-5da53d619afb</a>"
      ],
      "text/plain": [
       "<IPython.core.display.HTML object>"
      ]
     },
     "metadata": {},
     "output_type": "display_data"
    },
    {
     "data": {
      "text/html": [
       "Indice 0.80 → <a href='https://www.autoscout24.it/annunci/mercedes-benz-a-250-e-premium-vari-colori-e-allestimenti-full-elettrica-benzina-bianco-627fe55c-5cdd-43bf-9add-f8f64d4de3fc' target='_blank'>https://www.autoscout24.it/annunci/mercedes-benz-a-250-e-premium-vari-colori-e-allestimenti-full-elettrica-benzina-bianco-627fe55c-5cdd-43bf-9add-f8f64d4de3fc</a>"
      ],
      "text/plain": [
       "<IPython.core.display.HTML object>"
      ]
     },
     "metadata": {},
     "output_type": "display_data"
    },
    {
     "data": {
      "text/html": [
       "Indice 0.80 → <a href='https://www.autoscout24.it/annunci/mercedes-benz-a-180-a-180-d-premium-auto-diesel-nero-06e18250-e623-4e87-bfda-569bff8627ac' target='_blank'>https://www.autoscout24.it/annunci/mercedes-benz-a-180-a-180-d-premium-auto-diesel-nero-06e18250-e623-4e87-bfda-569bff8627ac</a>"
      ],
      "text/plain": [
       "<IPython.core.display.HTML object>"
      ]
     },
     "metadata": {},
     "output_type": "display_data"
    },
    {
     "data": {
      "text/html": [
       "Indice 0.80 → <a href='https://www.autoscout24.it/annunci/mercedes-benz-a-180-amg-line-advanced-plus-auto-benzina-bianco-40d0f223-3863-4639-8f34-e0e5799ef465' target='_blank'>https://www.autoscout24.it/annunci/mercedes-benz-a-180-amg-line-advanced-plus-auto-benzina-bianco-40d0f223-3863-4639-8f34-e0e5799ef465</a>"
      ],
      "text/plain": [
       "<IPython.core.display.HTML object>"
      ]
     },
     "metadata": {},
     "output_type": "display_data"
    },
    {
     "data": {
      "text/html": [
       "Indice 0.80 → <a href='https://www.automobile.it/altavilla-vicentina-mercedes-benz-180-d-premium-amg-automatic/178652334' target='_blank'>https://www.automobile.it/altavilla-vicentina-mercedes-benz-180-d-premium-amg-automatic/178652334</a>"
      ],
      "text/plain": [
       "<IPython.core.display.HTML object>"
      ]
     },
     "metadata": {},
     "output_type": "display_data"
    },
    {
     "data": {
      "text/html": [
       "Indice 0.80 → <a href='https://www.automobile.it/altavilla-vicentina-mercedes-benz-180-mhv-premium-amg-automatic/179706330' target='_blank'>https://www.automobile.it/altavilla-vicentina-mercedes-benz-180-mhv-premium-amg-automatic/179706330</a>"
      ],
      "text/plain": [
       "<IPython.core.display.HTML object>"
      ]
     },
     "metadata": {},
     "output_type": "display_data"
    },
    {
     "data": {
      "text/html": [
       "Indice 0.80 → <a href='https://www.automobile.it/altavilla-vicentina-mercedes-benz-180-mhv-premium-amg-automatic/179706326' target='_blank'>https://www.automobile.it/altavilla-vicentina-mercedes-benz-180-mhv-premium-amg-automatic/179706326</a>"
      ],
      "text/plain": [
       "<IPython.core.display.HTML object>"
      ]
     },
     "metadata": {},
     "output_type": "display_data"
    },
    {
     "data": {
      "text/html": [
       "Indice 0.80 → <a href='https://autosupermarket.it/annunci/mercedes-benz-classe-a-180-amg-ibrida-2024-a78805f592477146?search=https://autosupermarket.it/ricerca/mercedes/classe-a/anno-da-2018?t%3D9f4dom%26page%3D25' target='_blank'>https://autosupermarket.it/annunci/mercedes-benz-classe-a-180-amg-ibrida-2024-a78805f592477146?search=https://autosupermarket.it/ricerca/mercedes/classe-a/anno-da-2018?t%3D9f4dom%26page%3D25</a>"
      ],
      "text/plain": [
       "<IPython.core.display.HTML object>"
      ]
     },
     "metadata": {},
     "output_type": "display_data"
    },
    {
     "data": {
      "text/html": [
       "Indice 0.80 → <a href='https://autosupermarket.it/annunci/mercedes-benz-classe-a-180-amg-ibrida-2024-9a551e196ffad22a?search=https://autosupermarket.it/ricerca/mercedes/classe-a/anno-da-2018?t%3D9f4dom%26page%3D30' target='_blank'>https://autosupermarket.it/annunci/mercedes-benz-classe-a-180-amg-ibrida-2024-9a551e196ffad22a?search=https://autosupermarket.it/ricerca/mercedes/classe-a/anno-da-2018?t%3D9f4dom%26page%3D30</a>"
      ],
      "text/plain": [
       "<IPython.core.display.HTML object>"
      ]
     },
     "metadata": {},
     "output_type": "display_data"
    },
    {
     "data": {
      "text/html": [
       "Indice 0.79 → <a href='https://www.autoscout24.it/annunci/mercedes-benz-a-200-d-automatic-premium-diesel-nero-c652186a-2e80-4321-9e80-69f68ba07fbd' target='_blank'>https://www.autoscout24.it/annunci/mercedes-benz-a-200-d-automatic-premium-diesel-nero-c652186a-2e80-4321-9e80-69f68ba07fbd</a>"
      ],
      "text/plain": [
       "<IPython.core.display.HTML object>"
      ]
     },
     "metadata": {},
     "output_type": "display_data"
    },
    {
     "data": {
      "text/html": [
       "Indice 0.79 → <a href='https://www.autoscout24.it/annunci/mercedes-benz-a-180-amg-line-premium-benzina-nero-cc4aebb2-45d8-495c-bcb5-63442e43c011' target='_blank'>https://www.autoscout24.it/annunci/mercedes-benz-a-180-amg-line-premium-benzina-nero-cc4aebb2-45d8-495c-bcb5-63442e43c011</a>"
      ],
      "text/plain": [
       "<IPython.core.display.HTML object>"
      ]
     },
     "metadata": {},
     "output_type": "display_data"
    },
    {
     "data": {
      "text/html": [
       "Indice 0.79 → <a href='https://www.autoscout24.it/annunci/mercedes-benz-a-180-premium-auto-benzina-argento-fbbf9d77-54ca-4f1e-bfb7-d40356cef162' target='_blank'>https://www.autoscout24.it/annunci/mercedes-benz-a-180-premium-auto-benzina-argento-fbbf9d77-54ca-4f1e-bfb7-d40356cef162</a>"
      ],
      "text/plain": [
       "<IPython.core.display.HTML object>"
      ]
     },
     "metadata": {},
     "output_type": "display_data"
    },
    {
     "data": {
      "text/html": [
       "Indice 0.79 → <a href='https://www.autoscout24.it/annunci/mercedes-benz-a-180-180-d-premium-night-edition-auto-diesel-nero-eea37385-576a-42ca-8156-d88539b2e6b3' target='_blank'>https://www.autoscout24.it/annunci/mercedes-benz-a-180-180-d-premium-night-edition-auto-diesel-nero-eea37385-576a-42ca-8156-d88539b2e6b3</a>"
      ],
      "text/plain": [
       "<IPython.core.display.HTML object>"
      ]
     },
     "metadata": {},
     "output_type": "display_data"
    },
    {
     "name": "stdout",
     "output_type": "stream",
     "text": [
      "\n"
     ]
    },
    {
     "data": {
      "text/html": [
       "<div>\n",
       "<style scoped>\n",
       "    .dataframe tbody tr th:only-of-type {\n",
       "        vertical-align: middle;\n",
       "    }\n",
       "\n",
       "    .dataframe tbody tr th {\n",
       "        vertical-align: top;\n",
       "    }\n",
       "\n",
       "    .dataframe thead th {\n",
       "        text-align: right;\n",
       "    }\n",
       "</style>\n",
       "<table border=\"1\" class=\"dataframe\">\n",
       "  <thead>\n",
       "    <tr style=\"text-align: right;\">\n",
       "      <th></th>\n",
       "      <th>Annuncio</th>\n",
       "      <th>Link</th>\n",
       "      <th>Prezzo</th>\n",
       "      <th>Anni</th>\n",
       "      <th>Immatricolazione</th>\n",
       "      <th>Chilometraggio</th>\n",
       "      <th>Cambio</th>\n",
       "      <th>Carburante</th>\n",
       "      <th>CV</th>\n",
       "      <th>Allestimento</th>\n",
       "      <th>...</th>\n",
       "      <th>Venditore</th>\n",
       "      <th>Distanza</th>\n",
       "      <th>Comune</th>\n",
       "      <th>CAP</th>\n",
       "      <th>Regione</th>\n",
       "      <th>Area</th>\n",
       "      <th>Indice_Appetibilità</th>\n",
       "      <th>prezzo_previsto</th>\n",
       "      <th>delta_prezzo</th>\n",
       "      <th>is_conveniente</th>\n",
       "    </tr>\n",
       "  </thead>\n",
       "  <tbody>\n",
       "    <tr>\n",
       "      <th>41</th>\n",
       "      <td>Mercedes-Benz A 180 Premium AMG VARI COLORI E ...</td>\n",
       "      <td>https://www.autoscout24.it/annunci/mercedes-be...</td>\n",
       "      <td>29900</td>\n",
       "      <td>1</td>\n",
       "      <td>2024</td>\n",
       "      <td>15500</td>\n",
       "      <td>automatico</td>\n",
       "      <td>Benzina</td>\n",
       "      <td>150</td>\n",
       "      <td>AMG line</td>\n",
       "      <td>...</td>\n",
       "      <td>Rivenditore</td>\n",
       "      <td>77</td>\n",
       "      <td>arcole</td>\n",
       "      <td>37040</td>\n",
       "      <td>Veneto</td>\n",
       "      <td>Nord-est</td>\n",
       "      <td>0.81</td>\n",
       "      <td>31985.50</td>\n",
       "      <td>2085.50</td>\n",
       "      <td>1</td>\n",
       "    </tr>\n",
       "    <tr>\n",
       "      <th>261</th>\n",
       "      <td>Mercedes-Benz A 200 Premium auto</td>\n",
       "      <td>https://www.autoscout24.it/annunci/mercedes-be...</td>\n",
       "      <td>27800</td>\n",
       "      <td>1</td>\n",
       "      <td>2024</td>\n",
       "      <td>38000</td>\n",
       "      <td>automatico</td>\n",
       "      <td>Benzina</td>\n",
       "      <td>150</td>\n",
       "      <td>AMG line</td>\n",
       "      <td>...</td>\n",
       "      <td>Privato</td>\n",
       "      <td>25</td>\n",
       "      <td>bologna</td>\n",
       "      <td>40141</td>\n",
       "      <td>Emilia-Romagna</td>\n",
       "      <td>Nord-est</td>\n",
       "      <td>0.81</td>\n",
       "      <td>30246.79</td>\n",
       "      <td>2446.79</td>\n",
       "      <td>1</td>\n",
       "    </tr>\n",
       "    <tr>\n",
       "      <th>9</th>\n",
       "      <td>Mercedes-Benz A 180 d PREMIUM AMG AUTOMATIC</td>\n",
       "      <td>https://www.autoscout24.it/annunci/mercedes-be...</td>\n",
       "      <td>29900</td>\n",
       "      <td>3</td>\n",
       "      <td>2022</td>\n",
       "      <td>11500</td>\n",
       "      <td>automatico</td>\n",
       "      <td>Diesel</td>\n",
       "      <td>150</td>\n",
       "      <td>AMG line</td>\n",
       "      <td>...</td>\n",
       "      <td>Rivenditore</td>\n",
       "      <td>97</td>\n",
       "      <td>altavilla vicentina</td>\n",
       "      <td>36077</td>\n",
       "      <td>Veneto</td>\n",
       "      <td>Nord-est</td>\n",
       "      <td>0.80</td>\n",
       "      <td>32674.07</td>\n",
       "      <td>2774.07</td>\n",
       "      <td>1</td>\n",
       "    </tr>\n",
       "    <tr>\n",
       "      <th>10</th>\n",
       "      <td>Mercedes-Benz A 180 MHV PREMIUM AMG AUTOMATIC</td>\n",
       "      <td>https://www.autoscout24.it/annunci/mercedes-be...</td>\n",
       "      <td>30900</td>\n",
       "      <td>1</td>\n",
       "      <td>2024</td>\n",
       "      <td>23824</td>\n",
       "      <td>automatico</td>\n",
       "      <td>Ibrido</td>\n",
       "      <td>150</td>\n",
       "      <td>AMG line</td>\n",
       "      <td>...</td>\n",
       "      <td>Rivenditore</td>\n",
       "      <td>97</td>\n",
       "      <td>altavilla vicentina</td>\n",
       "      <td>36077</td>\n",
       "      <td>Veneto</td>\n",
       "      <td>Nord-est</td>\n",
       "      <td>0.80</td>\n",
       "      <td>31591.50</td>\n",
       "      <td>691.50</td>\n",
       "      <td>1</td>\n",
       "    </tr>\n",
       "    <tr>\n",
       "      <th>32</th>\n",
       "      <td>Mercedes-Benz A 180 MHV PREMIUM AMG AUTOMATIC</td>\n",
       "      <td>https://www.autoscout24.it/annunci/mercedes-be...</td>\n",
       "      <td>31700</td>\n",
       "      <td>1</td>\n",
       "      <td>2024</td>\n",
       "      <td>14728</td>\n",
       "      <td>automatico</td>\n",
       "      <td>Ibrido</td>\n",
       "      <td>150</td>\n",
       "      <td>AMG line</td>\n",
       "      <td>...</td>\n",
       "      <td>Rivenditore</td>\n",
       "      <td>97</td>\n",
       "      <td>altavilla vicentina</td>\n",
       "      <td>36077</td>\n",
       "      <td>Veneto</td>\n",
       "      <td>Nord-est</td>\n",
       "      <td>0.80</td>\n",
       "      <td>36589.00</td>\n",
       "      <td>4889.00</td>\n",
       "      <td>1</td>\n",
       "    </tr>\n",
       "    <tr>\n",
       "      <th>33</th>\n",
       "      <td>Mercedes-Benz A 180 MHV PREMIUM AMG AUTOMATIC</td>\n",
       "      <td>https://www.autoscout24.it/annunci/mercedes-be...</td>\n",
       "      <td>31900</td>\n",
       "      <td>1</td>\n",
       "      <td>2024</td>\n",
       "      <td>23818</td>\n",
       "      <td>automatico</td>\n",
       "      <td>Ibrido</td>\n",
       "      <td>150</td>\n",
       "      <td>AMG line</td>\n",
       "      <td>...</td>\n",
       "      <td>Rivenditore</td>\n",
       "      <td>97</td>\n",
       "      <td>altavilla vicentina</td>\n",
       "      <td>36077</td>\n",
       "      <td>Veneto</td>\n",
       "      <td>Nord-est</td>\n",
       "      <td>0.80</td>\n",
       "      <td>32151.50</td>\n",
       "      <td>251.50</td>\n",
       "      <td>1</td>\n",
       "    </tr>\n",
       "    <tr>\n",
       "      <th>40</th>\n",
       "      <td>Mercedes-Benz A 180 AMG PREMIUM LED NIGHT VARI...</td>\n",
       "      <td>https://www.autoscout24.it/annunci/mercedes-be...</td>\n",
       "      <td>28800</td>\n",
       "      <td>3</td>\n",
       "      <td>2022</td>\n",
       "      <td>23400</td>\n",
       "      <td>automatico</td>\n",
       "      <td>Benzina</td>\n",
       "      <td>150</td>\n",
       "      <td>AMG line</td>\n",
       "      <td>...</td>\n",
       "      <td>Rivenditore</td>\n",
       "      <td>77</td>\n",
       "      <td>arcole</td>\n",
       "      <td>37040</td>\n",
       "      <td>Veneto</td>\n",
       "      <td>Nord-est</td>\n",
       "      <td>0.80</td>\n",
       "      <td>29801.00</td>\n",
       "      <td>1001.00</td>\n",
       "      <td>1</td>\n",
       "    </tr>\n",
       "    <tr>\n",
       "      <th>42</th>\n",
       "      <td>Mercedes-Benz A 180 PREMIUM AMG PACK LUCI VARI...</td>\n",
       "      <td>https://www.autoscout24.it/annunci/mercedes-be...</td>\n",
       "      <td>30500</td>\n",
       "      <td>2</td>\n",
       "      <td>2023</td>\n",
       "      <td>19000</td>\n",
       "      <td>automatico</td>\n",
       "      <td>Benzina</td>\n",
       "      <td>150</td>\n",
       "      <td>AMG line</td>\n",
       "      <td>...</td>\n",
       "      <td>Rivenditore</td>\n",
       "      <td>77</td>\n",
       "      <td>arcole</td>\n",
       "      <td>37040</td>\n",
       "      <td>Veneto</td>\n",
       "      <td>Nord-est</td>\n",
       "      <td>0.80</td>\n",
       "      <td>31875.50</td>\n",
       "      <td>1375.50</td>\n",
       "      <td>1</td>\n",
       "    </tr>\n",
       "    <tr>\n",
       "      <th>48</th>\n",
       "      <td>Mercedes-Benz A 250 e Premium VARI COLORI E AL...</td>\n",
       "      <td>https://www.autoscout24.it/annunci/mercedes-be...</td>\n",
       "      <td>29900</td>\n",
       "      <td>2</td>\n",
       "      <td>2023</td>\n",
       "      <td>18300</td>\n",
       "      <td>automatico</td>\n",
       "      <td>Ibrido</td>\n",
       "      <td>150</td>\n",
       "      <td>AMG line</td>\n",
       "      <td>...</td>\n",
       "      <td>Rivenditore</td>\n",
       "      <td>77</td>\n",
       "      <td>arcole</td>\n",
       "      <td>37040</td>\n",
       "      <td>Veneto</td>\n",
       "      <td>Nord-est</td>\n",
       "      <td>0.80</td>\n",
       "      <td>32037.00</td>\n",
       "      <td>2137.00</td>\n",
       "      <td>1</td>\n",
       "    </tr>\n",
       "    <tr>\n",
       "      <th>86</th>\n",
       "      <td>Mercedes-Benz A 180 A 180 d Premium auto</td>\n",
       "      <td>https://www.autoscout24.it/annunci/mercedes-be...</td>\n",
       "      <td>28900</td>\n",
       "      <td>2</td>\n",
       "      <td>2023</td>\n",
       "      <td>29236</td>\n",
       "      <td>automatico</td>\n",
       "      <td>Diesel</td>\n",
       "      <td>150</td>\n",
       "      <td>AMG line</td>\n",
       "      <td>...</td>\n",
       "      <td>Rivenditore</td>\n",
       "      <td>65</td>\n",
       "      <td>parma</td>\n",
       "      <td>43126</td>\n",
       "      <td>Emilia-Romagna</td>\n",
       "      <td>Nord-est</td>\n",
       "      <td>0.80</td>\n",
       "      <td>31021.00</td>\n",
       "      <td>2121.00</td>\n",
       "      <td>1</td>\n",
       "    </tr>\n",
       "    <tr>\n",
       "      <th>141</th>\n",
       "      <td>Mercedes-Benz A 180 AMG Line Advanced Plus auto</td>\n",
       "      <td>https://www.autoscout24.it/annunci/mercedes-be...</td>\n",
       "      <td>32000</td>\n",
       "      <td>1</td>\n",
       "      <td>2024</td>\n",
       "      <td>19200</td>\n",
       "      <td>automatico</td>\n",
       "      <td>Benzina</td>\n",
       "      <td>150</td>\n",
       "      <td>AMG line</td>\n",
       "      <td>...</td>\n",
       "      <td>Rivenditore</td>\n",
       "      <td>100</td>\n",
       "      <td>porcari</td>\n",
       "      <td>55016</td>\n",
       "      <td>Toscana</td>\n",
       "      <td>Centro</td>\n",
       "      <td>0.80</td>\n",
       "      <td>36928.20</td>\n",
       "      <td>4928.20</td>\n",
       "      <td>1</td>\n",
       "    </tr>\n",
       "    <tr>\n",
       "      <th>1366</th>\n",
       "      <td>MERCEDES-BENZ A 180 d PREMIUM AMG AUTOMATIC</td>\n",
       "      <td>https://www.automobile.it/altavilla-vicentina-...</td>\n",
       "      <td>29900</td>\n",
       "      <td>3</td>\n",
       "      <td>2022</td>\n",
       "      <td>11500</td>\n",
       "      <td>automatico</td>\n",
       "      <td>Diesel</td>\n",
       "      <td>116</td>\n",
       "      <td>AMG line</td>\n",
       "      <td>...</td>\n",
       "      <td>Rivenditore</td>\n",
       "      <td>97</td>\n",
       "      <td>altavilla vicentina</td>\n",
       "      <td>36077</td>\n",
       "      <td>Veneto</td>\n",
       "      <td>Nord-est</td>\n",
       "      <td>0.80</td>\n",
       "      <td>32432.89</td>\n",
       "      <td>2532.89</td>\n",
       "      <td>1</td>\n",
       "    </tr>\n",
       "    <tr>\n",
       "      <th>1430</th>\n",
       "      <td>MERCEDES-BENZ A 180 MHV PREMIUM AMG AUTOMATIC</td>\n",
       "      <td>https://www.automobile.it/altavilla-vicentina-...</td>\n",
       "      <td>30900</td>\n",
       "      <td>1</td>\n",
       "      <td>2024</td>\n",
       "      <td>23824</td>\n",
       "      <td>automatico</td>\n",
       "      <td>Ibrido</td>\n",
       "      <td>136</td>\n",
       "      <td>AMG line</td>\n",
       "      <td>...</td>\n",
       "      <td>Rivenditore</td>\n",
       "      <td>97</td>\n",
       "      <td>altavilla vicentina</td>\n",
       "      <td>36077</td>\n",
       "      <td>Veneto</td>\n",
       "      <td>Nord-est</td>\n",
       "      <td>0.80</td>\n",
       "      <td>30957.60</td>\n",
       "      <td>57.60</td>\n",
       "      <td>0</td>\n",
       "    </tr>\n",
       "    <tr>\n",
       "      <th>1475</th>\n",
       "      <td>MERCEDES-BENZ A 180 MHV PREMIUM AMG AUTOMATIC</td>\n",
       "      <td>https://www.automobile.it/altavilla-vicentina-...</td>\n",
       "      <td>31700</td>\n",
       "      <td>1</td>\n",
       "      <td>2024</td>\n",
       "      <td>14728</td>\n",
       "      <td>automatico</td>\n",
       "      <td>Ibrido</td>\n",
       "      <td>136</td>\n",
       "      <td>AMG line</td>\n",
       "      <td>...</td>\n",
       "      <td>Rivenditore</td>\n",
       "      <td>97</td>\n",
       "      <td>altavilla vicentina</td>\n",
       "      <td>36077</td>\n",
       "      <td>Veneto</td>\n",
       "      <td>Nord-est</td>\n",
       "      <td>0.80</td>\n",
       "      <td>32407.10</td>\n",
       "      <td>707.10</td>\n",
       "      <td>1</td>\n",
       "    </tr>\n",
       "    <tr>\n",
       "      <th>2525</th>\n",
       "      <td>Mercedes-Benz Classe A - MHV PREMIUM AMG AUTOM...</td>\n",
       "      <td>https://autosupermarket.it/annunci/mercedes-be...</td>\n",
       "      <td>30900</td>\n",
       "      <td>1</td>\n",
       "      <td>2024</td>\n",
       "      <td>23824</td>\n",
       "      <td>automatico</td>\n",
       "      <td>Ibrido</td>\n",
       "      <td>136</td>\n",
       "      <td>AMG line</td>\n",
       "      <td>...</td>\n",
       "      <td>Rivenditore</td>\n",
       "      <td>97</td>\n",
       "      <td>altavilla vicentina</td>\n",
       "      <td>36077</td>\n",
       "      <td>Veneto</td>\n",
       "      <td>Nord-est</td>\n",
       "      <td>0.80</td>\n",
       "      <td>30957.60</td>\n",
       "      <td>57.60</td>\n",
       "      <td>0</td>\n",
       "    </tr>\n",
       "    <tr>\n",
       "      <th>2633</th>\n",
       "      <td>Mercedes-Benz Classe A - MHV PREMIUM AMG AUTOM...</td>\n",
       "      <td>https://autosupermarket.it/annunci/mercedes-be...</td>\n",
       "      <td>31700</td>\n",
       "      <td>1</td>\n",
       "      <td>2024</td>\n",
       "      <td>14728</td>\n",
       "      <td>automatico</td>\n",
       "      <td>Ibrido</td>\n",
       "      <td>136</td>\n",
       "      <td>AMG line</td>\n",
       "      <td>...</td>\n",
       "      <td>Rivenditore</td>\n",
       "      <td>97</td>\n",
       "      <td>altavilla vicentina</td>\n",
       "      <td>36077</td>\n",
       "      <td>Veneto</td>\n",
       "      <td>Nord-est</td>\n",
       "      <td>0.80</td>\n",
       "      <td>32407.10</td>\n",
       "      <td>707.10</td>\n",
       "      <td>1</td>\n",
       "    </tr>\n",
       "    <tr>\n",
       "      <th>0</th>\n",
       "      <td>Mercedes-Benz A 200 d Automatic Premium</td>\n",
       "      <td>https://www.autoscout24.it/annunci/mercedes-be...</td>\n",
       "      <td>31900</td>\n",
       "      <td>3</td>\n",
       "      <td>2022</td>\n",
       "      <td>34508</td>\n",
       "      <td>automatico</td>\n",
       "      <td>Diesel</td>\n",
       "      <td>150</td>\n",
       "      <td>AMG line</td>\n",
       "      <td>...</td>\n",
       "      <td>Rivenditore</td>\n",
       "      <td>25</td>\n",
       "      <td>bologna</td>\n",
       "      <td>40127</td>\n",
       "      <td>Emilia-Romagna</td>\n",
       "      <td>Nord-est</td>\n",
       "      <td>0.79</td>\n",
       "      <td>31768.69</td>\n",
       "      <td>-131.31</td>\n",
       "      <td>0</td>\n",
       "    </tr>\n",
       "    <tr>\n",
       "      <th>2</th>\n",
       "      <td>Mercedes-Benz A 180 AMG LINE PREMIUM</td>\n",
       "      <td>https://www.autoscout24.it/annunci/mercedes-be...</td>\n",
       "      <td>28000</td>\n",
       "      <td>5</td>\n",
       "      <td>2020</td>\n",
       "      <td>33000</td>\n",
       "      <td>automatico</td>\n",
       "      <td>Benzina</td>\n",
       "      <td>150</td>\n",
       "      <td>AMG line</td>\n",
       "      <td>...</td>\n",
       "      <td>Rivenditore</td>\n",
       "      <td>95</td>\n",
       "      <td>albignasego</td>\n",
       "      <td>35020</td>\n",
       "      <td>Veneto</td>\n",
       "      <td>Nord-est</td>\n",
       "      <td>0.79</td>\n",
       "      <td>28975.95</td>\n",
       "      <td>975.95</td>\n",
       "      <td>1</td>\n",
       "    </tr>\n",
       "    <tr>\n",
       "      <th>6</th>\n",
       "      <td>Mercedes-Benz A 180 Premium auto</td>\n",
       "      <td>https://www.autoscout24.it/annunci/mercedes-be...</td>\n",
       "      <td>30100</td>\n",
       "      <td>3</td>\n",
       "      <td>2022</td>\n",
       "      <td>23769</td>\n",
       "      <td>automatico</td>\n",
       "      <td>Benzina</td>\n",
       "      <td>150</td>\n",
       "      <td>AMG line</td>\n",
       "      <td>...</td>\n",
       "      <td>Rivenditore</td>\n",
       "      <td>92</td>\n",
       "      <td>brendola</td>\n",
       "      <td>36040</td>\n",
       "      <td>Veneto</td>\n",
       "      <td>Nord-est</td>\n",
       "      <td>0.79</td>\n",
       "      <td>30127.00</td>\n",
       "      <td>27.00</td>\n",
       "      <td>0</td>\n",
       "    </tr>\n",
       "    <tr>\n",
       "      <th>77</th>\n",
       "      <td>Mercedes-Benz A 180 180 d premium night editio...</td>\n",
       "      <td>https://www.autoscout24.it/annunci/mercedes-be...</td>\n",
       "      <td>31000</td>\n",
       "      <td>3</td>\n",
       "      <td>2022</td>\n",
       "      <td>34423</td>\n",
       "      <td>automatico</td>\n",
       "      <td>Diesel</td>\n",
       "      <td>150</td>\n",
       "      <td>AMG line</td>\n",
       "      <td>...</td>\n",
       "      <td>Rivenditore</td>\n",
       "      <td>92</td>\n",
       "      <td>brendola</td>\n",
       "      <td>36040</td>\n",
       "      <td>Veneto</td>\n",
       "      <td>Nord-est</td>\n",
       "      <td>0.79</td>\n",
       "      <td>31390.69</td>\n",
       "      <td>390.69</td>\n",
       "      <td>1</td>\n",
       "    </tr>\n",
       "  </tbody>\n",
       "</table>\n",
       "<p>20 rows × 22 columns</p>\n",
       "</div>"
      ],
      "text/plain": [
       "                                               Annuncio  \\\n",
       "41    Mercedes-Benz A 180 Premium AMG VARI COLORI E ...   \n",
       "261                    Mercedes-Benz A 200 Premium auto   \n",
       "9           Mercedes-Benz A 180 d PREMIUM AMG AUTOMATIC   \n",
       "10        Mercedes-Benz A 180 MHV PREMIUM AMG AUTOMATIC   \n",
       "32        Mercedes-Benz A 180 MHV PREMIUM AMG AUTOMATIC   \n",
       "33        Mercedes-Benz A 180 MHV PREMIUM AMG AUTOMATIC   \n",
       "40    Mercedes-Benz A 180 AMG PREMIUM LED NIGHT VARI...   \n",
       "42    Mercedes-Benz A 180 PREMIUM AMG PACK LUCI VARI...   \n",
       "48    Mercedes-Benz A 250 e Premium VARI COLORI E AL...   \n",
       "86             Mercedes-Benz A 180 A 180 d Premium auto   \n",
       "141     Mercedes-Benz A 180 AMG Line Advanced Plus auto   \n",
       "1366        MERCEDES-BENZ A 180 d PREMIUM AMG AUTOMATIC   \n",
       "1430      MERCEDES-BENZ A 180 MHV PREMIUM AMG AUTOMATIC   \n",
       "1475      MERCEDES-BENZ A 180 MHV PREMIUM AMG AUTOMATIC   \n",
       "2525  Mercedes-Benz Classe A - MHV PREMIUM AMG AUTOM...   \n",
       "2633  Mercedes-Benz Classe A - MHV PREMIUM AMG AUTOM...   \n",
       "0               Mercedes-Benz A 200 d Automatic Premium   \n",
       "2                  Mercedes-Benz A 180 AMG LINE PREMIUM   \n",
       "6                      Mercedes-Benz A 180 Premium auto   \n",
       "77    Mercedes-Benz A 180 180 d premium night editio...   \n",
       "\n",
       "                                                   Link  Prezzo  Anni  \\\n",
       "41    https://www.autoscout24.it/annunci/mercedes-be...   29900     1   \n",
       "261   https://www.autoscout24.it/annunci/mercedes-be...   27800     1   \n",
       "9     https://www.autoscout24.it/annunci/mercedes-be...   29900     3   \n",
       "10    https://www.autoscout24.it/annunci/mercedes-be...   30900     1   \n",
       "32    https://www.autoscout24.it/annunci/mercedes-be...   31700     1   \n",
       "33    https://www.autoscout24.it/annunci/mercedes-be...   31900     1   \n",
       "40    https://www.autoscout24.it/annunci/mercedes-be...   28800     3   \n",
       "42    https://www.autoscout24.it/annunci/mercedes-be...   30500     2   \n",
       "48    https://www.autoscout24.it/annunci/mercedes-be...   29900     2   \n",
       "86    https://www.autoscout24.it/annunci/mercedes-be...   28900     2   \n",
       "141   https://www.autoscout24.it/annunci/mercedes-be...   32000     1   \n",
       "1366  https://www.automobile.it/altavilla-vicentina-...   29900     3   \n",
       "1430  https://www.automobile.it/altavilla-vicentina-...   30900     1   \n",
       "1475  https://www.automobile.it/altavilla-vicentina-...   31700     1   \n",
       "2525  https://autosupermarket.it/annunci/mercedes-be...   30900     1   \n",
       "2633  https://autosupermarket.it/annunci/mercedes-be...   31700     1   \n",
       "0     https://www.autoscout24.it/annunci/mercedes-be...   31900     3   \n",
       "2     https://www.autoscout24.it/annunci/mercedes-be...   28000     5   \n",
       "6     https://www.autoscout24.it/annunci/mercedes-be...   30100     3   \n",
       "77    https://www.autoscout24.it/annunci/mercedes-be...   31000     3   \n",
       "\n",
       "      Immatricolazione  Chilometraggio      Cambio Carburante   CV  \\\n",
       "41                2024           15500  automatico    Benzina  150   \n",
       "261               2024           38000  automatico    Benzina  150   \n",
       "9                 2022           11500  automatico     Diesel  150   \n",
       "10                2024           23824  automatico     Ibrido  150   \n",
       "32                2024           14728  automatico     Ibrido  150   \n",
       "33                2024           23818  automatico     Ibrido  150   \n",
       "40                2022           23400  automatico    Benzina  150   \n",
       "42                2023           19000  automatico    Benzina  150   \n",
       "48                2023           18300  automatico     Ibrido  150   \n",
       "86                2023           29236  automatico     Diesel  150   \n",
       "141               2024           19200  automatico    Benzina  150   \n",
       "1366              2022           11500  automatico     Diesel  116   \n",
       "1430              2024           23824  automatico     Ibrido  136   \n",
       "1475              2024           14728  automatico     Ibrido  136   \n",
       "2525              2024           23824  automatico     Ibrido  136   \n",
       "2633              2024           14728  automatico     Ibrido  136   \n",
       "0                 2022           34508  automatico     Diesel  150   \n",
       "2                 2020           33000  automatico    Benzina  150   \n",
       "6                 2022           23769  automatico    Benzina  150   \n",
       "77                2022           34423  automatico     Diesel  150   \n",
       "\n",
       "     Allestimento  ...    Venditore Distanza               Comune    CAP  \\\n",
       "41       AMG line  ...  Rivenditore       77               arcole  37040   \n",
       "261      AMG line  ...      Privato       25              bologna  40141   \n",
       "9        AMG line  ...  Rivenditore       97  altavilla vicentina  36077   \n",
       "10       AMG line  ...  Rivenditore       97  altavilla vicentina  36077   \n",
       "32       AMG line  ...  Rivenditore       97  altavilla vicentina  36077   \n",
       "33       AMG line  ...  Rivenditore       97  altavilla vicentina  36077   \n",
       "40       AMG line  ...  Rivenditore       77               arcole  37040   \n",
       "42       AMG line  ...  Rivenditore       77               arcole  37040   \n",
       "48       AMG line  ...  Rivenditore       77               arcole  37040   \n",
       "86       AMG line  ...  Rivenditore       65                parma  43126   \n",
       "141      AMG line  ...  Rivenditore      100              porcari  55016   \n",
       "1366     AMG line  ...  Rivenditore       97  altavilla vicentina  36077   \n",
       "1430     AMG line  ...  Rivenditore       97  altavilla vicentina  36077   \n",
       "1475     AMG line  ...  Rivenditore       97  altavilla vicentina  36077   \n",
       "2525     AMG line  ...  Rivenditore       97  altavilla vicentina  36077   \n",
       "2633     AMG line  ...  Rivenditore       97  altavilla vicentina  36077   \n",
       "0        AMG line  ...  Rivenditore       25              bologna  40127   \n",
       "2        AMG line  ...  Rivenditore       95          albignasego  35020   \n",
       "6        AMG line  ...  Rivenditore       92             brendola  36040   \n",
       "77       AMG line  ...  Rivenditore       92             brendola  36040   \n",
       "\n",
       "             Regione      Area Indice_Appetibilità prezzo_previsto  \\\n",
       "41            Veneto  Nord-est                0.81        31985.50   \n",
       "261   Emilia-Romagna  Nord-est                0.81        30246.79   \n",
       "9             Veneto  Nord-est                0.80        32674.07   \n",
       "10            Veneto  Nord-est                0.80        31591.50   \n",
       "32            Veneto  Nord-est                0.80        36589.00   \n",
       "33            Veneto  Nord-est                0.80        32151.50   \n",
       "40            Veneto  Nord-est                0.80        29801.00   \n",
       "42            Veneto  Nord-est                0.80        31875.50   \n",
       "48            Veneto  Nord-est                0.80        32037.00   \n",
       "86    Emilia-Romagna  Nord-est                0.80        31021.00   \n",
       "141          Toscana    Centro                0.80        36928.20   \n",
       "1366          Veneto  Nord-est                0.80        32432.89   \n",
       "1430          Veneto  Nord-est                0.80        30957.60   \n",
       "1475          Veneto  Nord-est                0.80        32407.10   \n",
       "2525          Veneto  Nord-est                0.80        30957.60   \n",
       "2633          Veneto  Nord-est                0.80        32407.10   \n",
       "0     Emilia-Romagna  Nord-est                0.79        31768.69   \n",
       "2             Veneto  Nord-est                0.79        28975.95   \n",
       "6             Veneto  Nord-est                0.79        30127.00   \n",
       "77            Veneto  Nord-est                0.79        31390.69   \n",
       "\n",
       "      delta_prezzo  is_conveniente  \n",
       "41         2085.50               1  \n",
       "261        2446.79               1  \n",
       "9          2774.07               1  \n",
       "10          691.50               1  \n",
       "32         4889.00               1  \n",
       "33          251.50               1  \n",
       "40         1001.00               1  \n",
       "42         1375.50               1  \n",
       "48         2137.00               1  \n",
       "86         2121.00               1  \n",
       "141        4928.20               1  \n",
       "1366       2532.89               1  \n",
       "1430         57.60               0  \n",
       "1475        707.10               1  \n",
       "2525         57.60               0  \n",
       "2633        707.10               1  \n",
       "0          -131.31               0  \n",
       "2           975.95               1  \n",
       "6            27.00               0  \n",
       "77          390.69               1  \n",
       "\n",
       "[20 rows x 22 columns]"
      ]
     },
     "metadata": {},
     "output_type": "display_data"
    }
   ],
   "source": [
    "prezzo_max = 32000\n",
    "prezzo_min = 24000\n",
    "km_max =40000\n",
    "km_min = 0\n",
    "dist_max = 150\n",
    "dispaly = 20\n",
    "\n",
    "display_top_auto(df, dispaly, prezzo_max, prezzo_min, km_max, km_min, dist_max, carburante=None)\n"
   ]
  }
 ],
 "metadata": {
  "kernelspec": {
   "display_name": "Python 3",
   "language": "python",
   "name": "python3"
  },
  "language_info": {
   "codemirror_mode": {
    "name": "ipython",
    "version": 3
   },
   "file_extension": ".py",
   "mimetype": "text/x-python",
   "name": "python",
   "nbconvert_exporter": "python",
   "pygments_lexer": "ipython3",
   "version": "3.13.2"
  }
 },
 "nbformat": 4,
 "nbformat_minor": 5
}
