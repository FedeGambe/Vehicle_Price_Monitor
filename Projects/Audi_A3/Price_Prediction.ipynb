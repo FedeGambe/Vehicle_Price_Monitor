{
 "cells": [
  {
   "cell_type": "code",
   "execution_count": 1,
   "id": "8e192fd2",
   "metadata": {},
   "outputs": [],
   "source": [
    "modello_per_analisi = 'Audi_A3'\n",
    "# Opzioni possibili: Mercedes_Classe_A, BMW_Serie_1, Audi_A3, Fiat_Panda"
   ]
  },
  {
   "cell_type": "markdown",
   "id": "3aeb0754",
   "metadata": {},
   "source": [
    "### 0. Import funzioni e librerie"
   ]
  },
  {
   "cell_type": "code",
   "execution_count": 2,
   "id": "f5ec9616",
   "metadata": {},
   "outputs": [],
   "source": [
    "import pandas as pd\n",
    "import os\n",
    "import sys\n",
    "import requests\n",
    "import importlib\n",
    "from pathlib import Path\n"
   ]
  },
  {
   "cell_type": "code",
   "execution_count": 3,
   "id": "1067248f",
   "metadata": {},
   "outputs": [],
   "source": [
    "project_root = Path.cwd().parents[1]\n",
    "\n",
    "# Percorsi delle cartelle contenenti i moduli\n",
    "loader_dir = project_root / 'Source' / '2_Data_Preparation' / 'Utils'\n",
    "utils_dir = project_root / 'Source' / '3_Data_Analysis' / 'Utils'\n",
    "# Aggiungi al sys.path\n",
    "sys.path.extend([str(loader_dir), str(utils_dir)])\n",
    "\n",
    "# Import\n",
    "from data_loader import load_csv_for_notebook\n",
    "from Plots_maker import plot_is_conveniente_distribution, plot_price_prediction_distributions\n",
    "from Function_price_analysis import modello_ml, predizione_prezzo, is_conveniente_class_report, indice_appetibilita, display_top_auto"
   ]
  },
  {
   "cell_type": "code",
   "execution_count": 4,
   "id": "e1aa9ce0",
   "metadata": {},
   "outputs": [
    {
     "name": "stdout",
     "output_type": "stream",
     "text": [
      "\n",
      " - config_path: /Users/federicogamberini/VS Code/Vehicle_Price_Monitor/Data/config\n",
      " - Contenuto della cartella: ['config_Audi_A3.py', 'config_Opel_Corsa.py', '__pycache__', 'config_BMW_Serie_1.py', 'config_Mercedes_Classe_A.py']\n"
     ]
    }
   ],
   "source": [
    "# --- IMPORT CONFIGURAZIONE DELL'AUTO ---\n",
    "#Configurazione path per import dinamico del modulo di configurazione \n",
    "\n",
    "config_path = project_root / 'Data'/ 'config'\n",
    "\n",
    "sys.path.extend([str(config_path)])\n",
    "print(\"\\n - config_path:\", config_path)\n",
    "print(\" - Contenuto della cartella:\", os.listdir(config_path))\n",
    "\n",
    "# --- Import dinamico del modulo di configurazione in base al modello ---\n",
    "modulo_config = f\"config_{modello_per_analisi}\"  # esempio: config_Mercedes_Classe_A\n",
    "try:\n",
    "    config = importlib.import_module(modulo_config)\n",
    "except ModuleNotFoundError:\n",
    "    print(f\"❌ Modulo di configurazione '{modulo_config}' non trovato.\")\n",
    "    sys.exit(1)\n",
    "# --- Accesso ai parametri di configurazione ---\n",
    "#allestimenti = config.allestimenti\n",
    "allestimento_performance = config.allestimento_performance\n",
    "allestimento_sport = config.allestimento_sport\n",
    "allestimento_middle = config.allestimento_middle\n",
    "allestimento_base = config.allestimento_base"
   ]
  },
  {
   "cell_type": "markdown",
   "id": "43937f8d",
   "metadata": {},
   "source": [
    "### 1. Dati"
   ]
  },
  {
   "cell_type": "code",
   "execution_count": 5,
   "id": "a0466c4a",
   "metadata": {},
   "outputs": [
    {
     "name": "stdout",
     "output_type": "stream",
     "text": [
      "✅ File caricato: /Users/federicogamberini/VS Code/Vehicle_Price_Monitor/Data/Processed_data/Audi_A3/data_dummy_Audi_A3.csv (3609 righe, 15 colonne)\n",
      "✅ File caricato: /Users/federicogamberini/VS Code/Vehicle_Price_Monitor/Data/Processed_data/Audi_A3/data_Audi_A3.csv (3609 righe, 18 colonne)\n"
     ]
    }
   ],
   "source": [
    "#### CARICAMENTO DATI SINGOLI\n",
    "data_dummy= load_csv_for_notebook(project_root,['Data', 'Processed_data', modello_per_analisi, f'data_dummy_{modello_per_analisi}.csv'])\n",
    "data = load_csv_for_notebook(project_root,['Data', 'Processed_data', modello_per_analisi, f'data_{modello_per_analisi}.csv'])\n",
    "\n",
    "X = data_dummy.drop(columns=['Prezzo', 'Distanza', 'Venditore'])\n",
    "y = data_dummy['Prezzo']"
   ]
  },
  {
   "cell_type": "markdown",
   "id": "bfc5e826",
   "metadata": {},
   "source": [
    "### 2. Predizione prezzo, analisi della convenienza"
   ]
  },
  {
   "cell_type": "code",
   "execution_count": 6,
   "id": "c50b146b",
   "metadata": {},
   "outputs": [
    {
     "name": "stdout",
     "output_type": "stream",
     "text": [
      "Valutazione delle performance sul test set\n",
      " - Mean Squared Error: 14658274.92\n",
      " - Root Mean Squared Error: 3828.61 euro\n",
      " - R-squared:  0.86\n"
     ]
    }
   ],
   "source": [
    "modello_ml(X, y, (project_root / 'Data' / 'Modelli_ML' / modello_per_analisi))\n",
    "data_ml, y_pred = predizione_prezzo(data_dummy, X, (project_root / 'Data' / 'Modelli_ML' / modello_per_analisi))"
   ]
  },
  {
   "cell_type": "code",
   "execution_count": 7,
   "id": "8cee3225",
   "metadata": {},
   "outputs": [
    {
     "data": {
      "application/vnd.plotly.v1+json": {
       "config": {
        "plotlyServerURL": "https://plot.ly"
       },
       "data": [
        {
         "customdata": {
          "bdata": "AAE=",
          "dtype": "i1",
          "shape": "2, 1"
         },
         "domain": {
          "x": [
           0,
           1
          ],
          "y": [
           0,
           1
          ]
         },
         "hole": 0.2,
         "hovertemplate": "label=%{label}<br>value=%{value}<br>color=%{customdata[0]}<extra></extra>",
         "labels": {
          "bdata": "AAE=",
          "dtype": "i1"
         },
         "legendgroup": "",
         "marker": {
          "colors": [
           "lightgreen",
           "lightcoral"
          ]
         },
         "name": "",
         "showlegend": true,
         "textinfo": "percent+label",
         "type": "pie",
         "values": {
          "bdata": "SwfOBg==",
          "dtype": "i2"
         }
        }
       ],
       "layout": {
        "legend": {
         "tracegroupgap": 0
        },
        "margin": {
         "t": 60
        },
        "template": {
         "data": {
          "bar": [
           {
            "error_x": {
             "color": "#2a3f5f"
            },
            "error_y": {
             "color": "#2a3f5f"
            },
            "marker": {
             "line": {
              "color": "#E5ECF6",
              "width": 0.5
             },
             "pattern": {
              "fillmode": "overlay",
              "size": 10,
              "solidity": 0.2
             }
            },
            "type": "bar"
           }
          ],
          "barpolar": [
           {
            "marker": {
             "line": {
              "color": "#E5ECF6",
              "width": 0.5
             },
             "pattern": {
              "fillmode": "overlay",
              "size": 10,
              "solidity": 0.2
             }
            },
            "type": "barpolar"
           }
          ],
          "carpet": [
           {
            "aaxis": {
             "endlinecolor": "#2a3f5f",
             "gridcolor": "white",
             "linecolor": "white",
             "minorgridcolor": "white",
             "startlinecolor": "#2a3f5f"
            },
            "baxis": {
             "endlinecolor": "#2a3f5f",
             "gridcolor": "white",
             "linecolor": "white",
             "minorgridcolor": "white",
             "startlinecolor": "#2a3f5f"
            },
            "type": "carpet"
           }
          ],
          "choropleth": [
           {
            "colorbar": {
             "outlinewidth": 0,
             "ticks": ""
            },
            "type": "choropleth"
           }
          ],
          "contour": [
           {
            "colorbar": {
             "outlinewidth": 0,
             "ticks": ""
            },
            "colorscale": [
             [
              0,
              "#0d0887"
             ],
             [
              0.1111111111111111,
              "#46039f"
             ],
             [
              0.2222222222222222,
              "#7201a8"
             ],
             [
              0.3333333333333333,
              "#9c179e"
             ],
             [
              0.4444444444444444,
              "#bd3786"
             ],
             [
              0.5555555555555556,
              "#d8576b"
             ],
             [
              0.6666666666666666,
              "#ed7953"
             ],
             [
              0.7777777777777778,
              "#fb9f3a"
             ],
             [
              0.8888888888888888,
              "#fdca26"
             ],
             [
              1,
              "#f0f921"
             ]
            ],
            "type": "contour"
           }
          ],
          "contourcarpet": [
           {
            "colorbar": {
             "outlinewidth": 0,
             "ticks": ""
            },
            "type": "contourcarpet"
           }
          ],
          "heatmap": [
           {
            "colorbar": {
             "outlinewidth": 0,
             "ticks": ""
            },
            "colorscale": [
             [
              0,
              "#0d0887"
             ],
             [
              0.1111111111111111,
              "#46039f"
             ],
             [
              0.2222222222222222,
              "#7201a8"
             ],
             [
              0.3333333333333333,
              "#9c179e"
             ],
             [
              0.4444444444444444,
              "#bd3786"
             ],
             [
              0.5555555555555556,
              "#d8576b"
             ],
             [
              0.6666666666666666,
              "#ed7953"
             ],
             [
              0.7777777777777778,
              "#fb9f3a"
             ],
             [
              0.8888888888888888,
              "#fdca26"
             ],
             [
              1,
              "#f0f921"
             ]
            ],
            "type": "heatmap"
           }
          ],
          "histogram": [
           {
            "marker": {
             "pattern": {
              "fillmode": "overlay",
              "size": 10,
              "solidity": 0.2
             }
            },
            "type": "histogram"
           }
          ],
          "histogram2d": [
           {
            "colorbar": {
             "outlinewidth": 0,
             "ticks": ""
            },
            "colorscale": [
             [
              0,
              "#0d0887"
             ],
             [
              0.1111111111111111,
              "#46039f"
             ],
             [
              0.2222222222222222,
              "#7201a8"
             ],
             [
              0.3333333333333333,
              "#9c179e"
             ],
             [
              0.4444444444444444,
              "#bd3786"
             ],
             [
              0.5555555555555556,
              "#d8576b"
             ],
             [
              0.6666666666666666,
              "#ed7953"
             ],
             [
              0.7777777777777778,
              "#fb9f3a"
             ],
             [
              0.8888888888888888,
              "#fdca26"
             ],
             [
              1,
              "#f0f921"
             ]
            ],
            "type": "histogram2d"
           }
          ],
          "histogram2dcontour": [
           {
            "colorbar": {
             "outlinewidth": 0,
             "ticks": ""
            },
            "colorscale": [
             [
              0,
              "#0d0887"
             ],
             [
              0.1111111111111111,
              "#46039f"
             ],
             [
              0.2222222222222222,
              "#7201a8"
             ],
             [
              0.3333333333333333,
              "#9c179e"
             ],
             [
              0.4444444444444444,
              "#bd3786"
             ],
             [
              0.5555555555555556,
              "#d8576b"
             ],
             [
              0.6666666666666666,
              "#ed7953"
             ],
             [
              0.7777777777777778,
              "#fb9f3a"
             ],
             [
              0.8888888888888888,
              "#fdca26"
             ],
             [
              1,
              "#f0f921"
             ]
            ],
            "type": "histogram2dcontour"
           }
          ],
          "mesh3d": [
           {
            "colorbar": {
             "outlinewidth": 0,
             "ticks": ""
            },
            "type": "mesh3d"
           }
          ],
          "parcoords": [
           {
            "line": {
             "colorbar": {
              "outlinewidth": 0,
              "ticks": ""
             }
            },
            "type": "parcoords"
           }
          ],
          "pie": [
           {
            "automargin": true,
            "type": "pie"
           }
          ],
          "scatter": [
           {
            "fillpattern": {
             "fillmode": "overlay",
             "size": 10,
             "solidity": 0.2
            },
            "type": "scatter"
           }
          ],
          "scatter3d": [
           {
            "line": {
             "colorbar": {
              "outlinewidth": 0,
              "ticks": ""
             }
            },
            "marker": {
             "colorbar": {
              "outlinewidth": 0,
              "ticks": ""
             }
            },
            "type": "scatter3d"
           }
          ],
          "scattercarpet": [
           {
            "marker": {
             "colorbar": {
              "outlinewidth": 0,
              "ticks": ""
             }
            },
            "type": "scattercarpet"
           }
          ],
          "scattergeo": [
           {
            "marker": {
             "colorbar": {
              "outlinewidth": 0,
              "ticks": ""
             }
            },
            "type": "scattergeo"
           }
          ],
          "scattergl": [
           {
            "marker": {
             "colorbar": {
              "outlinewidth": 0,
              "ticks": ""
             }
            },
            "type": "scattergl"
           }
          ],
          "scattermap": [
           {
            "marker": {
             "colorbar": {
              "outlinewidth": 0,
              "ticks": ""
             }
            },
            "type": "scattermap"
           }
          ],
          "scattermapbox": [
           {
            "marker": {
             "colorbar": {
              "outlinewidth": 0,
              "ticks": ""
             }
            },
            "type": "scattermapbox"
           }
          ],
          "scatterpolar": [
           {
            "marker": {
             "colorbar": {
              "outlinewidth": 0,
              "ticks": ""
             }
            },
            "type": "scatterpolar"
           }
          ],
          "scatterpolargl": [
           {
            "marker": {
             "colorbar": {
              "outlinewidth": 0,
              "ticks": ""
             }
            },
            "type": "scatterpolargl"
           }
          ],
          "scatterternary": [
           {
            "marker": {
             "colorbar": {
              "outlinewidth": 0,
              "ticks": ""
             }
            },
            "type": "scatterternary"
           }
          ],
          "surface": [
           {
            "colorbar": {
             "outlinewidth": 0,
             "ticks": ""
            },
            "colorscale": [
             [
              0,
              "#0d0887"
             ],
             [
              0.1111111111111111,
              "#46039f"
             ],
             [
              0.2222222222222222,
              "#7201a8"
             ],
             [
              0.3333333333333333,
              "#9c179e"
             ],
             [
              0.4444444444444444,
              "#bd3786"
             ],
             [
              0.5555555555555556,
              "#d8576b"
             ],
             [
              0.6666666666666666,
              "#ed7953"
             ],
             [
              0.7777777777777778,
              "#fb9f3a"
             ],
             [
              0.8888888888888888,
              "#fdca26"
             ],
             [
              1,
              "#f0f921"
             ]
            ],
            "type": "surface"
           }
          ],
          "table": [
           {
            "cells": {
             "fill": {
              "color": "#EBF0F8"
             },
             "line": {
              "color": "white"
             }
            },
            "header": {
             "fill": {
              "color": "#C8D4E3"
             },
             "line": {
              "color": "white"
             }
            },
            "type": "table"
           }
          ]
         },
         "layout": {
          "annotationdefaults": {
           "arrowcolor": "#2a3f5f",
           "arrowhead": 0,
           "arrowwidth": 1
          },
          "autotypenumbers": "strict",
          "coloraxis": {
           "colorbar": {
            "outlinewidth": 0,
            "ticks": ""
           }
          },
          "colorscale": {
           "diverging": [
            [
             0,
             "#8e0152"
            ],
            [
             0.1,
             "#c51b7d"
            ],
            [
             0.2,
             "#de77ae"
            ],
            [
             0.3,
             "#f1b6da"
            ],
            [
             0.4,
             "#fde0ef"
            ],
            [
             0.5,
             "#f7f7f7"
            ],
            [
             0.6,
             "#e6f5d0"
            ],
            [
             0.7,
             "#b8e186"
            ],
            [
             0.8,
             "#7fbc41"
            ],
            [
             0.9,
             "#4d9221"
            ],
            [
             1,
             "#276419"
            ]
           ],
           "sequential": [
            [
             0,
             "#0d0887"
            ],
            [
             0.1111111111111111,
             "#46039f"
            ],
            [
             0.2222222222222222,
             "#7201a8"
            ],
            [
             0.3333333333333333,
             "#9c179e"
            ],
            [
             0.4444444444444444,
             "#bd3786"
            ],
            [
             0.5555555555555556,
             "#d8576b"
            ],
            [
             0.6666666666666666,
             "#ed7953"
            ],
            [
             0.7777777777777778,
             "#fb9f3a"
            ],
            [
             0.8888888888888888,
             "#fdca26"
            ],
            [
             1,
             "#f0f921"
            ]
           ],
           "sequentialminus": [
            [
             0,
             "#0d0887"
            ],
            [
             0.1111111111111111,
             "#46039f"
            ],
            [
             0.2222222222222222,
             "#7201a8"
            ],
            [
             0.3333333333333333,
             "#9c179e"
            ],
            [
             0.4444444444444444,
             "#bd3786"
            ],
            [
             0.5555555555555556,
             "#d8576b"
            ],
            [
             0.6666666666666666,
             "#ed7953"
            ],
            [
             0.7777777777777778,
             "#fb9f3a"
            ],
            [
             0.8888888888888888,
             "#fdca26"
            ],
            [
             1,
             "#f0f921"
            ]
           ]
          },
          "colorway": [
           "#636efa",
           "#EF553B",
           "#00cc96",
           "#ab63fa",
           "#FFA15A",
           "#19d3f3",
           "#FF6692",
           "#B6E880",
           "#FF97FF",
           "#FECB52"
          ],
          "font": {
           "color": "#2a3f5f"
          },
          "geo": {
           "bgcolor": "white",
           "lakecolor": "white",
           "landcolor": "#E5ECF6",
           "showlakes": true,
           "showland": true,
           "subunitcolor": "white"
          },
          "hoverlabel": {
           "align": "left"
          },
          "hovermode": "closest",
          "mapbox": {
           "style": "light"
          },
          "paper_bgcolor": "white",
          "plot_bgcolor": "#E5ECF6",
          "polar": {
           "angularaxis": {
            "gridcolor": "white",
            "linecolor": "white",
            "ticks": ""
           },
           "bgcolor": "#E5ECF6",
           "radialaxis": {
            "gridcolor": "white",
            "linecolor": "white",
            "ticks": ""
           }
          },
          "scene": {
           "xaxis": {
            "backgroundcolor": "#E5ECF6",
            "gridcolor": "white",
            "gridwidth": 2,
            "linecolor": "white",
            "showbackground": true,
            "ticks": "",
            "zerolinecolor": "white"
           },
           "yaxis": {
            "backgroundcolor": "#E5ECF6",
            "gridcolor": "white",
            "gridwidth": 2,
            "linecolor": "white",
            "showbackground": true,
            "ticks": "",
            "zerolinecolor": "white"
           },
           "zaxis": {
            "backgroundcolor": "#E5ECF6",
            "gridcolor": "white",
            "gridwidth": 2,
            "linecolor": "white",
            "showbackground": true,
            "ticks": "",
            "zerolinecolor": "white"
           }
          },
          "shapedefaults": {
           "line": {
            "color": "#2a3f5f"
           }
          },
          "ternary": {
           "aaxis": {
            "gridcolor": "white",
            "linecolor": "white",
            "ticks": ""
           },
           "baxis": {
            "gridcolor": "white",
            "linecolor": "white",
            "ticks": ""
           },
           "bgcolor": "#E5ECF6",
           "caxis": {
            "gridcolor": "white",
            "linecolor": "white",
            "ticks": ""
           }
          },
          "title": {
           "x": 0.05
          },
          "xaxis": {
           "automargin": true,
           "gridcolor": "white",
           "linecolor": "white",
           "ticks": "",
           "title": {
            "standoff": 15
           },
           "zerolinecolor": "white",
           "zerolinewidth": 2
          },
          "yaxis": {
           "automargin": true,
           "gridcolor": "white",
           "linecolor": "white",
           "ticks": "",
           "title": {
            "standoff": 15
           },
           "zerolinecolor": "white",
           "zerolinewidth": 2
          }
         }
        },
        "title": {
         "font": {
          "family": "Arial",
          "size": 20,
          "weight": "bold"
         },
         "text": "Distribuzione della variabile is_conveniente",
         "x": 0.5,
         "xanchor": "center"
        }
       }
      }
     },
     "metadata": {},
     "output_type": "display_data"
    },
    {
     "name": "stdout",
     "output_type": "stream",
     "text": [
      "\n",
      "Distribuzione relativa della variabile 'is_conveniente':\n",
      "\n",
      " is_conveniente  Frequenza Relativa\n",
      "              0            0.517318\n",
      "              1            0.482682\n"
     ]
    }
   ],
   "source": [
    "plot_is_conveniente_distribution(data_ml)"
   ]
  },
  {
   "cell_type": "code",
   "execution_count": 8,
   "id": "0e67af43",
   "metadata": {},
   "outputs": [
    {
     "data": {
      "application/vnd.plotly.v1+json": {
       "config": {
        "plotlyServerURL": "https://plot.ly"
       },
       "data": [
        {
         "marker": {
          "color": "steelblue"
         },
         "name": "Prezzo Previsto",
         "nbinsx": 120,
         "type": "histogram",
         "x": {
          "bdata": "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",
          "dtype": "f8"
         },
         "xaxis": "x",
         "yaxis": "y"
        },
        {
         "marker": {
          "color": "darkorange"
         },
         "name": "Delta Prezzo",
         "nbinsx": 120,
         "type": "histogram",
         "x": {
          "bdata": "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",
          "dtype": "f8"
         },
         "xaxis": "x2",
         "yaxis": "y2"
        },
        {
         "line": {
          "color": "black",
          "dash": "dash"
         },
         "mode": "lines",
         "name": "Curva Normale Prezzo Previsto",
         "type": "scatter",
         "x": {
          "bdata": "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",
          "dtype": "f8"
         },
         "xaxis": "x",
         "y": {
          "bdata": "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",
          "dtype": "f8"
         },
         "yaxis": "y"
        },
        {
         "line": {
          "color": "black",
          "dash": "dash"
         },
         "mode": "lines",
         "name": "Curva Normale Delta Prezzo",
         "type": "scatter",
         "x": {
          "bdata": "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",
          "dtype": "f8"
         },
         "xaxis": "x2",
         "y": {
          "bdata": "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",
          "dtype": "f8"
         },
         "yaxis": "y2"
        }
       ],
       "layout": {
        "annotations": [
         {
          "font": {
           "size": 16
          },
          "showarrow": false,
          "text": "Distribuzione di Prezzo Previsto",
          "x": 0.225,
          "xanchor": "center",
          "xref": "paper",
          "y": 1,
          "yanchor": "bottom",
          "yref": "paper"
         },
         {
          "font": {
           "size": 16
          },
          "showarrow": false,
          "text": "Distribuzione di Delta Prezzo",
          "x": 0.775,
          "xanchor": "center",
          "xref": "paper",
          "y": 1,
          "yanchor": "bottom",
          "yref": "paper"
         }
        ],
        "bargap": 0.05,
        "showlegend": true,
        "template": {
         "data": {
          "bar": [
           {
            "error_x": {
             "color": "#2a3f5f"
            },
            "error_y": {
             "color": "#2a3f5f"
            },
            "marker": {
             "line": {
              "color": "#E5ECF6",
              "width": 0.5
             },
             "pattern": {
              "fillmode": "overlay",
              "size": 10,
              "solidity": 0.2
             }
            },
            "type": "bar"
           }
          ],
          "barpolar": [
           {
            "marker": {
             "line": {
              "color": "#E5ECF6",
              "width": 0.5
             },
             "pattern": {
              "fillmode": "overlay",
              "size": 10,
              "solidity": 0.2
             }
            },
            "type": "barpolar"
           }
          ],
          "carpet": [
           {
            "aaxis": {
             "endlinecolor": "#2a3f5f",
             "gridcolor": "white",
             "linecolor": "white",
             "minorgridcolor": "white",
             "startlinecolor": "#2a3f5f"
            },
            "baxis": {
             "endlinecolor": "#2a3f5f",
             "gridcolor": "white",
             "linecolor": "white",
             "minorgridcolor": "white",
             "startlinecolor": "#2a3f5f"
            },
            "type": "carpet"
           }
          ],
          "choropleth": [
           {
            "colorbar": {
             "outlinewidth": 0,
             "ticks": ""
            },
            "type": "choropleth"
           }
          ],
          "contour": [
           {
            "colorbar": {
             "outlinewidth": 0,
             "ticks": ""
            },
            "colorscale": [
             [
              0,
              "#0d0887"
             ],
             [
              0.1111111111111111,
              "#46039f"
             ],
             [
              0.2222222222222222,
              "#7201a8"
             ],
             [
              0.3333333333333333,
              "#9c179e"
             ],
             [
              0.4444444444444444,
              "#bd3786"
             ],
             [
              0.5555555555555556,
              "#d8576b"
             ],
             [
              0.6666666666666666,
              "#ed7953"
             ],
             [
              0.7777777777777778,
              "#fb9f3a"
             ],
             [
              0.8888888888888888,
              "#fdca26"
             ],
             [
              1,
              "#f0f921"
             ]
            ],
            "type": "contour"
           }
          ],
          "contourcarpet": [
           {
            "colorbar": {
             "outlinewidth": 0,
             "ticks": ""
            },
            "type": "contourcarpet"
           }
          ],
          "heatmap": [
           {
            "colorbar": {
             "outlinewidth": 0,
             "ticks": ""
            },
            "colorscale": [
             [
              0,
              "#0d0887"
             ],
             [
              0.1111111111111111,
              "#46039f"
             ],
             [
              0.2222222222222222,
              "#7201a8"
             ],
             [
              0.3333333333333333,
              "#9c179e"
             ],
             [
              0.4444444444444444,
              "#bd3786"
             ],
             [
              0.5555555555555556,
              "#d8576b"
             ],
             [
              0.6666666666666666,
              "#ed7953"
             ],
             [
              0.7777777777777778,
              "#fb9f3a"
             ],
             [
              0.8888888888888888,
              "#fdca26"
             ],
             [
              1,
              "#f0f921"
             ]
            ],
            "type": "heatmap"
           }
          ],
          "histogram": [
           {
            "marker": {
             "pattern": {
              "fillmode": "overlay",
              "size": 10,
              "solidity": 0.2
             }
            },
            "type": "histogram"
           }
          ],
          "histogram2d": [
           {
            "colorbar": {
             "outlinewidth": 0,
             "ticks": ""
            },
            "colorscale": [
             [
              0,
              "#0d0887"
             ],
             [
              0.1111111111111111,
              "#46039f"
             ],
             [
              0.2222222222222222,
              "#7201a8"
             ],
             [
              0.3333333333333333,
              "#9c179e"
             ],
             [
              0.4444444444444444,
              "#bd3786"
             ],
             [
              0.5555555555555556,
              "#d8576b"
             ],
             [
              0.6666666666666666,
              "#ed7953"
             ],
             [
              0.7777777777777778,
              "#fb9f3a"
             ],
             [
              0.8888888888888888,
              "#fdca26"
             ],
             [
              1,
              "#f0f921"
             ]
            ],
            "type": "histogram2d"
           }
          ],
          "histogram2dcontour": [
           {
            "colorbar": {
             "outlinewidth": 0,
             "ticks": ""
            },
            "colorscale": [
             [
              0,
              "#0d0887"
             ],
             [
              0.1111111111111111,
              "#46039f"
             ],
             [
              0.2222222222222222,
              "#7201a8"
             ],
             [
              0.3333333333333333,
              "#9c179e"
             ],
             [
              0.4444444444444444,
              "#bd3786"
             ],
             [
              0.5555555555555556,
              "#d8576b"
             ],
             [
              0.6666666666666666,
              "#ed7953"
             ],
             [
              0.7777777777777778,
              "#fb9f3a"
             ],
             [
              0.8888888888888888,
              "#fdca26"
             ],
             [
              1,
              "#f0f921"
             ]
            ],
            "type": "histogram2dcontour"
           }
          ],
          "mesh3d": [
           {
            "colorbar": {
             "outlinewidth": 0,
             "ticks": ""
            },
            "type": "mesh3d"
           }
          ],
          "parcoords": [
           {
            "line": {
             "colorbar": {
              "outlinewidth": 0,
              "ticks": ""
             }
            },
            "type": "parcoords"
           }
          ],
          "pie": [
           {
            "automargin": true,
            "type": "pie"
           }
          ],
          "scatter": [
           {
            "fillpattern": {
             "fillmode": "overlay",
             "size": 10,
             "solidity": 0.2
            },
            "type": "scatter"
           }
          ],
          "scatter3d": [
           {
            "line": {
             "colorbar": {
              "outlinewidth": 0,
              "ticks": ""
             }
            },
            "marker": {
             "colorbar": {
              "outlinewidth": 0,
              "ticks": ""
             }
            },
            "type": "scatter3d"
           }
          ],
          "scattercarpet": [
           {
            "marker": {
             "colorbar": {
              "outlinewidth": 0,
              "ticks": ""
             }
            },
            "type": "scattercarpet"
           }
          ],
          "scattergeo": [
           {
            "marker": {
             "colorbar": {
              "outlinewidth": 0,
              "ticks": ""
             }
            },
            "type": "scattergeo"
           }
          ],
          "scattergl": [
           {
            "marker": {
             "colorbar": {
              "outlinewidth": 0,
              "ticks": ""
             }
            },
            "type": "scattergl"
           }
          ],
          "scattermap": [
           {
            "marker": {
             "colorbar": {
              "outlinewidth": 0,
              "ticks": ""
             }
            },
            "type": "scattermap"
           }
          ],
          "scattermapbox": [
           {
            "marker": {
             "colorbar": {
              "outlinewidth": 0,
              "ticks": ""
             }
            },
            "type": "scattermapbox"
           }
          ],
          "scatterpolar": [
           {
            "marker": {
             "colorbar": {
              "outlinewidth": 0,
              "ticks": ""
             }
            },
            "type": "scatterpolar"
           }
          ],
          "scatterpolargl": [
           {
            "marker": {
             "colorbar": {
              "outlinewidth": 0,
              "ticks": ""
             }
            },
            "type": "scatterpolargl"
           }
          ],
          "scatterternary": [
           {
            "marker": {
             "colorbar": {
              "outlinewidth": 0,
              "ticks": ""
             }
            },
            "type": "scatterternary"
           }
          ],
          "surface": [
           {
            "colorbar": {
             "outlinewidth": 0,
             "ticks": ""
            },
            "colorscale": [
             [
              0,
              "#0d0887"
             ],
             [
              0.1111111111111111,
              "#46039f"
             ],
             [
              0.2222222222222222,
              "#7201a8"
             ],
             [
              0.3333333333333333,
              "#9c179e"
             ],
             [
              0.4444444444444444,
              "#bd3786"
             ],
             [
              0.5555555555555556,
              "#d8576b"
             ],
             [
              0.6666666666666666,
              "#ed7953"
             ],
             [
              0.7777777777777778,
              "#fb9f3a"
             ],
             [
              0.8888888888888888,
              "#fdca26"
             ],
             [
              1,
              "#f0f921"
             ]
            ],
            "type": "surface"
           }
          ],
          "table": [
           {
            "cells": {
             "fill": {
              "color": "#EBF0F8"
             },
             "line": {
              "color": "white"
             }
            },
            "header": {
             "fill": {
              "color": "#C8D4E3"
             },
             "line": {
              "color": "white"
             }
            },
            "type": "table"
           }
          ]
         },
         "layout": {
          "annotationdefaults": {
           "arrowcolor": "#2a3f5f",
           "arrowhead": 0,
           "arrowwidth": 1
          },
          "autotypenumbers": "strict",
          "coloraxis": {
           "colorbar": {
            "outlinewidth": 0,
            "ticks": ""
           }
          },
          "colorscale": {
           "diverging": [
            [
             0,
             "#8e0152"
            ],
            [
             0.1,
             "#c51b7d"
            ],
            [
             0.2,
             "#de77ae"
            ],
            [
             0.3,
             "#f1b6da"
            ],
            [
             0.4,
             "#fde0ef"
            ],
            [
             0.5,
             "#f7f7f7"
            ],
            [
             0.6,
             "#e6f5d0"
            ],
            [
             0.7,
             "#b8e186"
            ],
            [
             0.8,
             "#7fbc41"
            ],
            [
             0.9,
             "#4d9221"
            ],
            [
             1,
             "#276419"
            ]
           ],
           "sequential": [
            [
             0,
             "#0d0887"
            ],
            [
             0.1111111111111111,
             "#46039f"
            ],
            [
             0.2222222222222222,
             "#7201a8"
            ],
            [
             0.3333333333333333,
             "#9c179e"
            ],
            [
             0.4444444444444444,
             "#bd3786"
            ],
            [
             0.5555555555555556,
             "#d8576b"
            ],
            [
             0.6666666666666666,
             "#ed7953"
            ],
            [
             0.7777777777777778,
             "#fb9f3a"
            ],
            [
             0.8888888888888888,
             "#fdca26"
            ],
            [
             1,
             "#f0f921"
            ]
           ],
           "sequentialminus": [
            [
             0,
             "#0d0887"
            ],
            [
             0.1111111111111111,
             "#46039f"
            ],
            [
             0.2222222222222222,
             "#7201a8"
            ],
            [
             0.3333333333333333,
             "#9c179e"
            ],
            [
             0.4444444444444444,
             "#bd3786"
            ],
            [
             0.5555555555555556,
             "#d8576b"
            ],
            [
             0.6666666666666666,
             "#ed7953"
            ],
            [
             0.7777777777777778,
             "#fb9f3a"
            ],
            [
             0.8888888888888888,
             "#fdca26"
            ],
            [
             1,
             "#f0f921"
            ]
           ]
          },
          "colorway": [
           "#636efa",
           "#EF553B",
           "#00cc96",
           "#ab63fa",
           "#FFA15A",
           "#19d3f3",
           "#FF6692",
           "#B6E880",
           "#FF97FF",
           "#FECB52"
          ],
          "font": {
           "color": "#2a3f5f"
          },
          "geo": {
           "bgcolor": "white",
           "lakecolor": "white",
           "landcolor": "#E5ECF6",
           "showlakes": true,
           "showland": true,
           "subunitcolor": "white"
          },
          "hoverlabel": {
           "align": "left"
          },
          "hovermode": "closest",
          "mapbox": {
           "style": "light"
          },
          "paper_bgcolor": "white",
          "plot_bgcolor": "#E5ECF6",
          "polar": {
           "angularaxis": {
            "gridcolor": "white",
            "linecolor": "white",
            "ticks": ""
           },
           "bgcolor": "#E5ECF6",
           "radialaxis": {
            "gridcolor": "white",
            "linecolor": "white",
            "ticks": ""
           }
          },
          "scene": {
           "xaxis": {
            "backgroundcolor": "#E5ECF6",
            "gridcolor": "white",
            "gridwidth": 2,
            "linecolor": "white",
            "showbackground": true,
            "ticks": "",
            "zerolinecolor": "white"
           },
           "yaxis": {
            "backgroundcolor": "#E5ECF6",
            "gridcolor": "white",
            "gridwidth": 2,
            "linecolor": "white",
            "showbackground": true,
            "ticks": "",
            "zerolinecolor": "white"
           },
           "zaxis": {
            "backgroundcolor": "#E5ECF6",
            "gridcolor": "white",
            "gridwidth": 2,
            "linecolor": "white",
            "showbackground": true,
            "ticks": "",
            "zerolinecolor": "white"
           }
          },
          "shapedefaults": {
           "line": {
            "color": "#2a3f5f"
           }
          },
          "ternary": {
           "aaxis": {
            "gridcolor": "white",
            "linecolor": "white",
            "ticks": ""
           },
           "baxis": {
            "gridcolor": "white",
            "linecolor": "white",
            "ticks": ""
           },
           "bgcolor": "#E5ECF6",
           "caxis": {
            "gridcolor": "white",
            "linecolor": "white",
            "ticks": ""
           }
          },
          "title": {
           "x": 0.05
          },
          "xaxis": {
           "automargin": true,
           "gridcolor": "white",
           "linecolor": "white",
           "ticks": "",
           "title": {
            "standoff": 15
           },
           "zerolinecolor": "white",
           "zerolinewidth": 2
          },
          "yaxis": {
           "automargin": true,
           "gridcolor": "white",
           "linecolor": "white",
           "ticks": "",
           "title": {
            "standoff": 15
           },
           "zerolinecolor": "white",
           "zerolinewidth": 2
          }
         }
        },
        "title": {
         "font": {
          "family": "Arial",
          "size": 20,
          "weight": "bold"
         },
         "text": "Distribuzione delle variabili Prezzo Previsto e Delta Prezzo",
         "x": 0.5,
         "xanchor": "center"
        },
        "xaxis": {
         "anchor": "y",
         "domain": [
          0,
          0.45
         ]
        },
        "xaxis2": {
         "anchor": "y2",
         "domain": [
          0.55,
          1
         ]
        },
        "yaxis": {
         "anchor": "x",
         "domain": [
          0,
          1
         ]
        },
        "yaxis2": {
         "anchor": "x2",
         "domain": [
          0,
          1
         ]
        }
       }
      }
     },
     "metadata": {},
     "output_type": "display_data"
    }
   ],
   "source": [
    "plot_price_prediction_distributions(data_ml)"
   ]
  },
  {
   "cell_type": "code",
   "execution_count": 9,
   "id": "992b4a51",
   "metadata": {},
   "outputs": [],
   "source": [
    "#is_conveniente_class_report(data_ml)"
   ]
  },
  {
   "cell_type": "markdown",
   "id": "ea5ae4ed",
   "metadata": {},
   "source": [
    "### 3. Indice di attendibilità"
   ]
  },
  {
   "cell_type": "code",
   "execution_count": 13,
   "id": "58f35fa0",
   "metadata": {},
   "outputs": [],
   "source": [
    "#Prezzo soglia: prezzo oltre il quale il punteggio di attendibilità diminuisce\n",
    "prezzo_soglia=35000\n",
    "\n",
    "#Valori per il calcolo indice di attendibilità\n",
    "valore_idx_anni = 0.025\n",
    "valore_idx_prezzo = 0.15\n",
    "valore_idx_km= 0.15 \n",
    "valore_idx_dist = 0.10 \n",
    "valore_idx_allestimento= 0.25 \n",
    "valore_idx_cv =0.025\n",
    "valore_idx_cambio = 0.20 "
   ]
  },
  {
   "cell_type": "code",
   "execution_count": 14,
   "id": "0d094a9d",
   "metadata": {},
   "outputs": [],
   "source": [
    "df = indice_appetibilita(data, y_pred, prezzo_soglia, valore_idx_anni, valore_idx_prezzo, valore_idx_km, \n",
    "                           valore_idx_dist, valore_idx_allestimento, valore_idx_cv, valore_idx_cambio, \n",
    "                           allestimento_performance, allestimento_sport,allestimento_middle,allestimento_base)"
   ]
  },
  {
   "cell_type": "code",
   "execution_count": 16,
   "id": "2f4f2f6f",
   "metadata": {},
   "outputs": [
    {
     "name": "stdout",
     "output_type": "stream",
     "text": [
      "Le migliori 20 auto secondo l'indice di appetibilità sono:\n"
     ]
    },
    {
     "data": {
      "text/html": [
       "Indice 0.85 → <a href='https://www.automobile.it/pieve-cento-audi-a3-spb-40-tfsi-s-tronic/180231480' target='_blank'>https://www.automobile.it/pieve-cento-audi-a3-spb-40-tfsi-s-tronic/180231480</a>"
      ],
      "text/plain": [
       "<IPython.core.display.HTML object>"
      ]
     },
     "metadata": {},
     "output_type": "display_data"
    },
    {
     "data": {
      "text/html": [
       "Indice 0.85 → <a href='https://www.automobile.it/parma-audi-a3-spb-40-tfsi-s-tronic-s-line-edition-matrix/180697611' target='_blank'>https://www.automobile.it/parma-audi-a3-spb-40-tfsi-s-tronic-s-line-edition-matrix/180697611</a>"
      ],
      "text/plain": [
       "<IPython.core.display.HTML object>"
      ]
     },
     "metadata": {},
     "output_type": "display_data"
    },
    {
     "data": {
      "text/html": [
       "Indice 0.85 → <a href='https://www.automobile.it/castenaso-audi-a3-sedan-30-tdi-s-line-edition/179987411' target='_blank'>https://www.automobile.it/castenaso-audi-a3-sedan-30-tdi-s-line-edition/179987411</a>"
      ],
      "text/plain": [
       "<IPython.core.display.HTML object>"
      ]
     },
     "metadata": {},
     "output_type": "display_data"
    },
    {
     "data": {
      "text/html": [
       "Indice 0.85 → <a href='https://www.automobile.it/bologna-audi-a3-spb-30-tdi-s-tronic/180800500' target='_blank'>https://www.automobile.it/bologna-audi-a3-spb-30-tdi-s-tronic/180800500</a>"
      ],
      "text/plain": [
       "<IPython.core.display.HTML object>"
      ]
     },
     "metadata": {},
     "output_type": "display_data"
    },
    {
     "data": {
      "text/html": [
       "Indice 0.85 → <a href='https://www.automobile.it/castenaso-audi-a3-spb-30-tdi-s-tronic-s-line-edition/179495489' target='_blank'>https://www.automobile.it/castenaso-audi-a3-spb-30-tdi-s-tronic-s-line-edition/179495489</a>"
      ],
      "text/plain": [
       "<IPython.core.display.HTML object>"
      ]
     },
     "metadata": {},
     "output_type": "display_data"
    },
    {
     "data": {
      "text/html": [
       "Indice 0.85 → <a href='https://www.automobile.it/castenaso-audi-a3-spb-30-tfsi-s-tronic-s-line-edition/180254171' target='_blank'>https://www.automobile.it/castenaso-audi-a3-spb-30-tfsi-s-tronic-s-line-edition/180254171</a>"
      ],
      "text/plain": [
       "<IPython.core.display.HTML object>"
      ]
     },
     "metadata": {},
     "output_type": "display_data"
    },
    {
     "data": {
      "text/html": [
       "Indice 0.85 → <a href='https://www.automobile.it/casalgrande-audi-a3-spb-40-tfsi-s-tronic-s-line-plug-prezzo-reale/180808950' target='_blank'>https://www.automobile.it/casalgrande-audi-a3-spb-40-tfsi-s-tronic-s-line-plug-prezzo-reale/180808950</a>"
      ],
      "text/plain": [
       "<IPython.core.display.HTML object>"
      ]
     },
     "metadata": {},
     "output_type": "display_data"
    },
    {
     "data": {
      "text/html": [
       "Indice 0.85 → <a href='https://www.automobile.it/firenze-audi-a3-spb-45-tfsi-s-tronic-s-line-edition/180648465' target='_blank'>https://www.automobile.it/firenze-audi-a3-spb-45-tfsi-s-tronic-s-line-edition/180648465</a>"
      ],
      "text/plain": [
       "<IPython.core.display.HTML object>"
      ]
     },
     "metadata": {},
     "output_type": "display_data"
    },
    {
     "data": {
      "text/html": [
       "Indice 0.85 → <a href='https://www.automobile.it/verona-audi-a3-spb-45-tfsi-s-tronic-s-line-edition/180648292' target='_blank'>https://www.automobile.it/verona-audi-a3-spb-45-tfsi-s-tronic-s-line-edition/180648292</a>"
      ],
      "text/plain": [
       "<IPython.core.display.HTML object>"
      ]
     },
     "metadata": {},
     "output_type": "display_data"
    },
    {
     "data": {
      "text/html": [
       "Indice 0.85 → <a href='https://autosupermarket.it/annunci/audi-a3-30-g-tron-metano-2023-3f20ed252788f68a?search=https://autosupermarket.it/ricerca/audi/a3/prezzo-da-10000?anno-da%3D2020%26t%3Db008wm%26ordina%3Dprezzo-su%26page%3D14' target='_blank'>https://autosupermarket.it/annunci/audi-a3-30-g-tron-metano-2023-3f20ed252788f68a?search=https://autosupermarket.it/ricerca/audi/a3/prezzo-da-10000?anno-da%3D2020%26t%3Db008wm%26ordina%3Dprezzo-su%26page%3D14</a>"
      ],
      "text/plain": [
       "<IPython.core.display.HTML object>"
      ]
     },
     "metadata": {},
     "output_type": "display_data"
    },
    {
     "data": {
      "text/html": [
       "Indice 0.85 → <a href='https://autosupermarket.it/annunci/audi-a3-30-tdi-diesel-2023-215f290c3f09060d?search=https://autosupermarket.it/ricerca/audi/a3/prezzo-da-10000?anno-da%3D2020%26t%3Db008wm%26ordina%3Dprezzo-su%26page%3D17' target='_blank'>https://autosupermarket.it/annunci/audi-a3-30-tdi-diesel-2023-215f290c3f09060d?search=https://autosupermarket.it/ricerca/audi/a3/prezzo-da-10000?anno-da%3D2020%26t%3Db008wm%26ordina%3Dprezzo-su%26page%3D17</a>"
      ],
      "text/plain": [
       "<IPython.core.display.HTML object>"
      ]
     },
     "metadata": {},
     "output_type": "display_data"
    },
    {
     "data": {
      "text/html": [
       "Indice 0.85 → <a href='https://autosupermarket.it/annunci/audi-a3-30-tdi-diesel-2024-76b970954297d79a?search=https://autosupermarket.it/ricerca/audi/a3/prezzo-da-10000?anno-da%3D2020%26t%3Db008wm%26ordina%3Dprezzo-su%26page%3D23' target='_blank'>https://autosupermarket.it/annunci/audi-a3-30-tdi-diesel-2024-76b970954297d79a?search=https://autosupermarket.it/ricerca/audi/a3/prezzo-da-10000?anno-da%3D2020%26t%3Db008wm%26ordina%3Dprezzo-su%26page%3D23</a>"
      ],
      "text/plain": [
       "<IPython.core.display.HTML object>"
      ]
     },
     "metadata": {},
     "output_type": "display_data"
    },
    {
     "data": {
      "text/html": [
       "Indice 0.84 → <a href='https://www.automobile.it/castelnuovo-rangone-audi-a3-spb-30-tfsi/179168895' target='_blank'>https://www.automobile.it/castelnuovo-rangone-audi-a3-spb-30-tfsi/179168895</a>"
      ],
      "text/plain": [
       "<IPython.core.display.HTML object>"
      ]
     },
     "metadata": {},
     "output_type": "display_data"
    },
    {
     "data": {
      "text/html": [
       "Indice 0.84 → <a href='https://www.automobile.it/pisa-audi-a3-spb-30-tfsi-s-line-edition/180926356' target='_blank'>https://www.automobile.it/pisa-audi-a3-spb-30-tfsi-s-line-edition/180926356</a>"
      ],
      "text/plain": [
       "<IPython.core.display.HTML object>"
      ]
     },
     "metadata": {},
     "output_type": "display_data"
    },
    {
     "data": {
      "text/html": [
       "Indice 0.84 → <a href='https://www.automobile.it/gavardo-audi-a3-spb-35-tfsi-s-tronic-s-line-2022-ibrid/180598254' target='_blank'>https://www.automobile.it/gavardo-audi-a3-spb-35-tfsi-s-tronic-s-line-2022-ibrid/180598254</a>"
      ],
      "text/plain": [
       "<IPython.core.display.HTML object>"
      ]
     },
     "metadata": {},
     "output_type": "display_data"
    },
    {
     "data": {
      "text/html": [
       "Indice 0.84 → <a href='https://www.automobile.it/villongo-audi-a3-spb-40-tfsi-s-tronic-plug/180639520' target='_blank'>https://www.automobile.it/villongo-audi-a3-spb-40-tfsi-s-tronic-plug/180639520</a>"
      ],
      "text/plain": [
       "<IPython.core.display.HTML object>"
      ]
     },
     "metadata": {},
     "output_type": "display_data"
    },
    {
     "data": {
      "text/html": [
       "Indice 0.84 → <a href='https://www.automobile.it/villongo-audi-a3-spb-40-tfsi-s-tronic-plug/180913543' target='_blank'>https://www.automobile.it/villongo-audi-a3-spb-40-tfsi-s-tronic-plug/180913543</a>"
      ],
      "text/plain": [
       "<IPython.core.display.HTML object>"
      ]
     },
     "metadata": {},
     "output_type": "display_data"
    },
    {
     "data": {
      "text/html": [
       "Indice 0.84 → <a href='https://www.automobile.it/villongo-audi-a3-spb-40-tfsi-s-tronic-plug/180913542' target='_blank'>https://www.automobile.it/villongo-audi-a3-spb-40-tfsi-s-tronic-plug/180913542</a>"
      ],
      "text/plain": [
       "<IPython.core.display.HTML object>"
      ]
     },
     "metadata": {},
     "output_type": "display_data"
    },
    {
     "data": {
      "text/html": [
       "Indice 0.84 → <a href='https://www.automobile.it/villongo-audi-a3-spb-45-tfsi-245-cv-s-tronic-s-line-edition/180914951' target='_blank'>https://www.automobile.it/villongo-audi-a3-spb-45-tfsi-245-cv-s-tronic-s-line-edition/180914951</a>"
      ],
      "text/plain": [
       "<IPython.core.display.HTML object>"
      ]
     },
     "metadata": {},
     "output_type": "display_data"
    },
    {
     "data": {
      "text/html": [
       "Indice 0.84 → <a href='https://www.automobile.it/mogliano-veneto-audi-a3-30-tdi-s-tronic-s-line/180885278' target='_blank'>https://www.automobile.it/mogliano-veneto-audi-a3-30-tdi-s-tronic-s-line/180885278</a>"
      ],
      "text/plain": [
       "<IPython.core.display.HTML object>"
      ]
     },
     "metadata": {},
     "output_type": "display_data"
    },
    {
     "name": "stdout",
     "output_type": "stream",
     "text": [
      "\n"
     ]
    },
    {
     "data": {
      "text/html": [
       "<div>\n",
       "<style scoped>\n",
       "    .dataframe tbody tr th:only-of-type {\n",
       "        vertical-align: middle;\n",
       "    }\n",
       "\n",
       "    .dataframe tbody tr th {\n",
       "        vertical-align: top;\n",
       "    }\n",
       "\n",
       "    .dataframe thead th {\n",
       "        text-align: right;\n",
       "    }\n",
       "</style>\n",
       "<table border=\"1\" class=\"dataframe\">\n",
       "  <thead>\n",
       "    <tr style=\"text-align: right;\">\n",
       "      <th></th>\n",
       "      <th>Annuncio</th>\n",
       "      <th>Link</th>\n",
       "      <th>Prezzo</th>\n",
       "      <th>Anni</th>\n",
       "      <th>Immatricolazione</th>\n",
       "      <th>Chilometraggio</th>\n",
       "      <th>Cambio</th>\n",
       "      <th>Carburante</th>\n",
       "      <th>CV</th>\n",
       "      <th>Allestimento</th>\n",
       "      <th>...</th>\n",
       "      <th>Venditore</th>\n",
       "      <th>Distanza</th>\n",
       "      <th>Comune</th>\n",
       "      <th>CAP</th>\n",
       "      <th>Regione</th>\n",
       "      <th>Area</th>\n",
       "      <th>Indice_Appetibilità</th>\n",
       "      <th>prezzo_previsto</th>\n",
       "      <th>delta_prezzo</th>\n",
       "      <th>is_conveniente</th>\n",
       "    </tr>\n",
       "  </thead>\n",
       "  <tbody>\n",
       "    <tr>\n",
       "      <th>1983</th>\n",
       "      <td>AUDI A3 SPB 40 TFSI e S tronic</td>\n",
       "      <td>https://www.automobile.it/pieve-cento-audi-a3-...</td>\n",
       "      <td>26950</td>\n",
       "      <td>3</td>\n",
       "      <td>2022</td>\n",
       "      <td>26</td>\n",
       "      <td>automatico</td>\n",
       "      <td>Ibrido</td>\n",
       "      <td>190</td>\n",
       "      <td>S</td>\n",
       "      <td>...</td>\n",
       "      <td>Rivenditore</td>\n",
       "      <td>14</td>\n",
       "      <td>pieve cento</td>\n",
       "      <td>40066</td>\n",
       "      <td>Emilia-Romagna</td>\n",
       "      <td>Nord-est</td>\n",
       "      <td>0.85</td>\n",
       "      <td>27803.58</td>\n",
       "      <td>853.58</td>\n",
       "      <td>1</td>\n",
       "    </tr>\n",
       "    <tr>\n",
       "      <th>1990</th>\n",
       "      <td>AUDI A3 SPB 40 TFSI e S tronic S line edition ...</td>\n",
       "      <td>https://www.automobile.it/parma-audi-a3-spb-40...</td>\n",
       "      <td>27000</td>\n",
       "      <td>3</td>\n",
       "      <td>2022</td>\n",
       "      <td>72</td>\n",
       "      <td>automatico</td>\n",
       "      <td>Ibrido</td>\n",
       "      <td>190</td>\n",
       "      <td>S line</td>\n",
       "      <td>...</td>\n",
       "      <td>Rivenditore</td>\n",
       "      <td>65</td>\n",
       "      <td>parma</td>\n",
       "      <td>43121</td>\n",
       "      <td>Emilia-Romagna</td>\n",
       "      <td>Nord-est</td>\n",
       "      <td>0.85</td>\n",
       "      <td>28942.95</td>\n",
       "      <td>1942.95</td>\n",
       "      <td>1</td>\n",
       "    </tr>\n",
       "    <tr>\n",
       "      <th>2017</th>\n",
       "      <td>AUDI A3 Sedan 30 TDI S line edition</td>\n",
       "      <td>https://www.automobile.it/castenaso-audi-a3-se...</td>\n",
       "      <td>27900</td>\n",
       "      <td>2</td>\n",
       "      <td>2023</td>\n",
       "      <td>26</td>\n",
       "      <td>automatico</td>\n",
       "      <td>Diesel</td>\n",
       "      <td>116</td>\n",
       "      <td>S line</td>\n",
       "      <td>...</td>\n",
       "      <td>Rivenditore</td>\n",
       "      <td>31</td>\n",
       "      <td>castenaso</td>\n",
       "      <td>40055</td>\n",
       "      <td>Emilia-Romagna</td>\n",
       "      <td>Nord-est</td>\n",
       "      <td>0.85</td>\n",
       "      <td>29271.16</td>\n",
       "      <td>1371.16</td>\n",
       "      <td>1</td>\n",
       "    </tr>\n",
       "    <tr>\n",
       "      <th>2088</th>\n",
       "      <td>AUDI A3 SPB 30 TDI S tronic</td>\n",
       "      <td>https://www.automobile.it/bologna-audi-a3-spb-...</td>\n",
       "      <td>29099</td>\n",
       "      <td>2</td>\n",
       "      <td>2023</td>\n",
       "      <td>21</td>\n",
       "      <td>automatico</td>\n",
       "      <td>Diesel</td>\n",
       "      <td>116</td>\n",
       "      <td>S</td>\n",
       "      <td>...</td>\n",
       "      <td>Rivenditore</td>\n",
       "      <td>25</td>\n",
       "      <td>bologna</td>\n",
       "      <td>40121</td>\n",
       "      <td>Emilia-Romagna</td>\n",
       "      <td>Nord-est</td>\n",
       "      <td>0.85</td>\n",
       "      <td>29099.00</td>\n",
       "      <td>0.00</td>\n",
       "      <td>0</td>\n",
       "    </tr>\n",
       "    <tr>\n",
       "      <th>2117</th>\n",
       "      <td>AUDI A3 SPB 30 TDI S tronic S line edition</td>\n",
       "      <td>https://www.automobile.it/castenaso-audi-a3-sp...</td>\n",
       "      <td>29900</td>\n",
       "      <td>1</td>\n",
       "      <td>2024</td>\n",
       "      <td>35</td>\n",
       "      <td>automatico</td>\n",
       "      <td>Diesel</td>\n",
       "      <td>116</td>\n",
       "      <td>S line</td>\n",
       "      <td>...</td>\n",
       "      <td>Rivenditore</td>\n",
       "      <td>31</td>\n",
       "      <td>castenaso</td>\n",
       "      <td>40055</td>\n",
       "      <td>Emilia-Romagna</td>\n",
       "      <td>Nord-est</td>\n",
       "      <td>0.85</td>\n",
       "      <td>31461.27</td>\n",
       "      <td>1561.27</td>\n",
       "      <td>1</td>\n",
       "    </tr>\n",
       "    <tr>\n",
       "      <th>2118</th>\n",
       "      <td>AUDI A3 SPB 30 TFSI S tronic S line edition</td>\n",
       "      <td>https://www.automobile.it/castenaso-audi-a3-sp...</td>\n",
       "      <td>29900</td>\n",
       "      <td>1</td>\n",
       "      <td>2024</td>\n",
       "      <td>44</td>\n",
       "      <td>automatico</td>\n",
       "      <td>Ibrido</td>\n",
       "      <td>110</td>\n",
       "      <td>S line</td>\n",
       "      <td>...</td>\n",
       "      <td>Rivenditore</td>\n",
       "      <td>31</td>\n",
       "      <td>castenaso</td>\n",
       "      <td>40055</td>\n",
       "      <td>Emilia-Romagna</td>\n",
       "      <td>Nord-est</td>\n",
       "      <td>0.85</td>\n",
       "      <td>35441.50</td>\n",
       "      <td>5541.50</td>\n",
       "      <td>1</td>\n",
       "    </tr>\n",
       "    <tr>\n",
       "      <th>2142</th>\n",
       "      <td>Audi A3 SPB 40 TFSI e S tronic S LINE Plug-In ...</td>\n",
       "      <td>https://www.automobile.it/casalgrande-audi-a3-...</td>\n",
       "      <td>30499</td>\n",
       "      <td>3</td>\n",
       "      <td>2022</td>\n",
       "      <td>20</td>\n",
       "      <td>automatico</td>\n",
       "      <td>Ibrido</td>\n",
       "      <td>190</td>\n",
       "      <td>S line</td>\n",
       "      <td>...</td>\n",
       "      <td>Rivenditore</td>\n",
       "      <td>32</td>\n",
       "      <td>casalgrande</td>\n",
       "      <td>42013</td>\n",
       "      <td>Emilia-Romagna</td>\n",
       "      <td>Nord-est</td>\n",
       "      <td>0.85</td>\n",
       "      <td>31884.20</td>\n",
       "      <td>1385.20</td>\n",
       "      <td>1</td>\n",
       "    </tr>\n",
       "    <tr>\n",
       "      <th>2155</th>\n",
       "      <td>AUDI A3 SPB 45 TFSI e S tronic S line edition</td>\n",
       "      <td>https://www.automobile.it/firenze-audi-a3-spb-...</td>\n",
       "      <td>30599</td>\n",
       "      <td>2</td>\n",
       "      <td>2023</td>\n",
       "      <td>43</td>\n",
       "      <td>automatico</td>\n",
       "      <td>Ibrido</td>\n",
       "      <td>245</td>\n",
       "      <td>S line</td>\n",
       "      <td>...</td>\n",
       "      <td>Rivenditore</td>\n",
       "      <td>99</td>\n",
       "      <td>firenze</td>\n",
       "      <td>50121</td>\n",
       "      <td>Toscana</td>\n",
       "      <td>Centro</td>\n",
       "      <td>0.85</td>\n",
       "      <td>30844.65</td>\n",
       "      <td>245.65</td>\n",
       "      <td>1</td>\n",
       "    </tr>\n",
       "    <tr>\n",
       "      <th>2156</th>\n",
       "      <td>AUDI A3 SPB 45 TFSI e S tronic S line edition</td>\n",
       "      <td>https://www.automobile.it/verona-audi-a3-spb-4...</td>\n",
       "      <td>30599</td>\n",
       "      <td>2</td>\n",
       "      <td>2023</td>\n",
       "      <td>43</td>\n",
       "      <td>automatico</td>\n",
       "      <td>Ibrido</td>\n",
       "      <td>245</td>\n",
       "      <td>S line</td>\n",
       "      <td>...</td>\n",
       "      <td>Rivenditore</td>\n",
       "      <td>86</td>\n",
       "      <td>verona</td>\n",
       "      <td>37121</td>\n",
       "      <td>Veneto</td>\n",
       "      <td>Nord-est</td>\n",
       "      <td>0.85</td>\n",
       "      <td>30742.55</td>\n",
       "      <td>143.55</td>\n",
       "      <td>1</td>\n",
       "    </tr>\n",
       "    <tr>\n",
       "      <th>3095</th>\n",
       "      <td>Audi A3 SPB 30 g-tron S tronic S-LINE \"\" BELL1...</td>\n",
       "      <td>https://autosupermarket.it/annunci/audi-a3-30-...</td>\n",
       "      <td>26690</td>\n",
       "      <td>2</td>\n",
       "      <td>2023</td>\n",
       "      <td>96</td>\n",
       "      <td>automatico</td>\n",
       "      <td>Benzina</td>\n",
       "      <td>131</td>\n",
       "      <td>S line</td>\n",
       "      <td>...</td>\n",
       "      <td>Rivenditore</td>\n",
       "      <td>65</td>\n",
       "      <td>parma</td>\n",
       "      <td>43126</td>\n",
       "      <td>Emilia-Romagna</td>\n",
       "      <td>Nord-est</td>\n",
       "      <td>0.85</td>\n",
       "      <td>29750.98</td>\n",
       "      <td>3060.98</td>\n",
       "      <td>1</td>\n",
       "    </tr>\n",
       "    <tr>\n",
       "      <th>3139</th>\n",
       "      <td>Audi A3 SPB 30 TDI S tronic S line NAVI+RETR.</td>\n",
       "      <td>https://autosupermarket.it/annunci/audi-a3-30-...</td>\n",
       "      <td>27500</td>\n",
       "      <td>2</td>\n",
       "      <td>2023</td>\n",
       "      <td>75</td>\n",
       "      <td>automatico</td>\n",
       "      <td>Diesel</td>\n",
       "      <td>116</td>\n",
       "      <td>S line</td>\n",
       "      <td>...</td>\n",
       "      <td>Rivenditore</td>\n",
       "      <td>16</td>\n",
       "      <td>modena</td>\n",
       "      <td>41121</td>\n",
       "      <td>Emilia-Romagna</td>\n",
       "      <td>Nord-est</td>\n",
       "      <td>0.85</td>\n",
       "      <td>27630.95</td>\n",
       "      <td>130.95</td>\n",
       "      <td>1</td>\n",
       "    </tr>\n",
       "    <tr>\n",
       "      <th>3233</th>\n",
       "      <td>Audi A3 SPB 30 TDI S tronic S line edition</td>\n",
       "      <td>https://autosupermarket.it/annunci/audi-a3-30-...</td>\n",
       "      <td>29900</td>\n",
       "      <td>1</td>\n",
       "      <td>2024</td>\n",
       "      <td>35</td>\n",
       "      <td>automatico</td>\n",
       "      <td>Diesel</td>\n",
       "      <td>116</td>\n",
       "      <td>S line</td>\n",
       "      <td>...</td>\n",
       "      <td>Rivenditore</td>\n",
       "      <td>31</td>\n",
       "      <td>castenaso</td>\n",
       "      <td>40055</td>\n",
       "      <td>Emilia-Romagna</td>\n",
       "      <td>Nord-est</td>\n",
       "      <td>0.85</td>\n",
       "      <td>31461.27</td>\n",
       "      <td>1561.27</td>\n",
       "      <td>1</td>\n",
       "    </tr>\n",
       "    <tr>\n",
       "      <th>1849</th>\n",
       "      <td>AUDI A3 SPB 30 TFSI</td>\n",
       "      <td>https://www.automobile.it/castelnuovo-rangone-...</td>\n",
       "      <td>24500</td>\n",
       "      <td>4</td>\n",
       "      <td>2021</td>\n",
       "      <td>55</td>\n",
       "      <td>automatico</td>\n",
       "      <td>Benzina</td>\n",
       "      <td>110</td>\n",
       "      <td>S</td>\n",
       "      <td>...</td>\n",
       "      <td>Rivenditore</td>\n",
       "      <td>20</td>\n",
       "      <td>castelnuovo rangone</td>\n",
       "      <td>41051</td>\n",
       "      <td>Emilia-Romagna</td>\n",
       "      <td>Nord-est</td>\n",
       "      <td>0.84</td>\n",
       "      <td>24537.80</td>\n",
       "      <td>37.80</td>\n",
       "      <td>0</td>\n",
       "    </tr>\n",
       "    <tr>\n",
       "      <th>1897</th>\n",
       "      <td>Audi A3 SPB 30 TFSI S line edition</td>\n",
       "      <td>https://www.automobile.it/pisa-audi-a3-spb-30-...</td>\n",
       "      <td>24900</td>\n",
       "      <td>2</td>\n",
       "      <td>2023</td>\n",
       "      <td>28</td>\n",
       "      <td>automatico</td>\n",
       "      <td>Benzina</td>\n",
       "      <td>110</td>\n",
       "      <td>S line</td>\n",
       "      <td>...</td>\n",
       "      <td>Rivenditore</td>\n",
       "      <td>120</td>\n",
       "      <td>pisa</td>\n",
       "      <td>56121</td>\n",
       "      <td>Toscana</td>\n",
       "      <td>Centro</td>\n",
       "      <td>0.84</td>\n",
       "      <td>28200.30</td>\n",
       "      <td>3300.30</td>\n",
       "      <td>1</td>\n",
       "    </tr>\n",
       "    <tr>\n",
       "      <th>1915</th>\n",
       "      <td>Audi A3 SPB 35 TFSI S tronic S line 2022 ibrid</td>\n",
       "      <td>https://www.automobile.it/gavardo-audi-a3-spb-...</td>\n",
       "      <td>25500</td>\n",
       "      <td>3</td>\n",
       "      <td>2022</td>\n",
       "      <td>29</td>\n",
       "      <td>automatico</td>\n",
       "      <td>Ibrido</td>\n",
       "      <td>150</td>\n",
       "      <td>S line</td>\n",
       "      <td>...</td>\n",
       "      <td>Rivenditore</td>\n",
       "      <td>116</td>\n",
       "      <td>gavardo</td>\n",
       "      <td>25085</td>\n",
       "      <td>Lombardia</td>\n",
       "      <td>Nord-ovest</td>\n",
       "      <td>0.84</td>\n",
       "      <td>26987.39</td>\n",
       "      <td>1487.39</td>\n",
       "      <td>1</td>\n",
       "    </tr>\n",
       "    <tr>\n",
       "      <th>1934</th>\n",
       "      <td>Audi A3 SPB 40 TFSI e S-tronic PLUG-IN</td>\n",
       "      <td>https://www.automobile.it/villongo-audi-a3-spb...</td>\n",
       "      <td>25900</td>\n",
       "      <td>3</td>\n",
       "      <td>2022</td>\n",
       "      <td>49</td>\n",
       "      <td>automatico</td>\n",
       "      <td>Ibrido</td>\n",
       "      <td>190</td>\n",
       "      <td>S</td>\n",
       "      <td>...</td>\n",
       "      <td>Rivenditore</td>\n",
       "      <td>146</td>\n",
       "      <td>villongo</td>\n",
       "      <td>24060</td>\n",
       "      <td>Lombardia</td>\n",
       "      <td>Nord-ovest</td>\n",
       "      <td>0.84</td>\n",
       "      <td>25920.90</td>\n",
       "      <td>20.90</td>\n",
       "      <td>0</td>\n",
       "    </tr>\n",
       "    <tr>\n",
       "      <th>1935</th>\n",
       "      <td>Audi A3 SPB 40 TFSI e S-tronic PLUG-IN</td>\n",
       "      <td>https://www.automobile.it/villongo-audi-a3-spb...</td>\n",
       "      <td>25900</td>\n",
       "      <td>3</td>\n",
       "      <td>2022</td>\n",
       "      <td>49</td>\n",
       "      <td>automatico</td>\n",
       "      <td>Ibrido</td>\n",
       "      <td>190</td>\n",
       "      <td>S</td>\n",
       "      <td>...</td>\n",
       "      <td>Rivenditore</td>\n",
       "      <td>146</td>\n",
       "      <td>villongo</td>\n",
       "      <td>24060</td>\n",
       "      <td>Lombardia</td>\n",
       "      <td>Nord-ovest</td>\n",
       "      <td>0.84</td>\n",
       "      <td>25920.90</td>\n",
       "      <td>20.90</td>\n",
       "      <td>0</td>\n",
       "    </tr>\n",
       "    <tr>\n",
       "      <th>1936</th>\n",
       "      <td>Audi A3 SPB 40 TFSI e S-tronic PLUG-IN</td>\n",
       "      <td>https://www.automobile.it/villongo-audi-a3-spb...</td>\n",
       "      <td>25900</td>\n",
       "      <td>3</td>\n",
       "      <td>2022</td>\n",
       "      <td>49</td>\n",
       "      <td>automatico</td>\n",
       "      <td>Ibrido</td>\n",
       "      <td>190</td>\n",
       "      <td>S</td>\n",
       "      <td>...</td>\n",
       "      <td>Rivenditore</td>\n",
       "      <td>146</td>\n",
       "      <td>villongo</td>\n",
       "      <td>24060</td>\n",
       "      <td>Lombardia</td>\n",
       "      <td>Nord-ovest</td>\n",
       "      <td>0.84</td>\n",
       "      <td>25920.90</td>\n",
       "      <td>20.90</td>\n",
       "      <td>0</td>\n",
       "    </tr>\n",
       "    <tr>\n",
       "      <th>1937</th>\n",
       "      <td>Audi A3 SPB 45 TFSI e 245 CV S tronic S line e...</td>\n",
       "      <td>https://www.automobile.it/villongo-audi-a3-spb...</td>\n",
       "      <td>25900</td>\n",
       "      <td>4</td>\n",
       "      <td>2021</td>\n",
       "      <td>89</td>\n",
       "      <td>automatico</td>\n",
       "      <td>Ibrido</td>\n",
       "      <td>245</td>\n",
       "      <td>S line</td>\n",
       "      <td>...</td>\n",
       "      <td>Rivenditore</td>\n",
       "      <td>146</td>\n",
       "      <td>villongo</td>\n",
       "      <td>24060</td>\n",
       "      <td>Lombardia</td>\n",
       "      <td>Nord-ovest</td>\n",
       "      <td>0.84</td>\n",
       "      <td>28951.20</td>\n",
       "      <td>3051.20</td>\n",
       "      <td>1</td>\n",
       "    </tr>\n",
       "    <tr>\n",
       "      <th>1945</th>\n",
       "      <td>AUDI A3 30 TDI S tronic S line</td>\n",
       "      <td>https://www.automobile.it/mogliano-veneto-audi...</td>\n",
       "      <td>26200</td>\n",
       "      <td>2</td>\n",
       "      <td>2023</td>\n",
       "      <td>69</td>\n",
       "      <td>automatico</td>\n",
       "      <td>Diesel</td>\n",
       "      <td>116</td>\n",
       "      <td>S line</td>\n",
       "      <td>...</td>\n",
       "      <td>Rivenditore</td>\n",
       "      <td>132</td>\n",
       "      <td>mogliano veneto</td>\n",
       "      <td>31021</td>\n",
       "      <td>Veneto</td>\n",
       "      <td>Nord-est</td>\n",
       "      <td>0.84</td>\n",
       "      <td>26491.50</td>\n",
       "      <td>291.50</td>\n",
       "      <td>1</td>\n",
       "    </tr>\n",
       "  </tbody>\n",
       "</table>\n",
       "<p>20 rows × 22 columns</p>\n",
       "</div>"
      ],
      "text/plain": [
       "                                               Annuncio  \\\n",
       "1983                     AUDI A3 SPB 40 TFSI e S tronic   \n",
       "1990  AUDI A3 SPB 40 TFSI e S tronic S line edition ...   \n",
       "2017                AUDI A3 Sedan 30 TDI S line edition   \n",
       "2088                        AUDI A3 SPB 30 TDI S tronic   \n",
       "2117         AUDI A3 SPB 30 TDI S tronic S line edition   \n",
       "2118        AUDI A3 SPB 30 TFSI S tronic S line edition   \n",
       "2142  Audi A3 SPB 40 TFSI e S tronic S LINE Plug-In ...   \n",
       "2155      AUDI A3 SPB 45 TFSI e S tronic S line edition   \n",
       "2156      AUDI A3 SPB 45 TFSI e S tronic S line edition   \n",
       "3095  Audi A3 SPB 30 g-tron S tronic S-LINE \"\" BELL1...   \n",
       "3139      Audi A3 SPB 30 TDI S tronic S line NAVI+RETR.   \n",
       "3233         Audi A3 SPB 30 TDI S tronic S line edition   \n",
       "1849                                AUDI A3 SPB 30 TFSI   \n",
       "1897                 Audi A3 SPB 30 TFSI S line edition   \n",
       "1915     Audi A3 SPB 35 TFSI S tronic S line 2022 ibrid   \n",
       "1934             Audi A3 SPB 40 TFSI e S-tronic PLUG-IN   \n",
       "1935             Audi A3 SPB 40 TFSI e S-tronic PLUG-IN   \n",
       "1936             Audi A3 SPB 40 TFSI e S-tronic PLUG-IN   \n",
       "1937  Audi A3 SPB 45 TFSI e 245 CV S tronic S line e...   \n",
       "1945                     AUDI A3 30 TDI S tronic S line   \n",
       "\n",
       "                                                   Link  Prezzo  Anni  \\\n",
       "1983  https://www.automobile.it/pieve-cento-audi-a3-...   26950     3   \n",
       "1990  https://www.automobile.it/parma-audi-a3-spb-40...   27000     3   \n",
       "2017  https://www.automobile.it/castenaso-audi-a3-se...   27900     2   \n",
       "2088  https://www.automobile.it/bologna-audi-a3-spb-...   29099     2   \n",
       "2117  https://www.automobile.it/castenaso-audi-a3-sp...   29900     1   \n",
       "2118  https://www.automobile.it/castenaso-audi-a3-sp...   29900     1   \n",
       "2142  https://www.automobile.it/casalgrande-audi-a3-...   30499     3   \n",
       "2155  https://www.automobile.it/firenze-audi-a3-spb-...   30599     2   \n",
       "2156  https://www.automobile.it/verona-audi-a3-spb-4...   30599     2   \n",
       "3095  https://autosupermarket.it/annunci/audi-a3-30-...   26690     2   \n",
       "3139  https://autosupermarket.it/annunci/audi-a3-30-...   27500     2   \n",
       "3233  https://autosupermarket.it/annunci/audi-a3-30-...   29900     1   \n",
       "1849  https://www.automobile.it/castelnuovo-rangone-...   24500     4   \n",
       "1897  https://www.automobile.it/pisa-audi-a3-spb-30-...   24900     2   \n",
       "1915  https://www.automobile.it/gavardo-audi-a3-spb-...   25500     3   \n",
       "1934  https://www.automobile.it/villongo-audi-a3-spb...   25900     3   \n",
       "1935  https://www.automobile.it/villongo-audi-a3-spb...   25900     3   \n",
       "1936  https://www.automobile.it/villongo-audi-a3-spb...   25900     3   \n",
       "1937  https://www.automobile.it/villongo-audi-a3-spb...   25900     4   \n",
       "1945  https://www.automobile.it/mogliano-veneto-audi...   26200     2   \n",
       "\n",
       "      Immatricolazione  Chilometraggio      Cambio Carburante   CV  \\\n",
       "1983              2022              26  automatico     Ibrido  190   \n",
       "1990              2022              72  automatico     Ibrido  190   \n",
       "2017              2023              26  automatico     Diesel  116   \n",
       "2088              2023              21  automatico     Diesel  116   \n",
       "2117              2024              35  automatico     Diesel  116   \n",
       "2118              2024              44  automatico     Ibrido  110   \n",
       "2142              2022              20  automatico     Ibrido  190   \n",
       "2155              2023              43  automatico     Ibrido  245   \n",
       "2156              2023              43  automatico     Ibrido  245   \n",
       "3095              2023              96  automatico    Benzina  131   \n",
       "3139              2023              75  automatico     Diesel  116   \n",
       "3233              2024              35  automatico     Diesel  116   \n",
       "1849              2021              55  automatico    Benzina  110   \n",
       "1897              2023              28  automatico    Benzina  110   \n",
       "1915              2022              29  automatico     Ibrido  150   \n",
       "1934              2022              49  automatico     Ibrido  190   \n",
       "1935              2022              49  automatico     Ibrido  190   \n",
       "1936              2022              49  automatico     Ibrido  190   \n",
       "1937              2021              89  automatico     Ibrido  245   \n",
       "1945              2023              69  automatico     Diesel  116   \n",
       "\n",
       "     Allestimento  ...    Venditore Distanza               Comune    CAP  \\\n",
       "1983            S  ...  Rivenditore       14          pieve cento  40066   \n",
       "1990       S line  ...  Rivenditore       65                parma  43121   \n",
       "2017       S line  ...  Rivenditore       31            castenaso  40055   \n",
       "2088            S  ...  Rivenditore       25              bologna  40121   \n",
       "2117       S line  ...  Rivenditore       31            castenaso  40055   \n",
       "2118       S line  ...  Rivenditore       31            castenaso  40055   \n",
       "2142       S line  ...  Rivenditore       32          casalgrande  42013   \n",
       "2155       S line  ...  Rivenditore       99              firenze  50121   \n",
       "2156       S line  ...  Rivenditore       86               verona  37121   \n",
       "3095       S line  ...  Rivenditore       65                parma  43126   \n",
       "3139       S line  ...  Rivenditore       16               modena  41121   \n",
       "3233       S line  ...  Rivenditore       31            castenaso  40055   \n",
       "1849            S  ...  Rivenditore       20  castelnuovo rangone  41051   \n",
       "1897       S line  ...  Rivenditore      120                 pisa  56121   \n",
       "1915       S line  ...  Rivenditore      116              gavardo  25085   \n",
       "1934            S  ...  Rivenditore      146             villongo  24060   \n",
       "1935            S  ...  Rivenditore      146             villongo  24060   \n",
       "1936            S  ...  Rivenditore      146             villongo  24060   \n",
       "1937       S line  ...  Rivenditore      146             villongo  24060   \n",
       "1945       S line  ...  Rivenditore      132      mogliano veneto  31021   \n",
       "\n",
       "             Regione        Area Indice_Appetibilità prezzo_previsto  \\\n",
       "1983  Emilia-Romagna    Nord-est                0.85        27803.58   \n",
       "1990  Emilia-Romagna    Nord-est                0.85        28942.95   \n",
       "2017  Emilia-Romagna    Nord-est                0.85        29271.16   \n",
       "2088  Emilia-Romagna    Nord-est                0.85        29099.00   \n",
       "2117  Emilia-Romagna    Nord-est                0.85        31461.27   \n",
       "2118  Emilia-Romagna    Nord-est                0.85        35441.50   \n",
       "2142  Emilia-Romagna    Nord-est                0.85        31884.20   \n",
       "2155         Toscana      Centro                0.85        30844.65   \n",
       "2156          Veneto    Nord-est                0.85        30742.55   \n",
       "3095  Emilia-Romagna    Nord-est                0.85        29750.98   \n",
       "3139  Emilia-Romagna    Nord-est                0.85        27630.95   \n",
       "3233  Emilia-Romagna    Nord-est                0.85        31461.27   \n",
       "1849  Emilia-Romagna    Nord-est                0.84        24537.80   \n",
       "1897         Toscana      Centro                0.84        28200.30   \n",
       "1915       Lombardia  Nord-ovest                0.84        26987.39   \n",
       "1934       Lombardia  Nord-ovest                0.84        25920.90   \n",
       "1935       Lombardia  Nord-ovest                0.84        25920.90   \n",
       "1936       Lombardia  Nord-ovest                0.84        25920.90   \n",
       "1937       Lombardia  Nord-ovest                0.84        28951.20   \n",
       "1945          Veneto    Nord-est                0.84        26491.50   \n",
       "\n",
       "      delta_prezzo  is_conveniente  \n",
       "1983        853.58               1  \n",
       "1990       1942.95               1  \n",
       "2017       1371.16               1  \n",
       "2088          0.00               0  \n",
       "2117       1561.27               1  \n",
       "2118       5541.50               1  \n",
       "2142       1385.20               1  \n",
       "2155        245.65               1  \n",
       "2156        143.55               1  \n",
       "3095       3060.98               1  \n",
       "3139        130.95               1  \n",
       "3233       1561.27               1  \n",
       "1849         37.80               0  \n",
       "1897       3300.30               1  \n",
       "1915       1487.39               1  \n",
       "1934         20.90               0  \n",
       "1935         20.90               0  \n",
       "1936         20.90               0  \n",
       "1937       3051.20               1  \n",
       "1945        291.50               1  \n",
       "\n",
       "[20 rows x 22 columns]"
      ]
     },
     "metadata": {},
     "output_type": "display_data"
    }
   ],
   "source": [
    "prezzo_max = 32000\n",
    "prezzo_min = 24000\n",
    "km_max =40000\n",
    "km_min = 0\n",
    "dist_max = 150\n",
    "dispaly = 20\n",
    "\n",
    "display_top_auto(df, dispaly, prezzo_max, prezzo_min, km_max, km_min, dist_max, carburante=None)\n"
   ]
  }
 ],
 "metadata": {
  "kernelspec": {
   "display_name": "Python 3",
   "language": "python",
   "name": "python3"
  },
  "language_info": {
   "codemirror_mode": {
    "name": "ipython",
    "version": 3
   },
   "file_extension": ".py",
   "mimetype": "text/x-python",
   "name": "python",
   "nbconvert_exporter": "python",
   "pygments_lexer": "ipython3",
   "version": "3.13.2"
  }
 },
 "nbformat": 4,
 "nbformat_minor": 5
}
