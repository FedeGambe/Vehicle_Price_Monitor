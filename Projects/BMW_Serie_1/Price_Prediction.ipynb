{
 "cells": [
  {
   "cell_type": "code",
   "execution_count": 1,
   "id": "8e192fd2",
   "metadata": {},
   "outputs": [],
   "source": [
    "modello_per_analisi = 'BMW_Serie_1'\n",
    "# Opzioni possibili: Mercedes_Classe_A, BMW_Serie_1, Audi_A3, Fiat_Panda"
   ]
  },
  {
   "cell_type": "markdown",
   "id": "3aeb0754",
   "metadata": {},
   "source": [
    "### 0. Import funzioni e librerie"
   ]
  },
  {
   "cell_type": "code",
   "execution_count": 2,
   "id": "f5ec9616",
   "metadata": {},
   "outputs": [],
   "source": [
    "import pandas as pd\n",
    "import os\n",
    "import sys\n",
    "import requests\n",
    "import importlib\n",
    "from pathlib import Path\n"
   ]
  },
  {
   "cell_type": "code",
   "execution_count": 3,
   "id": "1067248f",
   "metadata": {},
   "outputs": [],
   "source": [
    "project_root = Path.cwd().parents[1]\n",
    "\n",
    "# Percorsi delle cartelle contenenti i moduli\n",
    "loader_dir = project_root / 'Source' / '2_Data_Preparation' / 'Utils'\n",
    "utils_dir = project_root / 'Source' / '3_Data_Analysis' / 'Utils'\n",
    "# Aggiungi al sys.path\n",
    "sys.path.extend([str(loader_dir), str(utils_dir)])\n",
    "\n",
    "# Import\n",
    "from data_loader import load_csv_for_notebook\n",
    "from Plots_maker import plot_is_conveniente_distribution, plot_price_prediction_distributions\n",
    "from Function_price_analysis import modello_ml, predizione_prezzo, is_conveniente_class_report, indice_appetibilita, display_top_auto"
   ]
  },
  {
   "cell_type": "code",
   "execution_count": 4,
   "id": "e1aa9ce0",
   "metadata": {},
   "outputs": [
    {
     "name": "stdout",
     "output_type": "stream",
     "text": [
      "\n",
      " - config_path: /Users/federicogamberini/VS Code/Vehicle_Price_Monitor/Data/config\n",
      " - Contenuto della cartella: ['config_Audi_A3.py', 'config_Opel_Corsa.py', '__pycache__', 'config_BMW_Serie_1.py', 'config_Mercedes_Classe_A.py']\n"
     ]
    }
   ],
   "source": [
    "# --- IMPORT CONFIGURAZIONE DELL'AUTO ---\n",
    "#Configurazione path per import dinamico del modulo di configurazione \n",
    "\n",
    "config_path = project_root / 'Data'/ 'config'\n",
    "\n",
    "sys.path.extend([str(config_path)])\n",
    "print(\"\\n - config_path:\", config_path)\n",
    "print(\" - Contenuto della cartella:\", os.listdir(config_path))\n",
    "\n",
    "# --- Import dinamico del modulo di configurazione in base al modello ---\n",
    "modulo_config = f\"config_{modello_per_analisi}\"  # esempio: config_Mercedes_Classe_A\n",
    "try:\n",
    "    config = importlib.import_module(modulo_config)\n",
    "except ModuleNotFoundError:\n",
    "    print(f\"❌ Modulo di configurazione '{modulo_config}' non trovato.\")\n",
    "    sys.exit(1)\n",
    "# --- Accesso ai parametri di configurazione ---\n",
    "#allestimenti = config.allestimenti\n",
    "allestimento_performance = config.allestimento_performance\n",
    "allestimento_sport = config.allestimento_sport\n",
    "allestimento_middle = config.allestimento_middle\n",
    "allestimento_base = config.allestimento_base"
   ]
  },
  {
   "cell_type": "markdown",
   "id": "43937f8d",
   "metadata": {},
   "source": [
    "### 1. Dati"
   ]
  },
  {
   "cell_type": "code",
   "execution_count": 5,
   "id": "a0466c4a",
   "metadata": {},
   "outputs": [
    {
     "name": "stdout",
     "output_type": "stream",
     "text": [
      "✅ File caricato: /Users/federicogamberini/VS Code/Vehicle_Price_Monitor/Data/Processed_data/BMW_Serie_1/data_dummy_BMW_Serie_1.csv (2004 righe, 15 colonne)\n",
      "✅ File caricato: /Users/federicogamberini/VS Code/Vehicle_Price_Monitor/Data/Processed_data/BMW_Serie_1/data_BMW_Serie_1.csv (2004 righe, 18 colonne)\n"
     ]
    }
   ],
   "source": [
    "#### CARICAMENTO DATI SINGOLI\n",
    "data_dummy= load_csv_for_notebook(project_root,['Data', 'Processed_data', modello_per_analisi, f'data_dummy_{modello_per_analisi}.csv'])\n",
    "data = load_csv_for_notebook(project_root,['Data', 'Processed_data', modello_per_analisi, f'data_{modello_per_analisi}.csv'])\n",
    "\n",
    "X = data_dummy.drop(columns=['Prezzo', 'Distanza', 'Venditore'])\n",
    "y = data_dummy['Prezzo']"
   ]
  },
  {
   "cell_type": "markdown",
   "id": "bfc5e826",
   "metadata": {},
   "source": [
    "### 2. Predizione prezzo, analisi della convenienza"
   ]
  },
  {
   "cell_type": "code",
   "execution_count": 6,
   "id": "c50b146b",
   "metadata": {},
   "outputs": [
    {
     "name": "stdout",
     "output_type": "stream",
     "text": [
      "Valutazione delle performance sul test set\n",
      " - Mean Squared Error: 10268429.53\n",
      " - Root Mean Squared Error: 3204.44 euro\n",
      " - R-squared:  0.79\n"
     ]
    }
   ],
   "source": [
    "modello_ml(X, y, (project_root / 'Data' / 'Modelli_ML' / modello_per_analisi))\n",
    "data_ml, y_pred = predizione_prezzo(data_dummy, X, (project_root / 'Data' / 'Modelli_ML' / modello_per_analisi))"
   ]
  },
  {
   "cell_type": "code",
   "execution_count": 7,
   "id": "8cee3225",
   "metadata": {},
   "outputs": [
    {
     "data": {
      "application/vnd.plotly.v1+json": {
       "config": {
        "plotlyServerURL": "https://plot.ly"
       },
       "data": [
        {
         "customdata": {
          "bdata": "AAE=",
          "dtype": "i1",
          "shape": "2, 1"
         },
         "domain": {
          "x": [
           0,
           1
          ],
          "y": [
           0,
           1
          ]
         },
         "hole": 0.2,
         "hovertemplate": "label=%{label}<br>value=%{value}<br>color=%{customdata[0]}<extra></extra>",
         "labels": {
          "bdata": "AAE=",
          "dtype": "i1"
         },
         "legendgroup": "",
         "marker": {
          "colors": [
           "lightgreen",
           "lightcoral"
          ]
         },
         "name": "",
         "showlegend": true,
         "textinfo": "percent+label",
         "type": "pie",
         "values": {
          "bdata": "WwR5Aw==",
          "dtype": "i2"
         }
        }
       ],
       "layout": {
        "legend": {
         "tracegroupgap": 0
        },
        "margin": {
         "t": 60
        },
        "template": {
         "data": {
          "bar": [
           {
            "error_x": {
             "color": "#2a3f5f"
            },
            "error_y": {
             "color": "#2a3f5f"
            },
            "marker": {
             "line": {
              "color": "#E5ECF6",
              "width": 0.5
             },
             "pattern": {
              "fillmode": "overlay",
              "size": 10,
              "solidity": 0.2
             }
            },
            "type": "bar"
           }
          ],
          "barpolar": [
           {
            "marker": {
             "line": {
              "color": "#E5ECF6",
              "width": 0.5
             },
             "pattern": {
              "fillmode": "overlay",
              "size": 10,
              "solidity": 0.2
             }
            },
            "type": "barpolar"
           }
          ],
          "carpet": [
           {
            "aaxis": {
             "endlinecolor": "#2a3f5f",
             "gridcolor": "white",
             "linecolor": "white",
             "minorgridcolor": "white",
             "startlinecolor": "#2a3f5f"
            },
            "baxis": {
             "endlinecolor": "#2a3f5f",
             "gridcolor": "white",
             "linecolor": "white",
             "minorgridcolor": "white",
             "startlinecolor": "#2a3f5f"
            },
            "type": "carpet"
           }
          ],
          "choropleth": [
           {
            "colorbar": {
             "outlinewidth": 0,
             "ticks": ""
            },
            "type": "choropleth"
           }
          ],
          "contour": [
           {
            "colorbar": {
             "outlinewidth": 0,
             "ticks": ""
            },
            "colorscale": [
             [
              0,
              "#0d0887"
             ],
             [
              0.1111111111111111,
              "#46039f"
             ],
             [
              0.2222222222222222,
              "#7201a8"
             ],
             [
              0.3333333333333333,
              "#9c179e"
             ],
             [
              0.4444444444444444,
              "#bd3786"
             ],
             [
              0.5555555555555556,
              "#d8576b"
             ],
             [
              0.6666666666666666,
              "#ed7953"
             ],
             [
              0.7777777777777778,
              "#fb9f3a"
             ],
             [
              0.8888888888888888,
              "#fdca26"
             ],
             [
              1,
              "#f0f921"
             ]
            ],
            "type": "contour"
           }
          ],
          "contourcarpet": [
           {
            "colorbar": {
             "outlinewidth": 0,
             "ticks": ""
            },
            "type": "contourcarpet"
           }
          ],
          "heatmap": [
           {
            "colorbar": {
             "outlinewidth": 0,
             "ticks": ""
            },
            "colorscale": [
             [
              0,
              "#0d0887"
             ],
             [
              0.1111111111111111,
              "#46039f"
             ],
             [
              0.2222222222222222,
              "#7201a8"
             ],
             [
              0.3333333333333333,
              "#9c179e"
             ],
             [
              0.4444444444444444,
              "#bd3786"
             ],
             [
              0.5555555555555556,
              "#d8576b"
             ],
             [
              0.6666666666666666,
              "#ed7953"
             ],
             [
              0.7777777777777778,
              "#fb9f3a"
             ],
             [
              0.8888888888888888,
              "#fdca26"
             ],
             [
              1,
              "#f0f921"
             ]
            ],
            "type": "heatmap"
           }
          ],
          "histogram": [
           {
            "marker": {
             "pattern": {
              "fillmode": "overlay",
              "size": 10,
              "solidity": 0.2
             }
            },
            "type": "histogram"
           }
          ],
          "histogram2d": [
           {
            "colorbar": {
             "outlinewidth": 0,
             "ticks": ""
            },
            "colorscale": [
             [
              0,
              "#0d0887"
             ],
             [
              0.1111111111111111,
              "#46039f"
             ],
             [
              0.2222222222222222,
              "#7201a8"
             ],
             [
              0.3333333333333333,
              "#9c179e"
             ],
             [
              0.4444444444444444,
              "#bd3786"
             ],
             [
              0.5555555555555556,
              "#d8576b"
             ],
             [
              0.6666666666666666,
              "#ed7953"
             ],
             [
              0.7777777777777778,
              "#fb9f3a"
             ],
             [
              0.8888888888888888,
              "#fdca26"
             ],
             [
              1,
              "#f0f921"
             ]
            ],
            "type": "histogram2d"
           }
          ],
          "histogram2dcontour": [
           {
            "colorbar": {
             "outlinewidth": 0,
             "ticks": ""
            },
            "colorscale": [
             [
              0,
              "#0d0887"
             ],
             [
              0.1111111111111111,
              "#46039f"
             ],
             [
              0.2222222222222222,
              "#7201a8"
             ],
             [
              0.3333333333333333,
              "#9c179e"
             ],
             [
              0.4444444444444444,
              "#bd3786"
             ],
             [
              0.5555555555555556,
              "#d8576b"
             ],
             [
              0.6666666666666666,
              "#ed7953"
             ],
             [
              0.7777777777777778,
              "#fb9f3a"
             ],
             [
              0.8888888888888888,
              "#fdca26"
             ],
             [
              1,
              "#f0f921"
             ]
            ],
            "type": "histogram2dcontour"
           }
          ],
          "mesh3d": [
           {
            "colorbar": {
             "outlinewidth": 0,
             "ticks": ""
            },
            "type": "mesh3d"
           }
          ],
          "parcoords": [
           {
            "line": {
             "colorbar": {
              "outlinewidth": 0,
              "ticks": ""
             }
            },
            "type": "parcoords"
           }
          ],
          "pie": [
           {
            "automargin": true,
            "type": "pie"
           }
          ],
          "scatter": [
           {
            "fillpattern": {
             "fillmode": "overlay",
             "size": 10,
             "solidity": 0.2
            },
            "type": "scatter"
           }
          ],
          "scatter3d": [
           {
            "line": {
             "colorbar": {
              "outlinewidth": 0,
              "ticks": ""
             }
            },
            "marker": {
             "colorbar": {
              "outlinewidth": 0,
              "ticks": ""
             }
            },
            "type": "scatter3d"
           }
          ],
          "scattercarpet": [
           {
            "marker": {
             "colorbar": {
              "outlinewidth": 0,
              "ticks": ""
             }
            },
            "type": "scattercarpet"
           }
          ],
          "scattergeo": [
           {
            "marker": {
             "colorbar": {
              "outlinewidth": 0,
              "ticks": ""
             }
            },
            "type": "scattergeo"
           }
          ],
          "scattergl": [
           {
            "marker": {
             "colorbar": {
              "outlinewidth": 0,
              "ticks": ""
             }
            },
            "type": "scattergl"
           }
          ],
          "scattermap": [
           {
            "marker": {
             "colorbar": {
              "outlinewidth": 0,
              "ticks": ""
             }
            },
            "type": "scattermap"
           }
          ],
          "scattermapbox": [
           {
            "marker": {
             "colorbar": {
              "outlinewidth": 0,
              "ticks": ""
             }
            },
            "type": "scattermapbox"
           }
          ],
          "scatterpolar": [
           {
            "marker": {
             "colorbar": {
              "outlinewidth": 0,
              "ticks": ""
             }
            },
            "type": "scatterpolar"
           }
          ],
          "scatterpolargl": [
           {
            "marker": {
             "colorbar": {
              "outlinewidth": 0,
              "ticks": ""
             }
            },
            "type": "scatterpolargl"
           }
          ],
          "scatterternary": [
           {
            "marker": {
             "colorbar": {
              "outlinewidth": 0,
              "ticks": ""
             }
            },
            "type": "scatterternary"
           }
          ],
          "surface": [
           {
            "colorbar": {
             "outlinewidth": 0,
             "ticks": ""
            },
            "colorscale": [
             [
              0,
              "#0d0887"
             ],
             [
              0.1111111111111111,
              "#46039f"
             ],
             [
              0.2222222222222222,
              "#7201a8"
             ],
             [
              0.3333333333333333,
              "#9c179e"
             ],
             [
              0.4444444444444444,
              "#bd3786"
             ],
             [
              0.5555555555555556,
              "#d8576b"
             ],
             [
              0.6666666666666666,
              "#ed7953"
             ],
             [
              0.7777777777777778,
              "#fb9f3a"
             ],
             [
              0.8888888888888888,
              "#fdca26"
             ],
             [
              1,
              "#f0f921"
             ]
            ],
            "type": "surface"
           }
          ],
          "table": [
           {
            "cells": {
             "fill": {
              "color": "#EBF0F8"
             },
             "line": {
              "color": "white"
             }
            },
            "header": {
             "fill": {
              "color": "#C8D4E3"
             },
             "line": {
              "color": "white"
             }
            },
            "type": "table"
           }
          ]
         },
         "layout": {
          "annotationdefaults": {
           "arrowcolor": "#2a3f5f",
           "arrowhead": 0,
           "arrowwidth": 1
          },
          "autotypenumbers": "strict",
          "coloraxis": {
           "colorbar": {
            "outlinewidth": 0,
            "ticks": ""
           }
          },
          "colorscale": {
           "diverging": [
            [
             0,
             "#8e0152"
            ],
            [
             0.1,
             "#c51b7d"
            ],
            [
             0.2,
             "#de77ae"
            ],
            [
             0.3,
             "#f1b6da"
            ],
            [
             0.4,
             "#fde0ef"
            ],
            [
             0.5,
             "#f7f7f7"
            ],
            [
             0.6,
             "#e6f5d0"
            ],
            [
             0.7,
             "#b8e186"
            ],
            [
             0.8,
             "#7fbc41"
            ],
            [
             0.9,
             "#4d9221"
            ],
            [
             1,
             "#276419"
            ]
           ],
           "sequential": [
            [
             0,
             "#0d0887"
            ],
            [
             0.1111111111111111,
             "#46039f"
            ],
            [
             0.2222222222222222,
             "#7201a8"
            ],
            [
             0.3333333333333333,
             "#9c179e"
            ],
            [
             0.4444444444444444,
             "#bd3786"
            ],
            [
             0.5555555555555556,
             "#d8576b"
            ],
            [
             0.6666666666666666,
             "#ed7953"
            ],
            [
             0.7777777777777778,
             "#fb9f3a"
            ],
            [
             0.8888888888888888,
             "#fdca26"
            ],
            [
             1,
             "#f0f921"
            ]
           ],
           "sequentialminus": [
            [
             0,
             "#0d0887"
            ],
            [
             0.1111111111111111,
             "#46039f"
            ],
            [
             0.2222222222222222,
             "#7201a8"
            ],
            [
             0.3333333333333333,
             "#9c179e"
            ],
            [
             0.4444444444444444,
             "#bd3786"
            ],
            [
             0.5555555555555556,
             "#d8576b"
            ],
            [
             0.6666666666666666,
             "#ed7953"
            ],
            [
             0.7777777777777778,
             "#fb9f3a"
            ],
            [
             0.8888888888888888,
             "#fdca26"
            ],
            [
             1,
             "#f0f921"
            ]
           ]
          },
          "colorway": [
           "#636efa",
           "#EF553B",
           "#00cc96",
           "#ab63fa",
           "#FFA15A",
           "#19d3f3",
           "#FF6692",
           "#B6E880",
           "#FF97FF",
           "#FECB52"
          ],
          "font": {
           "color": "#2a3f5f"
          },
          "geo": {
           "bgcolor": "white",
           "lakecolor": "white",
           "landcolor": "#E5ECF6",
           "showlakes": true,
           "showland": true,
           "subunitcolor": "white"
          },
          "hoverlabel": {
           "align": "left"
          },
          "hovermode": "closest",
          "mapbox": {
           "style": "light"
          },
          "paper_bgcolor": "white",
          "plot_bgcolor": "#E5ECF6",
          "polar": {
           "angularaxis": {
            "gridcolor": "white",
            "linecolor": "white",
            "ticks": ""
           },
           "bgcolor": "#E5ECF6",
           "radialaxis": {
            "gridcolor": "white",
            "linecolor": "white",
            "ticks": ""
           }
          },
          "scene": {
           "xaxis": {
            "backgroundcolor": "#E5ECF6",
            "gridcolor": "white",
            "gridwidth": 2,
            "linecolor": "white",
            "showbackground": true,
            "ticks": "",
            "zerolinecolor": "white"
           },
           "yaxis": {
            "backgroundcolor": "#E5ECF6",
            "gridcolor": "white",
            "gridwidth": 2,
            "linecolor": "white",
            "showbackground": true,
            "ticks": "",
            "zerolinecolor": "white"
           },
           "zaxis": {
            "backgroundcolor": "#E5ECF6",
            "gridcolor": "white",
            "gridwidth": 2,
            "linecolor": "white",
            "showbackground": true,
            "ticks": "",
            "zerolinecolor": "white"
           }
          },
          "shapedefaults": {
           "line": {
            "color": "#2a3f5f"
           }
          },
          "ternary": {
           "aaxis": {
            "gridcolor": "white",
            "linecolor": "white",
            "ticks": ""
           },
           "baxis": {
            "gridcolor": "white",
            "linecolor": "white",
            "ticks": ""
           },
           "bgcolor": "#E5ECF6",
           "caxis": {
            "gridcolor": "white",
            "linecolor": "white",
            "ticks": ""
           }
          },
          "title": {
           "x": 0.05
          },
          "xaxis": {
           "automargin": true,
           "gridcolor": "white",
           "linecolor": "white",
           "ticks": "",
           "title": {
            "standoff": 15
           },
           "zerolinecolor": "white",
           "zerolinewidth": 2
          },
          "yaxis": {
           "automargin": true,
           "gridcolor": "white",
           "linecolor": "white",
           "ticks": "",
           "title": {
            "standoff": 15
           },
           "zerolinecolor": "white",
           "zerolinewidth": 2
          }
         }
        },
        "title": {
         "font": {
          "family": "Arial",
          "size": 20,
          "weight": "bold"
         },
         "text": "Distribuzione della variabile is_conveniente",
         "x": 0.5,
         "xanchor": "center"
        }
       }
      }
     },
     "metadata": {},
     "output_type": "display_data"
    },
    {
     "name": "stdout",
     "output_type": "stream",
     "text": [
      "\n",
      "Distribuzione relativa della variabile 'is_conveniente':\n",
      "\n",
      " is_conveniente  Frequenza Relativa\n",
      "              0            0.556387\n",
      "              1            0.443613\n"
     ]
    }
   ],
   "source": [
    "plot_is_conveniente_distribution(data_ml)"
   ]
  },
  {
   "cell_type": "code",
   "execution_count": 8,
   "id": "0e67af43",
   "metadata": {},
   "outputs": [
    {
     "data": {
      "application/vnd.plotly.v1+json": {
       "config": {
        "plotlyServerURL": "https://plot.ly"
       },
       "data": [
        {
         "marker": {
          "color": "steelblue"
         },
         "name": "Prezzo Previsto",
         "nbinsx": 120,
         "type": "histogram",
         "x": {
          "bdata": "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",
          "dtype": "f8"
         },
         "xaxis": "x",
         "yaxis": "y"
        },
        {
         "marker": {
          "color": "darkorange"
         },
         "name": "Delta Prezzo",
         "nbinsx": 120,
         "type": "histogram",
         "x": {
          "bdata": "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",
          "dtype": "f8"
         },
         "xaxis": "x2",
         "yaxis": "y2"
        },
        {
         "line": {
          "color": "black",
          "dash": "dash"
         },
         "mode": "lines",
         "name": "Curva Normale Prezzo Previsto",
         "type": "scatter",
         "x": {
          "bdata": "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",
          "dtype": "f8"
         },
         "xaxis": "x",
         "y": {
          "bdata": "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",
          "dtype": "f8"
         },
         "yaxis": "y"
        },
        {
         "line": {
          "color": "black",
          "dash": "dash"
         },
         "mode": "lines",
         "name": "Curva Normale Delta Prezzo",
         "type": "scatter",
         "x": {
          "bdata": "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",
          "dtype": "f8"
         },
         "xaxis": "x2",
         "y": {
          "bdata": "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",
          "dtype": "f8"
         },
         "yaxis": "y2"
        }
       ],
       "layout": {
        "annotations": [
         {
          "font": {
           "size": 16
          },
          "showarrow": false,
          "text": "Distribuzione di Prezzo Previsto",
          "x": 0.225,
          "xanchor": "center",
          "xref": "paper",
          "y": 1,
          "yanchor": "bottom",
          "yref": "paper"
         },
         {
          "font": {
           "size": 16
          },
          "showarrow": false,
          "text": "Distribuzione di Delta Prezzo",
          "x": 0.775,
          "xanchor": "center",
          "xref": "paper",
          "y": 1,
          "yanchor": "bottom",
          "yref": "paper"
         }
        ],
        "bargap": 0.05,
        "showlegend": true,
        "template": {
         "data": {
          "bar": [
           {
            "error_x": {
             "color": "#2a3f5f"
            },
            "error_y": {
             "color": "#2a3f5f"
            },
            "marker": {
             "line": {
              "color": "#E5ECF6",
              "width": 0.5
             },
             "pattern": {
              "fillmode": "overlay",
              "size": 10,
              "solidity": 0.2
             }
            },
            "type": "bar"
           }
          ],
          "barpolar": [
           {
            "marker": {
             "line": {
              "color": "#E5ECF6",
              "width": 0.5
             },
             "pattern": {
              "fillmode": "overlay",
              "size": 10,
              "solidity": 0.2
             }
            },
            "type": "barpolar"
           }
          ],
          "carpet": [
           {
            "aaxis": {
             "endlinecolor": "#2a3f5f",
             "gridcolor": "white",
             "linecolor": "white",
             "minorgridcolor": "white",
             "startlinecolor": "#2a3f5f"
            },
            "baxis": {
             "endlinecolor": "#2a3f5f",
             "gridcolor": "white",
             "linecolor": "white",
             "minorgridcolor": "white",
             "startlinecolor": "#2a3f5f"
            },
            "type": "carpet"
           }
          ],
          "choropleth": [
           {
            "colorbar": {
             "outlinewidth": 0,
             "ticks": ""
            },
            "type": "choropleth"
           }
          ],
          "contour": [
           {
            "colorbar": {
             "outlinewidth": 0,
             "ticks": ""
            },
            "colorscale": [
             [
              0,
              "#0d0887"
             ],
             [
              0.1111111111111111,
              "#46039f"
             ],
             [
              0.2222222222222222,
              "#7201a8"
             ],
             [
              0.3333333333333333,
              "#9c179e"
             ],
             [
              0.4444444444444444,
              "#bd3786"
             ],
             [
              0.5555555555555556,
              "#d8576b"
             ],
             [
              0.6666666666666666,
              "#ed7953"
             ],
             [
              0.7777777777777778,
              "#fb9f3a"
             ],
             [
              0.8888888888888888,
              "#fdca26"
             ],
             [
              1,
              "#f0f921"
             ]
            ],
            "type": "contour"
           }
          ],
          "contourcarpet": [
           {
            "colorbar": {
             "outlinewidth": 0,
             "ticks": ""
            },
            "type": "contourcarpet"
           }
          ],
          "heatmap": [
           {
            "colorbar": {
             "outlinewidth": 0,
             "ticks": ""
            },
            "colorscale": [
             [
              0,
              "#0d0887"
             ],
             [
              0.1111111111111111,
              "#46039f"
             ],
             [
              0.2222222222222222,
              "#7201a8"
             ],
             [
              0.3333333333333333,
              "#9c179e"
             ],
             [
              0.4444444444444444,
              "#bd3786"
             ],
             [
              0.5555555555555556,
              "#d8576b"
             ],
             [
              0.6666666666666666,
              "#ed7953"
             ],
             [
              0.7777777777777778,
              "#fb9f3a"
             ],
             [
              0.8888888888888888,
              "#fdca26"
             ],
             [
              1,
              "#f0f921"
             ]
            ],
            "type": "heatmap"
           }
          ],
          "histogram": [
           {
            "marker": {
             "pattern": {
              "fillmode": "overlay",
              "size": 10,
              "solidity": 0.2
             }
            },
            "type": "histogram"
           }
          ],
          "histogram2d": [
           {
            "colorbar": {
             "outlinewidth": 0,
             "ticks": ""
            },
            "colorscale": [
             [
              0,
              "#0d0887"
             ],
             [
              0.1111111111111111,
              "#46039f"
             ],
             [
              0.2222222222222222,
              "#7201a8"
             ],
             [
              0.3333333333333333,
              "#9c179e"
             ],
             [
              0.4444444444444444,
              "#bd3786"
             ],
             [
              0.5555555555555556,
              "#d8576b"
             ],
             [
              0.6666666666666666,
              "#ed7953"
             ],
             [
              0.7777777777777778,
              "#fb9f3a"
             ],
             [
              0.8888888888888888,
              "#fdca26"
             ],
             [
              1,
              "#f0f921"
             ]
            ],
            "type": "histogram2d"
           }
          ],
          "histogram2dcontour": [
           {
            "colorbar": {
             "outlinewidth": 0,
             "ticks": ""
            },
            "colorscale": [
             [
              0,
              "#0d0887"
             ],
             [
              0.1111111111111111,
              "#46039f"
             ],
             [
              0.2222222222222222,
              "#7201a8"
             ],
             [
              0.3333333333333333,
              "#9c179e"
             ],
             [
              0.4444444444444444,
              "#bd3786"
             ],
             [
              0.5555555555555556,
              "#d8576b"
             ],
             [
              0.6666666666666666,
              "#ed7953"
             ],
             [
              0.7777777777777778,
              "#fb9f3a"
             ],
             [
              0.8888888888888888,
              "#fdca26"
             ],
             [
              1,
              "#f0f921"
             ]
            ],
            "type": "histogram2dcontour"
           }
          ],
          "mesh3d": [
           {
            "colorbar": {
             "outlinewidth": 0,
             "ticks": ""
            },
            "type": "mesh3d"
           }
          ],
          "parcoords": [
           {
            "line": {
             "colorbar": {
              "outlinewidth": 0,
              "ticks": ""
             }
            },
            "type": "parcoords"
           }
          ],
          "pie": [
           {
            "automargin": true,
            "type": "pie"
           }
          ],
          "scatter": [
           {
            "fillpattern": {
             "fillmode": "overlay",
             "size": 10,
             "solidity": 0.2
            },
            "type": "scatter"
           }
          ],
          "scatter3d": [
           {
            "line": {
             "colorbar": {
              "outlinewidth": 0,
              "ticks": ""
             }
            },
            "marker": {
             "colorbar": {
              "outlinewidth": 0,
              "ticks": ""
             }
            },
            "type": "scatter3d"
           }
          ],
          "scattercarpet": [
           {
            "marker": {
             "colorbar": {
              "outlinewidth": 0,
              "ticks": ""
             }
            },
            "type": "scattercarpet"
           }
          ],
          "scattergeo": [
           {
            "marker": {
             "colorbar": {
              "outlinewidth": 0,
              "ticks": ""
             }
            },
            "type": "scattergeo"
           }
          ],
          "scattergl": [
           {
            "marker": {
             "colorbar": {
              "outlinewidth": 0,
              "ticks": ""
             }
            },
            "type": "scattergl"
           }
          ],
          "scattermap": [
           {
            "marker": {
             "colorbar": {
              "outlinewidth": 0,
              "ticks": ""
             }
            },
            "type": "scattermap"
           }
          ],
          "scattermapbox": [
           {
            "marker": {
             "colorbar": {
              "outlinewidth": 0,
              "ticks": ""
             }
            },
            "type": "scattermapbox"
           }
          ],
          "scatterpolar": [
           {
            "marker": {
             "colorbar": {
              "outlinewidth": 0,
              "ticks": ""
             }
            },
            "type": "scatterpolar"
           }
          ],
          "scatterpolargl": [
           {
            "marker": {
             "colorbar": {
              "outlinewidth": 0,
              "ticks": ""
             }
            },
            "type": "scatterpolargl"
           }
          ],
          "scatterternary": [
           {
            "marker": {
             "colorbar": {
              "outlinewidth": 0,
              "ticks": ""
             }
            },
            "type": "scatterternary"
           }
          ],
          "surface": [
           {
            "colorbar": {
             "outlinewidth": 0,
             "ticks": ""
            },
            "colorscale": [
             [
              0,
              "#0d0887"
             ],
             [
              0.1111111111111111,
              "#46039f"
             ],
             [
              0.2222222222222222,
              "#7201a8"
             ],
             [
              0.3333333333333333,
              "#9c179e"
             ],
             [
              0.4444444444444444,
              "#bd3786"
             ],
             [
              0.5555555555555556,
              "#d8576b"
             ],
             [
              0.6666666666666666,
              "#ed7953"
             ],
             [
              0.7777777777777778,
              "#fb9f3a"
             ],
             [
              0.8888888888888888,
              "#fdca26"
             ],
             [
              1,
              "#f0f921"
             ]
            ],
            "type": "surface"
           }
          ],
          "table": [
           {
            "cells": {
             "fill": {
              "color": "#EBF0F8"
             },
             "line": {
              "color": "white"
             }
            },
            "header": {
             "fill": {
              "color": "#C8D4E3"
             },
             "line": {
              "color": "white"
             }
            },
            "type": "table"
           }
          ]
         },
         "layout": {
          "annotationdefaults": {
           "arrowcolor": "#2a3f5f",
           "arrowhead": 0,
           "arrowwidth": 1
          },
          "autotypenumbers": "strict",
          "coloraxis": {
           "colorbar": {
            "outlinewidth": 0,
            "ticks": ""
           }
          },
          "colorscale": {
           "diverging": [
            [
             0,
             "#8e0152"
            ],
            [
             0.1,
             "#c51b7d"
            ],
            [
             0.2,
             "#de77ae"
            ],
            [
             0.3,
             "#f1b6da"
            ],
            [
             0.4,
             "#fde0ef"
            ],
            [
             0.5,
             "#f7f7f7"
            ],
            [
             0.6,
             "#e6f5d0"
            ],
            [
             0.7,
             "#b8e186"
            ],
            [
             0.8,
             "#7fbc41"
            ],
            [
             0.9,
             "#4d9221"
            ],
            [
             1,
             "#276419"
            ]
           ],
           "sequential": [
            [
             0,
             "#0d0887"
            ],
            [
             0.1111111111111111,
             "#46039f"
            ],
            [
             0.2222222222222222,
             "#7201a8"
            ],
            [
             0.3333333333333333,
             "#9c179e"
            ],
            [
             0.4444444444444444,
             "#bd3786"
            ],
            [
             0.5555555555555556,
             "#d8576b"
            ],
            [
             0.6666666666666666,
             "#ed7953"
            ],
            [
             0.7777777777777778,
             "#fb9f3a"
            ],
            [
             0.8888888888888888,
             "#fdca26"
            ],
            [
             1,
             "#f0f921"
            ]
           ],
           "sequentialminus": [
            [
             0,
             "#0d0887"
            ],
            [
             0.1111111111111111,
             "#46039f"
            ],
            [
             0.2222222222222222,
             "#7201a8"
            ],
            [
             0.3333333333333333,
             "#9c179e"
            ],
            [
             0.4444444444444444,
             "#bd3786"
            ],
            [
             0.5555555555555556,
             "#d8576b"
            ],
            [
             0.6666666666666666,
             "#ed7953"
            ],
            [
             0.7777777777777778,
             "#fb9f3a"
            ],
            [
             0.8888888888888888,
             "#fdca26"
            ],
            [
             1,
             "#f0f921"
            ]
           ]
          },
          "colorway": [
           "#636efa",
           "#EF553B",
           "#00cc96",
           "#ab63fa",
           "#FFA15A",
           "#19d3f3",
           "#FF6692",
           "#B6E880",
           "#FF97FF",
           "#FECB52"
          ],
          "font": {
           "color": "#2a3f5f"
          },
          "geo": {
           "bgcolor": "white",
           "lakecolor": "white",
           "landcolor": "#E5ECF6",
           "showlakes": true,
           "showland": true,
           "subunitcolor": "white"
          },
          "hoverlabel": {
           "align": "left"
          },
          "hovermode": "closest",
          "mapbox": {
           "style": "light"
          },
          "paper_bgcolor": "white",
          "plot_bgcolor": "#E5ECF6",
          "polar": {
           "angularaxis": {
            "gridcolor": "white",
            "linecolor": "white",
            "ticks": ""
           },
           "bgcolor": "#E5ECF6",
           "radialaxis": {
            "gridcolor": "white",
            "linecolor": "white",
            "ticks": ""
           }
          },
          "scene": {
           "xaxis": {
            "backgroundcolor": "#E5ECF6",
            "gridcolor": "white",
            "gridwidth": 2,
            "linecolor": "white",
            "showbackground": true,
            "ticks": "",
            "zerolinecolor": "white"
           },
           "yaxis": {
            "backgroundcolor": "#E5ECF6",
            "gridcolor": "white",
            "gridwidth": 2,
            "linecolor": "white",
            "showbackground": true,
            "ticks": "",
            "zerolinecolor": "white"
           },
           "zaxis": {
            "backgroundcolor": "#E5ECF6",
            "gridcolor": "white",
            "gridwidth": 2,
            "linecolor": "white",
            "showbackground": true,
            "ticks": "",
            "zerolinecolor": "white"
           }
          },
          "shapedefaults": {
           "line": {
            "color": "#2a3f5f"
           }
          },
          "ternary": {
           "aaxis": {
            "gridcolor": "white",
            "linecolor": "white",
            "ticks": ""
           },
           "baxis": {
            "gridcolor": "white",
            "linecolor": "white",
            "ticks": ""
           },
           "bgcolor": "#E5ECF6",
           "caxis": {
            "gridcolor": "white",
            "linecolor": "white",
            "ticks": ""
           }
          },
          "title": {
           "x": 0.05
          },
          "xaxis": {
           "automargin": true,
           "gridcolor": "white",
           "linecolor": "white",
           "ticks": "",
           "title": {
            "standoff": 15
           },
           "zerolinecolor": "white",
           "zerolinewidth": 2
          },
          "yaxis": {
           "automargin": true,
           "gridcolor": "white",
           "linecolor": "white",
           "ticks": "",
           "title": {
            "standoff": 15
           },
           "zerolinecolor": "white",
           "zerolinewidth": 2
          }
         }
        },
        "title": {
         "font": {
          "family": "Arial",
          "size": 20,
          "weight": "bold"
         },
         "text": "Distribuzione delle variabili Prezzo Previsto e Delta Prezzo",
         "x": 0.5,
         "xanchor": "center"
        },
        "xaxis": {
         "anchor": "y",
         "domain": [
          0,
          0.45
         ]
        },
        "xaxis2": {
         "anchor": "y2",
         "domain": [
          0.55,
          1
         ]
        },
        "yaxis": {
         "anchor": "x",
         "domain": [
          0,
          1
         ]
        },
        "yaxis2": {
         "anchor": "x2",
         "domain": [
          0,
          1
         ]
        }
       }
      }
     },
     "metadata": {},
     "output_type": "display_data"
    }
   ],
   "source": [
    "plot_price_prediction_distributions(data_ml)"
   ]
  },
  {
   "cell_type": "code",
   "execution_count": 9,
   "id": "992b4a51",
   "metadata": {},
   "outputs": [],
   "source": [
    "#is_conveniente_class_report(data_ml)"
   ]
  },
  {
   "cell_type": "markdown",
   "id": "dc3ff7e3",
   "metadata": {},
   "source": [
    "### 3. Indice di attendibilità"
   ]
  },
  {
   "cell_type": "code",
   "execution_count": 10,
   "id": "bb8779a1",
   "metadata": {},
   "outputs": [],
   "source": [
    "#Prezzo soglia: prezzo oltre il quale il punteggio di attendibilità diminuisce\n",
    "prezzo_soglia=35000\n",
    "\n",
    "#Valori per il calcolo indice di attendibilità\n",
    "valore_idx_anni = 0.025\n",
    "valore_idx_prezzo = 0.15\n",
    "valore_idx_km= 0.15 \n",
    "valore_idx_dist = 0.10 \n",
    "valore_idx_allestimento= 0.25 \n",
    "valore_idx_cv =0.025\n",
    "valore_idx_cambio = 0.20 "
   ]
  },
  {
   "cell_type": "code",
   "execution_count": 11,
   "id": "57e9fbbe",
   "metadata": {},
   "outputs": [],
   "source": [
    "df = indice_appetibilita(data, y_pred, prezzo_soglia, valore_idx_anni, valore_idx_prezzo, valore_idx_km, \n",
    "                           valore_idx_dist, valore_idx_allestimento, valore_idx_cv, valore_idx_cambio, \n",
    "                           allestimento_performance, allestimento_sport,allestimento_middle,allestimento_base)"
   ]
  },
  {
   "cell_type": "code",
   "execution_count": 12,
   "id": "1ac5e109",
   "metadata": {},
   "outputs": [
    {
     "name": "stdout",
     "output_type": "stream",
     "text": [
      "Le migliori 20 auto secondo l'indice di appetibilità sono:\n"
     ]
    },
    {
     "data": {
      "text/html": [
       "Indice 0.81 → <a href='https://www.autoscout24.it/annunci/bmw-116-i-msport-benzina-bianco-7656087b-bea4-46a9-a51f-9aac70d11c6c' target='_blank'>https://www.autoscout24.it/annunci/bmw-116-i-msport-benzina-bianco-7656087b-bea4-46a9-a51f-9aac70d11c6c</a>"
      ],
      "text/plain": [
       "<IPython.core.display.HTML object>"
      ]
     },
     "metadata": {},
     "output_type": "display_data"
    },
    {
     "data": {
      "text/html": [
       "Indice 0.81 → <a href='https://autosupermarket.it/annunci/bmw-serie-1-m-diesel-2024-ce3fa361d3fddc4d?search=https://autosupermarket.it/ricerca/bmw/serie-1/anno-da-2020?t%3D6399rm%26page%3D2' target='_blank'>https://autosupermarket.it/annunci/bmw-serie-1-m-diesel-2024-ce3fa361d3fddc4d?search=https://autosupermarket.it/ricerca/bmw/serie-1/anno-da-2020?t%3D6399rm%26page%3D2</a>"
      ],
      "text/plain": [
       "<IPython.core.display.HTML object>"
      ]
     },
     "metadata": {},
     "output_type": "display_data"
    },
    {
     "data": {
      "text/html": [
       "Indice 0.81 → <a href='https://autosupermarket.it/annunci/bmw-serie-1-m-diesel-2024-44c28354a8360421?search=https://autosupermarket.it/ricerca/bmw/serie-1/anno-da-2020?t%3D6399rm%26page%3D2' target='_blank'>https://autosupermarket.it/annunci/bmw-serie-1-m-diesel-2024-44c28354a8360421?search=https://autosupermarket.it/ricerca/bmw/serie-1/anno-da-2020?t%3D6399rm%26page%3D2</a>"
      ],
      "text/plain": [
       "<IPython.core.display.HTML object>"
      ]
     },
     "metadata": {},
     "output_type": "display_data"
    },
    {
     "data": {
      "text/html": [
       "Indice 0.80 → <a href='https://www.autoscout24.it/annunci/bmw-118-118i-m-sport-auto-vari-colori-disponibili-benzina-grigio-1705bf53-3a3d-4d0a-bb95-c53dc0ec6103' target='_blank'>https://www.autoscout24.it/annunci/bmw-118-118i-m-sport-auto-vari-colori-disponibili-benzina-grigio-1705bf53-3a3d-4d0a-bb95-c53dc0ec6103</a>"
      ],
      "text/plain": [
       "<IPython.core.display.HTML object>"
      ]
     },
     "metadata": {},
     "output_type": "display_data"
    },
    {
     "data": {
      "text/html": [
       "Indice 0.80 → <a href='https://www.autoscout24.it/annunci/bmw-118-i-m-sport-led-navi-vari-colori-disponibili-benzina-bianco-2810879d-5457-4041-9e9d-6fe6d3743d3e' target='_blank'>https://www.autoscout24.it/annunci/bmw-118-i-m-sport-led-navi-vari-colori-disponibili-benzina-bianco-2810879d-5457-4041-9e9d-6fe6d3743d3e</a>"
      ],
      "text/plain": [
       "<IPython.core.display.HTML object>"
      ]
     },
     "metadata": {},
     "output_type": "display_data"
    },
    {
     "data": {
      "text/html": [
       "Indice 0.80 → <a href='https://www.autoscout24.it/annunci/bmw-118-i-msport-c-lega17-led-clima2zone-m-sport-m-sport-benzina-bianco-15a3f296-bcf7-4eca-8493-a01cd65a315b' target='_blank'>https://www.autoscout24.it/annunci/bmw-118-i-msport-c-lega17-led-clima2zone-m-sport-m-sport-benzina-bianco-15a3f296-bcf7-4eca-8493-a01cd65a315b</a>"
      ],
      "text/plain": [
       "<IPython.core.display.HTML object>"
      ]
     },
     "metadata": {},
     "output_type": "display_data"
    },
    {
     "data": {
      "text/html": [
       "Indice 0.80 → <a href='https://www.autoscout24.it/annunci/bmw-118-118-i-5p-msport-m-sport-sconto-immediato-benzina-nero-e1054a9a-c2c7-48ef-9af8-7cc6dfc39472' target='_blank'>https://www.autoscout24.it/annunci/bmw-118-118-i-5p-msport-m-sport-sconto-immediato-benzina-nero-e1054a9a-c2c7-48ef-9af8-7cc6dfc39472</a>"
      ],
      "text/plain": [
       "<IPython.core.display.HTML object>"
      ]
     },
     "metadata": {},
     "output_type": "display_data"
    },
    {
     "data": {
      "text/html": [
       "Indice 0.80 → <a href='https://www.autoscout24.it/annunci/bmw-118-118-i-5p-msport-m-sport-sconto-immediato-benzina-grigio-d8388386-2468-4daa-934b-394c5899e011' target='_blank'>https://www.autoscout24.it/annunci/bmw-118-118-i-5p-msport-m-sport-sconto-immediato-benzina-grigio-d8388386-2468-4daa-934b-394c5899e011</a>"
      ],
      "text/plain": [
       "<IPython.core.display.HTML object>"
      ]
     },
     "metadata": {},
     "output_type": "display_data"
    },
    {
     "data": {
      "text/html": [
       "Indice 0.80 → <a href='https://www.autoscout24.it/annunci/bmw-116-116d-5p-msport-diesel-bianco-06c52022-d609-4d77-86e5-31f1a1c295fd' target='_blank'>https://www.autoscout24.it/annunci/bmw-116-116d-5p-msport-diesel-bianco-06c52022-d609-4d77-86e5-31f1a1c295fd</a>"
      ],
      "text/plain": [
       "<IPython.core.display.HTML object>"
      ]
     },
     "metadata": {},
     "output_type": "display_data"
    },
    {
     "data": {
      "text/html": [
       "Indice 0.80 → <a href='https://www.autoscout24.it/annunci/bmw-118-bz-msport-cambio-auto-cerchi-17-navi-led-aziendale-benzina-nero-84f70d3c-cc75-4a5c-acbc-53444acdb877' target='_blank'>https://www.autoscout24.it/annunci/bmw-118-bz-msport-cambio-auto-cerchi-17-navi-led-aziendale-benzina-nero-84f70d3c-cc75-4a5c-acbc-53444acdb877</a>"
      ],
      "text/plain": [
       "<IPython.core.display.HTML object>"
      ]
     },
     "metadata": {},
     "output_type": "display_data"
    },
    {
     "data": {
      "text/html": [
       "Indice 0.80 → <a href='https://www.autoscout24.it/annunci/bmw-118-i-m-sport-led-navi-vari-colori-e-allestimenti-benzina-grigio-2436436c-2fd5-45e6-ac08-885039f96191' target='_blank'>https://www.autoscout24.it/annunci/bmw-118-i-m-sport-led-navi-vari-colori-e-allestimenti-benzina-grigio-2436436c-2fd5-45e6-ac08-885039f96191</a>"
      ],
      "text/plain": [
       "<IPython.core.display.HTML object>"
      ]
     },
     "metadata": {},
     "output_type": "display_data"
    },
    {
     "data": {
      "text/html": [
       "Indice 0.80 → <a href='https://www.autoscout24.it/annunci/bmw-116-d-5p-msport-exterior-msport-exterior-diesel-grigio-76761e13-a276-4381-ac67-ccb61382e6b0' target='_blank'>https://www.autoscout24.it/annunci/bmw-116-d-5p-msport-exterior-msport-exterior-diesel-grigio-76761e13-a276-4381-ac67-ccb61382e6b0</a>"
      ],
      "text/plain": [
       "<IPython.core.display.HTML object>"
      ]
     },
     "metadata": {},
     "output_type": "display_data"
    },
    {
     "data": {
      "text/html": [
       "Indice 0.80 → <a href='https://www.autoscout24.it/annunci/bmw-118-i-m-sport-led-navi-vari-colori-disponibili-benzina-grigio-573c9439-a0ca-4de1-b7fa-ed2b92eb101b' target='_blank'>https://www.autoscout24.it/annunci/bmw-118-i-m-sport-led-navi-vari-colori-disponibili-benzina-grigio-573c9439-a0ca-4de1-b7fa-ed2b92eb101b</a>"
      ],
      "text/plain": [
       "<IPython.core.display.HTML object>"
      ]
     },
     "metadata": {},
     "output_type": "display_data"
    },
    {
     "data": {
      "text/html": [
       "Indice 0.80 → <a href='https://www.autoscout24.it/annunci/bmw-116-i-msport-benzina-nero-2ec15406-3eff-46b0-9cbc-221c39e2e4cf' target='_blank'>https://www.autoscout24.it/annunci/bmw-116-i-msport-benzina-nero-2ec15406-3eff-46b0-9cbc-221c39e2e4cf</a>"
      ],
      "text/plain": [
       "<IPython.core.display.HTML object>"
      ]
     },
     "metadata": {},
     "output_type": "display_data"
    },
    {
     "data": {
      "text/html": [
       "Indice 0.80 → <a href='https://www.autoscout24.it/annunci/bmw-118-118i-msport-vari-colori-e-allestimenti-disponibili-benzina-blu-azzurro-47361c48-7da2-4da9-bae8-3f2dab289e15' target='_blank'>https://www.autoscout24.it/annunci/bmw-118-118i-msport-vari-colori-e-allestimenti-disponibili-benzina-blu-azzurro-47361c48-7da2-4da9-bae8-3f2dab289e15</a>"
      ],
      "text/plain": [
       "<IPython.core.display.HTML object>"
      ]
     },
     "metadata": {},
     "output_type": "display_data"
    },
    {
     "data": {
      "text/html": [
       "Indice 0.80 → <a href='https://www.autoscout24.it/annunci/bmw-118-benzina-serie-1-f40-5p-m-sport-benzina-bianco-25b431fc-f21a-423e-b177-bdb57391a541' target='_blank'>https://www.autoscout24.it/annunci/bmw-118-benzina-serie-1-f40-5p-m-sport-benzina-bianco-25b431fc-f21a-423e-b177-bdb57391a541</a>"
      ],
      "text/plain": [
       "<IPython.core.display.HTML object>"
      ]
     },
     "metadata": {},
     "output_type": "display_data"
    },
    {
     "data": {
      "text/html": [
       "Indice 0.80 → <a href='https://www.autoscout24.it/annunci/bmw-116-d-auto-diesel-nero-010db6f7-f01b-43e8-b929-ce7570a41120' target='_blank'>https://www.autoscout24.it/annunci/bmw-116-d-auto-diesel-nero-010db6f7-f01b-43e8-b929-ce7570a41120</a>"
      ],
      "text/plain": [
       "<IPython.core.display.HTML object>"
      ]
     },
     "metadata": {},
     "output_type": "display_data"
    },
    {
     "data": {
      "text/html": [
       "Indice 0.80 → <a href='https://www.autoscout24.it/annunci/bmw-118-i-serie-1-f40-5p-msport-benzina-grigio-ef140646-bc84-4f0d-a646-4df5b8609790' target='_blank'>https://www.autoscout24.it/annunci/bmw-118-i-serie-1-f40-5p-msport-benzina-grigio-ef140646-bc84-4f0d-a646-4df5b8609790</a>"
      ],
      "text/plain": [
       "<IPython.core.display.HTML object>"
      ]
     },
     "metadata": {},
     "output_type": "display_data"
    },
    {
     "data": {
      "text/html": [
       "Indice 0.80 → <a href='https://www.autoscout24.it/annunci/bmw-116-d-msport-exterior-diesel-bianco-a09a1342-ed09-4c46-8ae0-3da7f05318c8' target='_blank'>https://www.autoscout24.it/annunci/bmw-116-d-msport-exterior-diesel-bianco-a09a1342-ed09-4c46-8ae0-3da7f05318c8</a>"
      ],
      "text/plain": [
       "<IPython.core.display.HTML object>"
      ]
     },
     "metadata": {},
     "output_type": "display_data"
    },
    {
     "data": {
      "text/html": [
       "Indice 0.80 → <a href='https://www.autoscout24.it/annunci/bmw-116-d-5p-msport-neopatentati-diesel-nero-1fd795a9-feb5-4bfb-8e70-af7cb5bde318' target='_blank'>https://www.autoscout24.it/annunci/bmw-116-d-5p-msport-neopatentati-diesel-nero-1fd795a9-feb5-4bfb-8e70-af7cb5bde318</a>"
      ],
      "text/plain": [
       "<IPython.core.display.HTML object>"
      ]
     },
     "metadata": {},
     "output_type": "display_data"
    },
    {
     "name": "stdout",
     "output_type": "stream",
     "text": [
      "\n"
     ]
    },
    {
     "data": {
      "text/html": [
       "<div>\n",
       "<style scoped>\n",
       "    .dataframe tbody tr th:only-of-type {\n",
       "        vertical-align: middle;\n",
       "    }\n",
       "\n",
       "    .dataframe tbody tr th {\n",
       "        vertical-align: top;\n",
       "    }\n",
       "\n",
       "    .dataframe thead th {\n",
       "        text-align: right;\n",
       "    }\n",
       "</style>\n",
       "<table border=\"1\" class=\"dataframe\">\n",
       "  <thead>\n",
       "    <tr style=\"text-align: right;\">\n",
       "      <th></th>\n",
       "      <th>Annuncio</th>\n",
       "      <th>Link</th>\n",
       "      <th>Prezzo</th>\n",
       "      <th>Anni</th>\n",
       "      <th>Immatricolazione</th>\n",
       "      <th>Chilometraggio</th>\n",
       "      <th>Cambio</th>\n",
       "      <th>Carburante</th>\n",
       "      <th>CV</th>\n",
       "      <th>Allestimento</th>\n",
       "      <th>...</th>\n",
       "      <th>Venditore</th>\n",
       "      <th>Distanza</th>\n",
       "      <th>Comune</th>\n",
       "      <th>CAP</th>\n",
       "      <th>Regione</th>\n",
       "      <th>Area</th>\n",
       "      <th>Indice_Appetibilità</th>\n",
       "      <th>prezzo_previsto</th>\n",
       "      <th>delta_prezzo</th>\n",
       "      <th>is_conveniente</th>\n",
       "    </tr>\n",
       "  </thead>\n",
       "  <tbody>\n",
       "    <tr>\n",
       "      <th>233</th>\n",
       "      <td>BMW 116 i Msport</td>\n",
       "      <td>https://www.autoscout24.it/annunci/bmw-116-i-m...</td>\n",
       "      <td>27400</td>\n",
       "      <td>2</td>\n",
       "      <td>2023</td>\n",
       "      <td>31</td>\n",
       "      <td>automatico</td>\n",
       "      <td>Benzina</td>\n",
       "      <td>136</td>\n",
       "      <td>M Sport</td>\n",
       "      <td>...</td>\n",
       "      <td>Rivenditore</td>\n",
       "      <td>16</td>\n",
       "      <td>modena</td>\n",
       "      <td>41123</td>\n",
       "      <td>Emilia-Romagna</td>\n",
       "      <td>Nord-est</td>\n",
       "      <td>0.81</td>\n",
       "      <td>28411.91</td>\n",
       "      <td>1011.91</td>\n",
       "      <td>1</td>\n",
       "    </tr>\n",
       "    <tr>\n",
       "      <th>1937</th>\n",
       "      <td>Mercedes-Benz Classe A - D M SPORT AUT.</td>\n",
       "      <td>https://autosupermarket.it/annunci/bmw-serie-1...</td>\n",
       "      <td>29900</td>\n",
       "      <td>1</td>\n",
       "      <td>2024</td>\n",
       "      <td>14</td>\n",
       "      <td>automatico</td>\n",
       "      <td>Diesel</td>\n",
       "      <td>150</td>\n",
       "      <td>M Sport</td>\n",
       "      <td>...</td>\n",
       "      <td>Rivenditore</td>\n",
       "      <td>59</td>\n",
       "      <td>lendinara</td>\n",
       "      <td>45026</td>\n",
       "      <td>Veneto</td>\n",
       "      <td>Nord-est</td>\n",
       "      <td>0.81</td>\n",
       "      <td>31363.30</td>\n",
       "      <td>1463.30</td>\n",
       "      <td>1</td>\n",
       "    </tr>\n",
       "    <tr>\n",
       "      <th>1945</th>\n",
       "      <td>Mercedes-Benz Classe A - D M SPORT AUT.</td>\n",
       "      <td>https://autosupermarket.it/annunci/bmw-serie-1...</td>\n",
       "      <td>30900</td>\n",
       "      <td>1</td>\n",
       "      <td>2024</td>\n",
       "      <td>6</td>\n",
       "      <td>automatico</td>\n",
       "      <td>Diesel</td>\n",
       "      <td>150</td>\n",
       "      <td>M Sport</td>\n",
       "      <td>...</td>\n",
       "      <td>Rivenditore</td>\n",
       "      <td>59</td>\n",
       "      <td>lendinara</td>\n",
       "      <td>45026</td>\n",
       "      <td>Veneto</td>\n",
       "      <td>Nord-est</td>\n",
       "      <td>0.81</td>\n",
       "      <td>36663.73</td>\n",
       "      <td>5763.73</td>\n",
       "      <td>1</td>\n",
       "    </tr>\n",
       "    <tr>\n",
       "      <th>3</th>\n",
       "      <td>BMW 118 118i M Sport auto VARI COLORI DISPONIBILI</td>\n",
       "      <td>https://www.autoscout24.it/annunci/bmw-118-118...</td>\n",
       "      <td>26500</td>\n",
       "      <td>3</td>\n",
       "      <td>2022</td>\n",
       "      <td>17</td>\n",
       "      <td>automatico</td>\n",
       "      <td>Benzina</td>\n",
       "      <td>136</td>\n",
       "      <td>M Sport</td>\n",
       "      <td>...</td>\n",
       "      <td>Rivenditore</td>\n",
       "      <td>77</td>\n",
       "      <td>arcole</td>\n",
       "      <td>37040</td>\n",
       "      <td>Veneto</td>\n",
       "      <td>Nord-est</td>\n",
       "      <td>0.80</td>\n",
       "      <td>26652.00</td>\n",
       "      <td>152.00</td>\n",
       "      <td>1</td>\n",
       "    </tr>\n",
       "    <tr>\n",
       "      <th>5</th>\n",
       "      <td>BMW 118 I M-SPORT LED NAVI VARI COLORI DISPONI...</td>\n",
       "      <td>https://www.autoscout24.it/annunci/bmw-118-i-m...</td>\n",
       "      <td>26500</td>\n",
       "      <td>3</td>\n",
       "      <td>2022</td>\n",
       "      <td>17</td>\n",
       "      <td>automatico</td>\n",
       "      <td>Benzina</td>\n",
       "      <td>136</td>\n",
       "      <td>M Sport</td>\n",
       "      <td>...</td>\n",
       "      <td>Rivenditore</td>\n",
       "      <td>77</td>\n",
       "      <td>arcole</td>\n",
       "      <td>37040</td>\n",
       "      <td>Veneto</td>\n",
       "      <td>Nord-est</td>\n",
       "      <td>0.80</td>\n",
       "      <td>26652.00</td>\n",
       "      <td>152.00</td>\n",
       "      <td>1</td>\n",
       "    </tr>\n",
       "    <tr>\n",
       "      <th>21</th>\n",
       "      <td>BMW 118 I Msport C.Lega17\" LED Clima2Zone M-Sp...</td>\n",
       "      <td>https://www.autoscout24.it/annunci/bmw-118-i-m...</td>\n",
       "      <td>26900</td>\n",
       "      <td>3</td>\n",
       "      <td>2022</td>\n",
       "      <td>22</td>\n",
       "      <td>automatico</td>\n",
       "      <td>Benzina</td>\n",
       "      <td>136</td>\n",
       "      <td>M Sport</td>\n",
       "      <td>...</td>\n",
       "      <td>Rivenditore</td>\n",
       "      <td>93</td>\n",
       "      <td>campi bisenzio</td>\n",
       "      <td>50013</td>\n",
       "      <td>Toscana</td>\n",
       "      <td>Centro</td>\n",
       "      <td>0.80</td>\n",
       "      <td>26993.80</td>\n",
       "      <td>93.80</td>\n",
       "      <td>0</td>\n",
       "    </tr>\n",
       "    <tr>\n",
       "      <th>29</th>\n",
       "      <td>BMW 118 118 i 5p. Msport M-sport *SCONTO IMMED...</td>\n",
       "      <td>https://www.autoscout24.it/annunci/bmw-118-118...</td>\n",
       "      <td>29890</td>\n",
       "      <td>1</td>\n",
       "      <td>2024</td>\n",
       "      <td>9</td>\n",
       "      <td>automatico</td>\n",
       "      <td>Benzina</td>\n",
       "      <td>136</td>\n",
       "      <td>M Sport</td>\n",
       "      <td>...</td>\n",
       "      <td>Rivenditore</td>\n",
       "      <td>101</td>\n",
       "      <td>padova</td>\n",
       "      <td>35129</td>\n",
       "      <td>Veneto</td>\n",
       "      <td>Nord-est</td>\n",
       "      <td>0.80</td>\n",
       "      <td>30945.55</td>\n",
       "      <td>1055.55</td>\n",
       "      <td>1</td>\n",
       "    </tr>\n",
       "    <tr>\n",
       "      <th>35</th>\n",
       "      <td>BMW 118 118 i 5p. Msport M-sport *SCONTO IMMED...</td>\n",
       "      <td>https://www.autoscout24.it/annunci/bmw-118-118...</td>\n",
       "      <td>29890</td>\n",
       "      <td>1</td>\n",
       "      <td>2024</td>\n",
       "      <td>8</td>\n",
       "      <td>automatico</td>\n",
       "      <td>Benzina</td>\n",
       "      <td>136</td>\n",
       "      <td>M Sport</td>\n",
       "      <td>...</td>\n",
       "      <td>Rivenditore</td>\n",
       "      <td>101</td>\n",
       "      <td>padova</td>\n",
       "      <td>35129</td>\n",
       "      <td>Veneto</td>\n",
       "      <td>Nord-est</td>\n",
       "      <td>0.80</td>\n",
       "      <td>30480.57</td>\n",
       "      <td>590.57</td>\n",
       "      <td>1</td>\n",
       "    </tr>\n",
       "    <tr>\n",
       "      <th>48</th>\n",
       "      <td>BMW 116 116d 5p. Msport</td>\n",
       "      <td>https://www.autoscout24.it/annunci/bmw-116-116...</td>\n",
       "      <td>26500</td>\n",
       "      <td>3</td>\n",
       "      <td>2022</td>\n",
       "      <td>59</td>\n",
       "      <td>automatico</td>\n",
       "      <td>Diesel</td>\n",
       "      <td>136</td>\n",
       "      <td>M Sport</td>\n",
       "      <td>...</td>\n",
       "      <td>Rivenditore</td>\n",
       "      <td>23</td>\n",
       "      <td>carpi</td>\n",
       "      <td>41012</td>\n",
       "      <td>Emilia-Romagna</td>\n",
       "      <td>Nord-est</td>\n",
       "      <td>0.80</td>\n",
       "      <td>27127.56</td>\n",
       "      <td>627.56</td>\n",
       "      <td>1</td>\n",
       "    </tr>\n",
       "    <tr>\n",
       "      <th>54</th>\n",
       "      <td>BMW 118 bz Msport CAMBIO AUTO CERCHI 17,NAVI,L...</td>\n",
       "      <td>https://www.autoscout24.it/annunci/bmw-118-bz-...</td>\n",
       "      <td>29900</td>\n",
       "      <td>1</td>\n",
       "      <td>2024</td>\n",
       "      <td>21</td>\n",
       "      <td>automatico</td>\n",
       "      <td>Benzina</td>\n",
       "      <td>136</td>\n",
       "      <td>M Sport</td>\n",
       "      <td>...</td>\n",
       "      <td>Rivenditore</td>\n",
       "      <td>91</td>\n",
       "      <td>acquafredda</td>\n",
       "      <td>25010</td>\n",
       "      <td>Lombardia</td>\n",
       "      <td>Nord-ovest</td>\n",
       "      <td>0.80</td>\n",
       "      <td>29425.80</td>\n",
       "      <td>-474.20</td>\n",
       "      <td>0</td>\n",
       "    </tr>\n",
       "    <tr>\n",
       "      <th>70</th>\n",
       "      <td>BMW 118 I M-SPORT LED NAVI VARI COLORI E ALLES...</td>\n",
       "      <td>https://www.autoscout24.it/annunci/bmw-118-i-m...</td>\n",
       "      <td>26500</td>\n",
       "      <td>2</td>\n",
       "      <td>2023</td>\n",
       "      <td>19</td>\n",
       "      <td>automatico</td>\n",
       "      <td>Benzina</td>\n",
       "      <td>136</td>\n",
       "      <td>M Sport</td>\n",
       "      <td>...</td>\n",
       "      <td>Rivenditore</td>\n",
       "      <td>77</td>\n",
       "      <td>arcole</td>\n",
       "      <td>37040</td>\n",
       "      <td>Veneto</td>\n",
       "      <td>Nord-est</td>\n",
       "      <td>0.80</td>\n",
       "      <td>30623.38</td>\n",
       "      <td>4123.38</td>\n",
       "      <td>1</td>\n",
       "    </tr>\n",
       "    <tr>\n",
       "      <th>88</th>\n",
       "      <td>BMW 116 d 5p. Msport Exterior - MSPORT EXTERIOR -</td>\n",
       "      <td>https://www.autoscout24.it/annunci/bmw-116-d-5...</td>\n",
       "      <td>24900</td>\n",
       "      <td>2</td>\n",
       "      <td>2023</td>\n",
       "      <td>52</td>\n",
       "      <td>automatico</td>\n",
       "      <td>Diesel</td>\n",
       "      <td>136</td>\n",
       "      <td>M Sport</td>\n",
       "      <td>...</td>\n",
       "      <td>Rivenditore</td>\n",
       "      <td>80</td>\n",
       "      <td>monselice</td>\n",
       "      <td>35043</td>\n",
       "      <td>Veneto</td>\n",
       "      <td>Nord-est</td>\n",
       "      <td>0.80</td>\n",
       "      <td>25733.39</td>\n",
       "      <td>833.39</td>\n",
       "      <td>1</td>\n",
       "    </tr>\n",
       "    <tr>\n",
       "      <th>147</th>\n",
       "      <td>BMW 118 I M-SPORT LED NAVI VARI COLORI DISPONI...</td>\n",
       "      <td>https://www.autoscout24.it/annunci/bmw-118-i-m...</td>\n",
       "      <td>26500</td>\n",
       "      <td>3</td>\n",
       "      <td>2022</td>\n",
       "      <td>17</td>\n",
       "      <td>automatico</td>\n",
       "      <td>Benzina</td>\n",
       "      <td>136</td>\n",
       "      <td>M Sport</td>\n",
       "      <td>...</td>\n",
       "      <td>Rivenditore</td>\n",
       "      <td>77</td>\n",
       "      <td>arcole</td>\n",
       "      <td>37040</td>\n",
       "      <td>Veneto</td>\n",
       "      <td>Nord-est</td>\n",
       "      <td>0.80</td>\n",
       "      <td>26652.00</td>\n",
       "      <td>152.00</td>\n",
       "      <td>1</td>\n",
       "    </tr>\n",
       "    <tr>\n",
       "      <th>193</th>\n",
       "      <td>BMW 116 i Msport</td>\n",
       "      <td>https://www.autoscout24.it/annunci/bmw-116-i-m...</td>\n",
       "      <td>25900</td>\n",
       "      <td>3</td>\n",
       "      <td>2022</td>\n",
       "      <td>60</td>\n",
       "      <td>automatico</td>\n",
       "      <td>Benzina</td>\n",
       "      <td>136</td>\n",
       "      <td>M Sport</td>\n",
       "      <td>...</td>\n",
       "      <td>Rivenditore</td>\n",
       "      <td>16</td>\n",
       "      <td>modena</td>\n",
       "      <td>41123</td>\n",
       "      <td>Emilia-Romagna</td>\n",
       "      <td>Nord-est</td>\n",
       "      <td>0.80</td>\n",
       "      <td>26365.98</td>\n",
       "      <td>465.98</td>\n",
       "      <td>1</td>\n",
       "    </tr>\n",
       "    <tr>\n",
       "      <th>212</th>\n",
       "      <td>BMW 118 118i Msport VARI COLORI E ALLESTIMENTI...</td>\n",
       "      <td>https://www.autoscout24.it/annunci/bmw-118-118...</td>\n",
       "      <td>26500</td>\n",
       "      <td>3</td>\n",
       "      <td>2022</td>\n",
       "      <td>18</td>\n",
       "      <td>automatico</td>\n",
       "      <td>Benzina</td>\n",
       "      <td>136</td>\n",
       "      <td>M Sport</td>\n",
       "      <td>...</td>\n",
       "      <td>Rivenditore</td>\n",
       "      <td>77</td>\n",
       "      <td>arcole</td>\n",
       "      <td>37040</td>\n",
       "      <td>Veneto</td>\n",
       "      <td>Nord-est</td>\n",
       "      <td>0.80</td>\n",
       "      <td>28313.00</td>\n",
       "      <td>1813.00</td>\n",
       "      <td>1</td>\n",
       "    </tr>\n",
       "    <tr>\n",
       "      <th>214</th>\n",
       "      <td>BMW118BENZINA Serie 1       (F40)  5p. M sport</td>\n",
       "      <td>https://www.autoscout24.it/annunci/bmw-118-ben...</td>\n",
       "      <td>28900</td>\n",
       "      <td>2</td>\n",
       "      <td>2023</td>\n",
       "      <td>11</td>\n",
       "      <td>automatico</td>\n",
       "      <td>Benzina</td>\n",
       "      <td>136</td>\n",
       "      <td>M Sport</td>\n",
       "      <td>...</td>\n",
       "      <td>Rivenditore</td>\n",
       "      <td>100</td>\n",
       "      <td>porcari</td>\n",
       "      <td>55016</td>\n",
       "      <td>Toscana</td>\n",
       "      <td>Centro</td>\n",
       "      <td>0.80</td>\n",
       "      <td>28751.00</td>\n",
       "      <td>-149.00</td>\n",
       "      <td>0</td>\n",
       "    </tr>\n",
       "    <tr>\n",
       "      <th>306</th>\n",
       "      <td>BMW 116 d auto</td>\n",
       "      <td>https://www.autoscout24.it/annunci/bmw-116-d-a...</td>\n",
       "      <td>24900</td>\n",
       "      <td>2</td>\n",
       "      <td>2023</td>\n",
       "      <td>44</td>\n",
       "      <td>automatico</td>\n",
       "      <td>Diesel</td>\n",
       "      <td>136</td>\n",
       "      <td>M</td>\n",
       "      <td>...</td>\n",
       "      <td>Rivenditore</td>\n",
       "      <td>121</td>\n",
       "      <td>brescia</td>\n",
       "      <td>25135</td>\n",
       "      <td>Lombardia</td>\n",
       "      <td>Nord-ovest</td>\n",
       "      <td>0.80</td>\n",
       "      <td>25221.60</td>\n",
       "      <td>321.60</td>\n",
       "      <td>1</td>\n",
       "    </tr>\n",
       "    <tr>\n",
       "      <th>307</th>\n",
       "      <td>BMW118i Serie 1       (F40)  5p. Msport</td>\n",
       "      <td>https://www.autoscout24.it/annunci/bmw-118-i-s...</td>\n",
       "      <td>29900</td>\n",
       "      <td>1</td>\n",
       "      <td>2024</td>\n",
       "      <td>11</td>\n",
       "      <td>automatico</td>\n",
       "      <td>Benzina</td>\n",
       "      <td>136</td>\n",
       "      <td>M Sport</td>\n",
       "      <td>...</td>\n",
       "      <td>Rivenditore</td>\n",
       "      <td>100</td>\n",
       "      <td>porcari</td>\n",
       "      <td>55016</td>\n",
       "      <td>Toscana</td>\n",
       "      <td>Centro</td>\n",
       "      <td>0.80</td>\n",
       "      <td>30385.79</td>\n",
       "      <td>485.79</td>\n",
       "      <td>1</td>\n",
       "    </tr>\n",
       "    <tr>\n",
       "      <th>334</th>\n",
       "      <td>BMW 116 d Msport Exterior</td>\n",
       "      <td>https://www.autoscout24.it/annunci/bmw-116-d-m...</td>\n",
       "      <td>28700</td>\n",
       "      <td>2</td>\n",
       "      <td>2023</td>\n",
       "      <td>28</td>\n",
       "      <td>automatico</td>\n",
       "      <td>Diesel</td>\n",
       "      <td>136</td>\n",
       "      <td>M Sport</td>\n",
       "      <td>...</td>\n",
       "      <td>Rivenditore</td>\n",
       "      <td>16</td>\n",
       "      <td>modena</td>\n",
       "      <td>41123</td>\n",
       "      <td>Emilia-Romagna</td>\n",
       "      <td>Nord-est</td>\n",
       "      <td>0.80</td>\n",
       "      <td>29051.94</td>\n",
       "      <td>351.94</td>\n",
       "      <td>1</td>\n",
       "    </tr>\n",
       "    <tr>\n",
       "      <th>350</th>\n",
       "      <td>BMW 116 d 5p. Msport NEOPATENTATI</td>\n",
       "      <td>https://www.autoscout24.it/annunci/bmw-116-d-5...</td>\n",
       "      <td>27000</td>\n",
       "      <td>4</td>\n",
       "      <td>2021</td>\n",
       "      <td>31</td>\n",
       "      <td>automatico</td>\n",
       "      <td>Diesel</td>\n",
       "      <td>136</td>\n",
       "      <td>M Sport</td>\n",
       "      <td>...</td>\n",
       "      <td>Rivenditore</td>\n",
       "      <td>25</td>\n",
       "      <td>bologna</td>\n",
       "      <td>40121</td>\n",
       "      <td>Emilia-Romagna</td>\n",
       "      <td>Nord-est</td>\n",
       "      <td>0.80</td>\n",
       "      <td>26941.06</td>\n",
       "      <td>-58.94</td>\n",
       "      <td>0</td>\n",
       "    </tr>\n",
       "  </tbody>\n",
       "</table>\n",
       "<p>20 rows × 22 columns</p>\n",
       "</div>"
      ],
      "text/plain": [
       "                                               Annuncio  \\\n",
       "233                                    BMW 116 i Msport   \n",
       "1937            Mercedes-Benz Classe A - D M SPORT AUT.   \n",
       "1945            Mercedes-Benz Classe A - D M SPORT AUT.   \n",
       "3     BMW 118 118i M Sport auto VARI COLORI DISPONIBILI   \n",
       "5     BMW 118 I M-SPORT LED NAVI VARI COLORI DISPONI...   \n",
       "21    BMW 118 I Msport C.Lega17\" LED Clima2Zone M-Sp...   \n",
       "29    BMW 118 118 i 5p. Msport M-sport *SCONTO IMMED...   \n",
       "35    BMW 118 118 i 5p. Msport M-sport *SCONTO IMMED...   \n",
       "48                              BMW 116 116d 5p. Msport   \n",
       "54    BMW 118 bz Msport CAMBIO AUTO CERCHI 17,NAVI,L...   \n",
       "70    BMW 118 I M-SPORT LED NAVI VARI COLORI E ALLES...   \n",
       "88    BMW 116 d 5p. Msport Exterior - MSPORT EXTERIOR -   \n",
       "147   BMW 118 I M-SPORT LED NAVI VARI COLORI DISPONI...   \n",
       "193                                    BMW 116 i Msport   \n",
       "212   BMW 118 118i Msport VARI COLORI E ALLESTIMENTI...   \n",
       "214      BMW118BENZINA Serie 1       (F40)  5p. M sport   \n",
       "306                                      BMW 116 d auto   \n",
       "307             BMW118i Serie 1       (F40)  5p. Msport   \n",
       "334                           BMW 116 d Msport Exterior   \n",
       "350                   BMW 116 d 5p. Msport NEOPATENTATI   \n",
       "\n",
       "                                                   Link  Prezzo  Anni  \\\n",
       "233   https://www.autoscout24.it/annunci/bmw-116-i-m...   27400     2   \n",
       "1937  https://autosupermarket.it/annunci/bmw-serie-1...   29900     1   \n",
       "1945  https://autosupermarket.it/annunci/bmw-serie-1...   30900     1   \n",
       "3     https://www.autoscout24.it/annunci/bmw-118-118...   26500     3   \n",
       "5     https://www.autoscout24.it/annunci/bmw-118-i-m...   26500     3   \n",
       "21    https://www.autoscout24.it/annunci/bmw-118-i-m...   26900     3   \n",
       "29    https://www.autoscout24.it/annunci/bmw-118-118...   29890     1   \n",
       "35    https://www.autoscout24.it/annunci/bmw-118-118...   29890     1   \n",
       "48    https://www.autoscout24.it/annunci/bmw-116-116...   26500     3   \n",
       "54    https://www.autoscout24.it/annunci/bmw-118-bz-...   29900     1   \n",
       "70    https://www.autoscout24.it/annunci/bmw-118-i-m...   26500     2   \n",
       "88    https://www.autoscout24.it/annunci/bmw-116-d-5...   24900     2   \n",
       "147   https://www.autoscout24.it/annunci/bmw-118-i-m...   26500     3   \n",
       "193   https://www.autoscout24.it/annunci/bmw-116-i-m...   25900     3   \n",
       "212   https://www.autoscout24.it/annunci/bmw-118-118...   26500     3   \n",
       "214   https://www.autoscout24.it/annunci/bmw-118-ben...   28900     2   \n",
       "306   https://www.autoscout24.it/annunci/bmw-116-d-a...   24900     2   \n",
       "307   https://www.autoscout24.it/annunci/bmw-118-i-s...   29900     1   \n",
       "334   https://www.autoscout24.it/annunci/bmw-116-d-m...   28700     2   \n",
       "350   https://www.autoscout24.it/annunci/bmw-116-d-5...   27000     4   \n",
       "\n",
       "      Immatricolazione  Chilometraggio      Cambio Carburante   CV  \\\n",
       "233               2023              31  automatico    Benzina  136   \n",
       "1937              2024              14  automatico     Diesel  150   \n",
       "1945              2024               6  automatico     Diesel  150   \n",
       "3                 2022              17  automatico    Benzina  136   \n",
       "5                 2022              17  automatico    Benzina  136   \n",
       "21                2022              22  automatico    Benzina  136   \n",
       "29                2024               9  automatico    Benzina  136   \n",
       "35                2024               8  automatico    Benzina  136   \n",
       "48                2022              59  automatico     Diesel  136   \n",
       "54                2024              21  automatico    Benzina  136   \n",
       "70                2023              19  automatico    Benzina  136   \n",
       "88                2023              52  automatico     Diesel  136   \n",
       "147               2022              17  automatico    Benzina  136   \n",
       "193               2022              60  automatico    Benzina  136   \n",
       "212               2022              18  automatico    Benzina  136   \n",
       "214               2023              11  automatico    Benzina  136   \n",
       "306               2023              44  automatico     Diesel  136   \n",
       "307               2024              11  automatico    Benzina  136   \n",
       "334               2023              28  automatico     Diesel  136   \n",
       "350               2021              31  automatico     Diesel  136   \n",
       "\n",
       "     Allestimento  ...    Venditore Distanza          Comune    CAP  \\\n",
       "233       M Sport  ...  Rivenditore       16          modena  41123   \n",
       "1937      M Sport  ...  Rivenditore       59       lendinara  45026   \n",
       "1945      M Sport  ...  Rivenditore       59       lendinara  45026   \n",
       "3         M Sport  ...  Rivenditore       77          arcole  37040   \n",
       "5         M Sport  ...  Rivenditore       77          arcole  37040   \n",
       "21        M Sport  ...  Rivenditore       93  campi bisenzio  50013   \n",
       "29        M Sport  ...  Rivenditore      101          padova  35129   \n",
       "35        M Sport  ...  Rivenditore      101          padova  35129   \n",
       "48        M Sport  ...  Rivenditore       23           carpi  41012   \n",
       "54        M Sport  ...  Rivenditore       91     acquafredda  25010   \n",
       "70        M Sport  ...  Rivenditore       77          arcole  37040   \n",
       "88        M Sport  ...  Rivenditore       80       monselice  35043   \n",
       "147       M Sport  ...  Rivenditore       77          arcole  37040   \n",
       "193       M Sport  ...  Rivenditore       16          modena  41123   \n",
       "212       M Sport  ...  Rivenditore       77          arcole  37040   \n",
       "214       M Sport  ...  Rivenditore      100         porcari  55016   \n",
       "306             M  ...  Rivenditore      121         brescia  25135   \n",
       "307       M Sport  ...  Rivenditore      100         porcari  55016   \n",
       "334       M Sport  ...  Rivenditore       16          modena  41123   \n",
       "350       M Sport  ...  Rivenditore       25         bologna  40121   \n",
       "\n",
       "             Regione        Area Indice_Appetibilità prezzo_previsto  \\\n",
       "233   Emilia-Romagna    Nord-est                0.81        28411.91   \n",
       "1937          Veneto    Nord-est                0.81        31363.30   \n",
       "1945          Veneto    Nord-est                0.81        36663.73   \n",
       "3             Veneto    Nord-est                0.80        26652.00   \n",
       "5             Veneto    Nord-est                0.80        26652.00   \n",
       "21           Toscana      Centro                0.80        26993.80   \n",
       "29            Veneto    Nord-est                0.80        30945.55   \n",
       "35            Veneto    Nord-est                0.80        30480.57   \n",
       "48    Emilia-Romagna    Nord-est                0.80        27127.56   \n",
       "54         Lombardia  Nord-ovest                0.80        29425.80   \n",
       "70            Veneto    Nord-est                0.80        30623.38   \n",
       "88            Veneto    Nord-est                0.80        25733.39   \n",
       "147           Veneto    Nord-est                0.80        26652.00   \n",
       "193   Emilia-Romagna    Nord-est                0.80        26365.98   \n",
       "212           Veneto    Nord-est                0.80        28313.00   \n",
       "214          Toscana      Centro                0.80        28751.00   \n",
       "306        Lombardia  Nord-ovest                0.80        25221.60   \n",
       "307          Toscana      Centro                0.80        30385.79   \n",
       "334   Emilia-Romagna    Nord-est                0.80        29051.94   \n",
       "350   Emilia-Romagna    Nord-est                0.80        26941.06   \n",
       "\n",
       "      delta_prezzo  is_conveniente  \n",
       "233        1011.91               1  \n",
       "1937       1463.30               1  \n",
       "1945       5763.73               1  \n",
       "3           152.00               1  \n",
       "5           152.00               1  \n",
       "21           93.80               0  \n",
       "29         1055.55               1  \n",
       "35          590.57               1  \n",
       "48          627.56               1  \n",
       "54         -474.20               0  \n",
       "70         4123.38               1  \n",
       "88          833.39               1  \n",
       "147         152.00               1  \n",
       "193         465.98               1  \n",
       "212        1813.00               1  \n",
       "214        -149.00               0  \n",
       "306         321.60               1  \n",
       "307         485.79               1  \n",
       "334         351.94               1  \n",
       "350         -58.94               0  \n",
       "\n",
       "[20 rows x 22 columns]"
      ]
     },
     "metadata": {},
     "output_type": "display_data"
    }
   ],
   "source": [
    "prezzo_max = 32000\n",
    "prezzo_min = 24000\n",
    "km_max =40000\n",
    "km_min = 0\n",
    "dist_max = 150\n",
    "dispaly = 20\n",
    "\n",
    "display_top_auto(df, dispaly, prezzo_max, prezzo_min, km_max, km_min, dist_max, carburante=None)\n"
   ]
  }
 ],
 "metadata": {
  "kernelspec": {
   "display_name": "Python 3",
   "language": "python",
   "name": "python3"
  },
  "language_info": {
   "codemirror_mode": {
    "name": "ipython",
    "version": 3
   },
   "file_extension": ".py",
   "mimetype": "text/x-python",
   "name": "python",
   "nbconvert_exporter": "python",
   "pygments_lexer": "ipython3",
   "version": "3.13.2"
  }
 },
 "nbformat": 4,
 "nbformat_minor": 5
}
