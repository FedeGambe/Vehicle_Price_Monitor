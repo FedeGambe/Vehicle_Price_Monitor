{
 "cells": [
  {
   "cell_type": "code",
   "execution_count": 1,
   "id": "8e192fd2",
   "metadata": {},
   "outputs": [],
   "source": [
    "modello_per_analisi = 'Opel_Corsa'\n",
    "# Opzioni possibili: Mercedes_Classe_A, BMW_Serie_1, Audi_A3, Fiat_Panda"
   ]
  },
  {
   "cell_type": "markdown",
   "id": "3aeb0754",
   "metadata": {},
   "source": [
    "### 0. Import funzioni e librerie"
   ]
  },
  {
   "cell_type": "code",
   "execution_count": 2,
   "id": "f5ec9616",
   "metadata": {},
   "outputs": [],
   "source": [
    "import pandas as pd\n",
    "import os\n",
    "import sys\n",
    "import requests\n",
    "import importlib\n",
    "from pathlib import Path\n"
   ]
  },
  {
   "cell_type": "code",
   "execution_count": 3,
   "id": "1067248f",
   "metadata": {},
   "outputs": [],
   "source": [
    "project_root = Path.cwd().parents[1]\n",
    "\n",
    "# Percorsi delle cartelle contenenti i moduli\n",
    "loader_dir = project_root / 'Source' / '2_Data_Preparation' / 'Utils'\n",
    "utils_dir = project_root / 'Source' / '3_Data_Analysis' / 'Utils'\n",
    "\n",
    "# Aggiungi al sys.path\n",
    "sys.path.extend([str(loader_dir), str(utils_dir)])\n",
    "\n",
    "# Import\n",
    "from data_loader import load_csv_for_notebook\n",
    "from Plots_maker import plot_is_conveniente_distribution, plot_price_prediction_distributions\n",
    "from Function_price_analysis import modello_ml, predizione_prezzo, is_conveniente_class_report, indice_appetibilita, display_top_auto"
   ]
  },
  {
   "cell_type": "code",
   "execution_count": 4,
   "id": "e1aa9ce0",
   "metadata": {},
   "outputs": [
    {
     "name": "stdout",
     "output_type": "stream",
     "text": [
      "\n",
      " - config_path: /Users/federicogamberini/VS Code/Vehicle_Price_Monitor/Data/config\n",
      " - Contenuto della cartella: ['config_Audi_A3.py', 'config_Opel_Corsa.py', '__pycache__', 'config_BMW_Serie_1.py', 'config_Mercedes_Classe_A.py']\n"
     ]
    }
   ],
   "source": [
    "# --- IMPORT CONFIGURAZIONE DELL'AUTO ---\n",
    "#Configurazione path per import dinamico del modulo di configurazione \n",
    "\n",
    "config_path = project_root / 'Data'/ 'config'\n",
    "\n",
    "sys.path.extend([str(config_path)])\n",
    "print(\"\\n - config_path:\", config_path)\n",
    "print(\" - Contenuto della cartella:\", os.listdir(config_path))\n",
    "\n",
    "# --- Import dinamico del modulo di configurazione in base al modello ---\n",
    "modulo_config = f\"config_{modello_per_analisi}\"  # esempio: config_Mercedes_Classe_A\n",
    "try:\n",
    "    config = importlib.import_module(modulo_config)\n",
    "except ModuleNotFoundError:\n",
    "    print(f\"❌ Modulo di configurazione '{modulo_config}' non trovato.\")\n",
    "    sys.exit(1)\n",
    "# --- Accesso ai parametri di configurazione ---\n",
    "#allestimenti = config.allestimenti\n",
    "allestimento_performance = config.allestimento_performance\n",
    "allestimento_sport = config.allestimento_sport\n",
    "allestimento_middle = config.allestimento_middle\n",
    "allestimento_base = config.allestimento_base"
   ]
  },
  {
   "cell_type": "markdown",
   "id": "43937f8d",
   "metadata": {},
   "source": [
    "### 1. Dati"
   ]
  },
  {
   "cell_type": "code",
   "execution_count": 5,
   "id": "a0466c4a",
   "metadata": {},
   "outputs": [
    {
     "name": "stdout",
     "output_type": "stream",
     "text": [
      "✅ File caricato: /Users/federicogamberini/VS Code/Vehicle_Price_Monitor/Data/Processed_data/Opel_Corsa/data_dummy_Opel_Corsa.csv (4821 righe, 17 colonne)\n",
      "✅ File caricato: /Users/federicogamberini/VS Code/Vehicle_Price_Monitor/Data/Processed_data/Opel_Corsa/data_Opel_Corsa.csv (4821 righe, 18 colonne)\n"
     ]
    }
   ],
   "source": [
    "#### CARICAMENTO DATI SINGOLI\n",
    "data_dummy= load_csv_for_notebook(project_root,['Data', 'Processed_data', modello_per_analisi, f'data_dummy_{modello_per_analisi}.csv'])\n",
    "data = load_csv_for_notebook(project_root,['Data', 'Processed_data', modello_per_analisi, f'data_{modello_per_analisi}.csv'])\n",
    "\n",
    "X = data_dummy.drop(columns=['Prezzo', 'Distanza', 'Venditore'])\n",
    "y = data_dummy['Prezzo']"
   ]
  },
  {
   "cell_type": "markdown",
   "id": "bfc5e826",
   "metadata": {},
   "source": [
    "### 2. Predizione prezzo, analisi della convenienza"
   ]
  },
  {
   "cell_type": "code",
   "execution_count": 6,
   "id": "fce75303",
   "metadata": {},
   "outputs": [
    {
     "name": "stdout",
     "output_type": "stream",
     "text": [
      "Valutazione delle performance sul test set\n",
      " - Mean Squared Error: 2268851.52\n",
      " - Root Mean Squared Error: 1506.27 euro\n",
      " - R-squared:  0.69\n"
     ]
    }
   ],
   "source": [
    "modello_ml(X, y, (project_root / 'Data' / 'Modelli_ML' / modello_per_analisi))\n",
    "data_ml, y_pred = predizione_prezzo(data_dummy, X, (project_root / 'Data' / 'Modelli_ML' / modello_per_analisi))"
   ]
  },
  {
   "cell_type": "code",
   "execution_count": 7,
   "id": "71cc2dae",
   "metadata": {},
   "outputs": [
    {
     "data": {
      "text/html": [
       "<div>\n",
       "<style scoped>\n",
       "    .dataframe tbody tr th:only-of-type {\n",
       "        vertical-align: middle;\n",
       "    }\n",
       "\n",
       "    .dataframe tbody tr th {\n",
       "        vertical-align: top;\n",
       "    }\n",
       "\n",
       "    .dataframe thead th {\n",
       "        text-align: right;\n",
       "    }\n",
       "</style>\n",
       "<table border=\"1\" class=\"dataframe\">\n",
       "  <thead>\n",
       "    <tr style=\"text-align: right;\">\n",
       "      <th></th>\n",
       "      <th>Prezzo</th>\n",
       "      <th>Anni</th>\n",
       "      <th>Chilometraggio</th>\n",
       "      <th>Cambio</th>\n",
       "      <th>CV</th>\n",
       "      <th>Venditore</th>\n",
       "      <th>Distanza</th>\n",
       "      <th>is_Diesel vs Benzina</th>\n",
       "      <th>is_GPL vs Benzina</th>\n",
       "      <th>is_Ibrido vs Benzina</th>\n",
       "      <th>is_Elettrico vs Benzina</th>\n",
       "      <th>is_sport vs base</th>\n",
       "      <th>is_performance vs base</th>\n",
       "      <th>is_middle vs base</th>\n",
       "      <th>is NO vs NE</th>\n",
       "      <th>is Centro vs NE</th>\n",
       "      <th>is Sud_Isole vs NE</th>\n",
       "      <th>prezzo_previsto</th>\n",
       "      <th>delta_prezzo</th>\n",
       "      <th>is_conveniente</th>\n",
       "    </tr>\n",
       "  </thead>\n",
       "  <tbody>\n",
       "    <tr>\n",
       "      <th>0</th>\n",
       "      <td>4111</td>\n",
       "      <td>4</td>\n",
       "      <td>150000</td>\n",
       "      <td>0</td>\n",
       "      <td>102</td>\n",
       "      <td>1</td>\n",
       "      <td>172</td>\n",
       "      <td>1</td>\n",
       "      <td>0</td>\n",
       "      <td>0</td>\n",
       "      <td>0</td>\n",
       "      <td>0</td>\n",
       "      <td>0</td>\n",
       "      <td>1</td>\n",
       "      <td>0</td>\n",
       "      <td>0</td>\n",
       "      <td>0</td>\n",
       "      <td>6495.34</td>\n",
       "      <td>2384.34</td>\n",
       "      <td>1</td>\n",
       "    </tr>\n",
       "    <tr>\n",
       "      <th>1</th>\n",
       "      <td>6200</td>\n",
       "      <td>3</td>\n",
       "      <td>6000</td>\n",
       "      <td>0</td>\n",
       "      <td>102</td>\n",
       "      <td>1</td>\n",
       "      <td>119</td>\n",
       "      <td>0</td>\n",
       "      <td>0</td>\n",
       "      <td>0</td>\n",
       "      <td>0</td>\n",
       "      <td>0</td>\n",
       "      <td>0</td>\n",
       "      <td>0</td>\n",
       "      <td>0</td>\n",
       "      <td>0</td>\n",
       "      <td>0</td>\n",
       "      <td>8699.20</td>\n",
       "      <td>2499.20</td>\n",
       "      <td>1</td>\n",
       "    </tr>\n",
       "    <tr>\n",
       "      <th>2</th>\n",
       "      <td>7990</td>\n",
       "      <td>5</td>\n",
       "      <td>200000</td>\n",
       "      <td>0</td>\n",
       "      <td>102</td>\n",
       "      <td>0</td>\n",
       "      <td>471</td>\n",
       "      <td>1</td>\n",
       "      <td>0</td>\n",
       "      <td>0</td>\n",
       "      <td>0</td>\n",
       "      <td>1</td>\n",
       "      <td>0</td>\n",
       "      <td>0</td>\n",
       "      <td>0</td>\n",
       "      <td>0</td>\n",
       "      <td>1</td>\n",
       "      <td>9033.60</td>\n",
       "      <td>1043.60</td>\n",
       "      <td>1</td>\n",
       "    </tr>\n",
       "    <tr>\n",
       "      <th>3</th>\n",
       "      <td>7900</td>\n",
       "      <td>4</td>\n",
       "      <td>75000</td>\n",
       "      <td>0</td>\n",
       "      <td>102</td>\n",
       "      <td>1</td>\n",
       "      <td>299</td>\n",
       "      <td>0</td>\n",
       "      <td>0</td>\n",
       "      <td>0</td>\n",
       "      <td>0</td>\n",
       "      <td>0</td>\n",
       "      <td>0</td>\n",
       "      <td>0</td>\n",
       "      <td>1</td>\n",
       "      <td>0</td>\n",
       "      <td>0</td>\n",
       "      <td>8756.70</td>\n",
       "      <td>856.70</td>\n",
       "      <td>1</td>\n",
       "    </tr>\n",
       "    <tr>\n",
       "      <th>4</th>\n",
       "      <td>8990</td>\n",
       "      <td>4</td>\n",
       "      <td>118000</td>\n",
       "      <td>0</td>\n",
       "      <td>102</td>\n",
       "      <td>1</td>\n",
       "      <td>746</td>\n",
       "      <td>0</td>\n",
       "      <td>0</td>\n",
       "      <td>0</td>\n",
       "      <td>0</td>\n",
       "      <td>0</td>\n",
       "      <td>0</td>\n",
       "      <td>1</td>\n",
       "      <td>0</td>\n",
       "      <td>0</td>\n",
       "      <td>1</td>\n",
       "      <td>9412.88</td>\n",
       "      <td>422.88</td>\n",
       "      <td>1</td>\n",
       "    </tr>\n",
       "    <tr>\n",
       "      <th>...</th>\n",
       "      <td>...</td>\n",
       "      <td>...</td>\n",
       "      <td>...</td>\n",
       "      <td>...</td>\n",
       "      <td>...</td>\n",
       "      <td>...</td>\n",
       "      <td>...</td>\n",
       "      <td>...</td>\n",
       "      <td>...</td>\n",
       "      <td>...</td>\n",
       "      <td>...</td>\n",
       "      <td>...</td>\n",
       "      <td>...</td>\n",
       "      <td>...</td>\n",
       "      <td>...</td>\n",
       "      <td>...</td>\n",
       "      <td>...</td>\n",
       "      <td>...</td>\n",
       "      <td>...</td>\n",
       "      <td>...</td>\n",
       "    </tr>\n",
       "    <tr>\n",
       "      <th>4816</th>\n",
       "      <td>17000</td>\n",
       "      <td>1</td>\n",
       "      <td>12000</td>\n",
       "      <td>0</td>\n",
       "      <td>75</td>\n",
       "      <td>0</td>\n",
       "      <td>99</td>\n",
       "      <td>0</td>\n",
       "      <td>0</td>\n",
       "      <td>0</td>\n",
       "      <td>0</td>\n",
       "      <td>1</td>\n",
       "      <td>0</td>\n",
       "      <td>0</td>\n",
       "      <td>0</td>\n",
       "      <td>1</td>\n",
       "      <td>0</td>\n",
       "      <td>15960.70</td>\n",
       "      <td>-1039.30</td>\n",
       "      <td>0</td>\n",
       "    </tr>\n",
       "    <tr>\n",
       "      <th>4817</th>\n",
       "      <td>14000</td>\n",
       "      <td>4</td>\n",
       "      <td>37000</td>\n",
       "      <td>0</td>\n",
       "      <td>75</td>\n",
       "      <td>0</td>\n",
       "      <td>861</td>\n",
       "      <td>0</td>\n",
       "      <td>0</td>\n",
       "      <td>0</td>\n",
       "      <td>0</td>\n",
       "      <td>0</td>\n",
       "      <td>0</td>\n",
       "      <td>1</td>\n",
       "      <td>0</td>\n",
       "      <td>0</td>\n",
       "      <td>1</td>\n",
       "      <td>12116.60</td>\n",
       "      <td>-1883.40</td>\n",
       "      <td>0</td>\n",
       "    </tr>\n",
       "    <tr>\n",
       "      <th>4818</th>\n",
       "      <td>12500</td>\n",
       "      <td>5</td>\n",
       "      <td>70000</td>\n",
       "      <td>0</td>\n",
       "      <td>75</td>\n",
       "      <td>0</td>\n",
       "      <td>141</td>\n",
       "      <td>0</td>\n",
       "      <td>0</td>\n",
       "      <td>0</td>\n",
       "      <td>0</td>\n",
       "      <td>0</td>\n",
       "      <td>0</td>\n",
       "      <td>0</td>\n",
       "      <td>0</td>\n",
       "      <td>0</td>\n",
       "      <td>0</td>\n",
       "      <td>12055.20</td>\n",
       "      <td>-444.80</td>\n",
       "      <td>0</td>\n",
       "    </tr>\n",
       "    <tr>\n",
       "      <th>4819</th>\n",
       "      <td>17500</td>\n",
       "      <td>2</td>\n",
       "      <td>12300</td>\n",
       "      <td>0</td>\n",
       "      <td>100</td>\n",
       "      <td>0</td>\n",
       "      <td>356</td>\n",
       "      <td>1</td>\n",
       "      <td>0</td>\n",
       "      <td>0</td>\n",
       "      <td>0</td>\n",
       "      <td>1</td>\n",
       "      <td>0</td>\n",
       "      <td>0</td>\n",
       "      <td>0</td>\n",
       "      <td>0</td>\n",
       "      <td>1</td>\n",
       "      <td>15444.35</td>\n",
       "      <td>-2055.65</td>\n",
       "      <td>0</td>\n",
       "    </tr>\n",
       "    <tr>\n",
       "      <th>4820</th>\n",
       "      <td>13500</td>\n",
       "      <td>3</td>\n",
       "      <td>49000</td>\n",
       "      <td>0</td>\n",
       "      <td>75</td>\n",
       "      <td>0</td>\n",
       "      <td>110</td>\n",
       "      <td>0</td>\n",
       "      <td>0</td>\n",
       "      <td>0</td>\n",
       "      <td>0</td>\n",
       "      <td>0</td>\n",
       "      <td>0</td>\n",
       "      <td>0</td>\n",
       "      <td>0</td>\n",
       "      <td>0</td>\n",
       "      <td>0</td>\n",
       "      <td>13142.45</td>\n",
       "      <td>-357.55</td>\n",
       "      <td>0</td>\n",
       "    </tr>\n",
       "  </tbody>\n",
       "</table>\n",
       "<p>4821 rows × 20 columns</p>\n",
       "</div>"
      ],
      "text/plain": [
       "      Prezzo  Anni  Chilometraggio  Cambio   CV  Venditore  Distanza  \\\n",
       "0       4111     4          150000       0  102          1       172   \n",
       "1       6200     3            6000       0  102          1       119   \n",
       "2       7990     5          200000       0  102          0       471   \n",
       "3       7900     4           75000       0  102          1       299   \n",
       "4       8990     4          118000       0  102          1       746   \n",
       "...      ...   ...             ...     ...  ...        ...       ...   \n",
       "4816   17000     1           12000       0   75          0        99   \n",
       "4817   14000     4           37000       0   75          0       861   \n",
       "4818   12500     5           70000       0   75          0       141   \n",
       "4819   17500     2           12300       0  100          0       356   \n",
       "4820   13500     3           49000       0   75          0       110   \n",
       "\n",
       "      is_Diesel vs Benzina  is_GPL vs Benzina  is_Ibrido vs Benzina  \\\n",
       "0                        1                  0                     0   \n",
       "1                        0                  0                     0   \n",
       "2                        1                  0                     0   \n",
       "3                        0                  0                     0   \n",
       "4                        0                  0                     0   \n",
       "...                    ...                ...                   ...   \n",
       "4816                     0                  0                     0   \n",
       "4817                     0                  0                     0   \n",
       "4818                     0                  0                     0   \n",
       "4819                     1                  0                     0   \n",
       "4820                     0                  0                     0   \n",
       "\n",
       "      is_Elettrico vs Benzina  is_sport vs base  is_performance vs base  \\\n",
       "0                           0                 0                       0   \n",
       "1                           0                 0                       0   \n",
       "2                           0                 1                       0   \n",
       "3                           0                 0                       0   \n",
       "4                           0                 0                       0   \n",
       "...                       ...               ...                     ...   \n",
       "4816                        0                 1                       0   \n",
       "4817                        0                 0                       0   \n",
       "4818                        0                 0                       0   \n",
       "4819                        0                 1                       0   \n",
       "4820                        0                 0                       0   \n",
       "\n",
       "      is_middle vs base  is NO vs NE  is Centro vs NE  is Sud_Isole vs NE  \\\n",
       "0                     1            0                0                   0   \n",
       "1                     0            0                0                   0   \n",
       "2                     0            0                0                   1   \n",
       "3                     0            1                0                   0   \n",
       "4                     1            0                0                   1   \n",
       "...                 ...          ...              ...                 ...   \n",
       "4816                  0            0                1                   0   \n",
       "4817                  1            0                0                   1   \n",
       "4818                  0            0                0                   0   \n",
       "4819                  0            0                0                   1   \n",
       "4820                  0            0                0                   0   \n",
       "\n",
       "      prezzo_previsto  delta_prezzo  is_conveniente  \n",
       "0             6495.34       2384.34               1  \n",
       "1             8699.20       2499.20               1  \n",
       "2             9033.60       1043.60               1  \n",
       "3             8756.70        856.70               1  \n",
       "4             9412.88        422.88               1  \n",
       "...               ...           ...             ...  \n",
       "4816         15960.70      -1039.30               0  \n",
       "4817         12116.60      -1883.40               0  \n",
       "4818         12055.20       -444.80               0  \n",
       "4819         15444.35      -2055.65               0  \n",
       "4820         13142.45       -357.55               0  \n",
       "\n",
       "[4821 rows x 20 columns]"
      ]
     },
     "execution_count": 7,
     "metadata": {},
     "output_type": "execute_result"
    }
   ],
   "source": [
    "data_ml"
   ]
  },
  {
   "cell_type": "code",
   "execution_count": 8,
   "id": "8cee3225",
   "metadata": {},
   "outputs": [
    {
     "data": {
      "application/vnd.plotly.v1+json": {
       "config": {
        "plotlyServerURL": "https://plot.ly"
       },
       "data": [
        {
         "customdata": {
          "bdata": "AAE=",
          "dtype": "i1",
          "shape": "2, 1"
         },
         "domain": {
          "x": [
           0,
           1
          ],
          "y": [
           0,
           1
          ]
         },
         "hole": 0.2,
         "hovertemplate": "label=%{label}<br>value=%{value}<br>color=%{customdata[0]}<extra></extra>",
         "labels": {
          "bdata": "AAE=",
          "dtype": "i1"
         },
         "legendgroup": "",
         "marker": {
          "colors": [
           "lightgreen",
           "lightcoral"
          ]
         },
         "name": "",
         "showlegend": true,
         "textinfo": "percent+label",
         "type": "pie",
         "values": {
          "bdata": "rgsnBw==",
          "dtype": "i2"
         }
        }
       ],
       "layout": {
        "legend": {
         "tracegroupgap": 0
        },
        "margin": {
         "t": 60
        },
        "template": {
         "data": {
          "bar": [
           {
            "error_x": {
             "color": "#2a3f5f"
            },
            "error_y": {
             "color": "#2a3f5f"
            },
            "marker": {
             "line": {
              "color": "#E5ECF6",
              "width": 0.5
             },
             "pattern": {
              "fillmode": "overlay",
              "size": 10,
              "solidity": 0.2
             }
            },
            "type": "bar"
           }
          ],
          "barpolar": [
           {
            "marker": {
             "line": {
              "color": "#E5ECF6",
              "width": 0.5
             },
             "pattern": {
              "fillmode": "overlay",
              "size": 10,
              "solidity": 0.2
             }
            },
            "type": "barpolar"
           }
          ],
          "carpet": [
           {
            "aaxis": {
             "endlinecolor": "#2a3f5f",
             "gridcolor": "white",
             "linecolor": "white",
             "minorgridcolor": "white",
             "startlinecolor": "#2a3f5f"
            },
            "baxis": {
             "endlinecolor": "#2a3f5f",
             "gridcolor": "white",
             "linecolor": "white",
             "minorgridcolor": "white",
             "startlinecolor": "#2a3f5f"
            },
            "type": "carpet"
           }
          ],
          "choropleth": [
           {
            "colorbar": {
             "outlinewidth": 0,
             "ticks": ""
            },
            "type": "choropleth"
           }
          ],
          "contour": [
           {
            "colorbar": {
             "outlinewidth": 0,
             "ticks": ""
            },
            "colorscale": [
             [
              0,
              "#0d0887"
             ],
             [
              0.1111111111111111,
              "#46039f"
             ],
             [
              0.2222222222222222,
              "#7201a8"
             ],
             [
              0.3333333333333333,
              "#9c179e"
             ],
             [
              0.4444444444444444,
              "#bd3786"
             ],
             [
              0.5555555555555556,
              "#d8576b"
             ],
             [
              0.6666666666666666,
              "#ed7953"
             ],
             [
              0.7777777777777778,
              "#fb9f3a"
             ],
             [
              0.8888888888888888,
              "#fdca26"
             ],
             [
              1,
              "#f0f921"
             ]
            ],
            "type": "contour"
           }
          ],
          "contourcarpet": [
           {
            "colorbar": {
             "outlinewidth": 0,
             "ticks": ""
            },
            "type": "contourcarpet"
           }
          ],
          "heatmap": [
           {
            "colorbar": {
             "outlinewidth": 0,
             "ticks": ""
            },
            "colorscale": [
             [
              0,
              "#0d0887"
             ],
             [
              0.1111111111111111,
              "#46039f"
             ],
             [
              0.2222222222222222,
              "#7201a8"
             ],
             [
              0.3333333333333333,
              "#9c179e"
             ],
             [
              0.4444444444444444,
              "#bd3786"
             ],
             [
              0.5555555555555556,
              "#d8576b"
             ],
             [
              0.6666666666666666,
              "#ed7953"
             ],
             [
              0.7777777777777778,
              "#fb9f3a"
             ],
             [
              0.8888888888888888,
              "#fdca26"
             ],
             [
              1,
              "#f0f921"
             ]
            ],
            "type": "heatmap"
           }
          ],
          "histogram": [
           {
            "marker": {
             "pattern": {
              "fillmode": "overlay",
              "size": 10,
              "solidity": 0.2
             }
            },
            "type": "histogram"
           }
          ],
          "histogram2d": [
           {
            "colorbar": {
             "outlinewidth": 0,
             "ticks": ""
            },
            "colorscale": [
             [
              0,
              "#0d0887"
             ],
             [
              0.1111111111111111,
              "#46039f"
             ],
             [
              0.2222222222222222,
              "#7201a8"
             ],
             [
              0.3333333333333333,
              "#9c179e"
             ],
             [
              0.4444444444444444,
              "#bd3786"
             ],
             [
              0.5555555555555556,
              "#d8576b"
             ],
             [
              0.6666666666666666,
              "#ed7953"
             ],
             [
              0.7777777777777778,
              "#fb9f3a"
             ],
             [
              0.8888888888888888,
              "#fdca26"
             ],
             [
              1,
              "#f0f921"
             ]
            ],
            "type": "histogram2d"
           }
          ],
          "histogram2dcontour": [
           {
            "colorbar": {
             "outlinewidth": 0,
             "ticks": ""
            },
            "colorscale": [
             [
              0,
              "#0d0887"
             ],
             [
              0.1111111111111111,
              "#46039f"
             ],
             [
              0.2222222222222222,
              "#7201a8"
             ],
             [
              0.3333333333333333,
              "#9c179e"
             ],
             [
              0.4444444444444444,
              "#bd3786"
             ],
             [
              0.5555555555555556,
              "#d8576b"
             ],
             [
              0.6666666666666666,
              "#ed7953"
             ],
             [
              0.7777777777777778,
              "#fb9f3a"
             ],
             [
              0.8888888888888888,
              "#fdca26"
             ],
             [
              1,
              "#f0f921"
             ]
            ],
            "type": "histogram2dcontour"
           }
          ],
          "mesh3d": [
           {
            "colorbar": {
             "outlinewidth": 0,
             "ticks": ""
            },
            "type": "mesh3d"
           }
          ],
          "parcoords": [
           {
            "line": {
             "colorbar": {
              "outlinewidth": 0,
              "ticks": ""
             }
            },
            "type": "parcoords"
           }
          ],
          "pie": [
           {
            "automargin": true,
            "type": "pie"
           }
          ],
          "scatter": [
           {
            "fillpattern": {
             "fillmode": "overlay",
             "size": 10,
             "solidity": 0.2
            },
            "type": "scatter"
           }
          ],
          "scatter3d": [
           {
            "line": {
             "colorbar": {
              "outlinewidth": 0,
              "ticks": ""
             }
            },
            "marker": {
             "colorbar": {
              "outlinewidth": 0,
              "ticks": ""
             }
            },
            "type": "scatter3d"
           }
          ],
          "scattercarpet": [
           {
            "marker": {
             "colorbar": {
              "outlinewidth": 0,
              "ticks": ""
             }
            },
            "type": "scattercarpet"
           }
          ],
          "scattergeo": [
           {
            "marker": {
             "colorbar": {
              "outlinewidth": 0,
              "ticks": ""
             }
            },
            "type": "scattergeo"
           }
          ],
          "scattergl": [
           {
            "marker": {
             "colorbar": {
              "outlinewidth": 0,
              "ticks": ""
             }
            },
            "type": "scattergl"
           }
          ],
          "scattermap": [
           {
            "marker": {
             "colorbar": {
              "outlinewidth": 0,
              "ticks": ""
             }
            },
            "type": "scattermap"
           }
          ],
          "scattermapbox": [
           {
            "marker": {
             "colorbar": {
              "outlinewidth": 0,
              "ticks": ""
             }
            },
            "type": "scattermapbox"
           }
          ],
          "scatterpolar": [
           {
            "marker": {
             "colorbar": {
              "outlinewidth": 0,
              "ticks": ""
             }
            },
            "type": "scatterpolar"
           }
          ],
          "scatterpolargl": [
           {
            "marker": {
             "colorbar": {
              "outlinewidth": 0,
              "ticks": ""
             }
            },
            "type": "scatterpolargl"
           }
          ],
          "scatterternary": [
           {
            "marker": {
             "colorbar": {
              "outlinewidth": 0,
              "ticks": ""
             }
            },
            "type": "scatterternary"
           }
          ],
          "surface": [
           {
            "colorbar": {
             "outlinewidth": 0,
             "ticks": ""
            },
            "colorscale": [
             [
              0,
              "#0d0887"
             ],
             [
              0.1111111111111111,
              "#46039f"
             ],
             [
              0.2222222222222222,
              "#7201a8"
             ],
             [
              0.3333333333333333,
              "#9c179e"
             ],
             [
              0.4444444444444444,
              "#bd3786"
             ],
             [
              0.5555555555555556,
              "#d8576b"
             ],
             [
              0.6666666666666666,
              "#ed7953"
             ],
             [
              0.7777777777777778,
              "#fb9f3a"
             ],
             [
              0.8888888888888888,
              "#fdca26"
             ],
             [
              1,
              "#f0f921"
             ]
            ],
            "type": "surface"
           }
          ],
          "table": [
           {
            "cells": {
             "fill": {
              "color": "#EBF0F8"
             },
             "line": {
              "color": "white"
             }
            },
            "header": {
             "fill": {
              "color": "#C8D4E3"
             },
             "line": {
              "color": "white"
             }
            },
            "type": "table"
           }
          ]
         },
         "layout": {
          "annotationdefaults": {
           "arrowcolor": "#2a3f5f",
           "arrowhead": 0,
           "arrowwidth": 1
          },
          "autotypenumbers": "strict",
          "coloraxis": {
           "colorbar": {
            "outlinewidth": 0,
            "ticks": ""
           }
          },
          "colorscale": {
           "diverging": [
            [
             0,
             "#8e0152"
            ],
            [
             0.1,
             "#c51b7d"
            ],
            [
             0.2,
             "#de77ae"
            ],
            [
             0.3,
             "#f1b6da"
            ],
            [
             0.4,
             "#fde0ef"
            ],
            [
             0.5,
             "#f7f7f7"
            ],
            [
             0.6,
             "#e6f5d0"
            ],
            [
             0.7,
             "#b8e186"
            ],
            [
             0.8,
             "#7fbc41"
            ],
            [
             0.9,
             "#4d9221"
            ],
            [
             1,
             "#276419"
            ]
           ],
           "sequential": [
            [
             0,
             "#0d0887"
            ],
            [
             0.1111111111111111,
             "#46039f"
            ],
            [
             0.2222222222222222,
             "#7201a8"
            ],
            [
             0.3333333333333333,
             "#9c179e"
            ],
            [
             0.4444444444444444,
             "#bd3786"
            ],
            [
             0.5555555555555556,
             "#d8576b"
            ],
            [
             0.6666666666666666,
             "#ed7953"
            ],
            [
             0.7777777777777778,
             "#fb9f3a"
            ],
            [
             0.8888888888888888,
             "#fdca26"
            ],
            [
             1,
             "#f0f921"
            ]
           ],
           "sequentialminus": [
            [
             0,
             "#0d0887"
            ],
            [
             0.1111111111111111,
             "#46039f"
            ],
            [
             0.2222222222222222,
             "#7201a8"
            ],
            [
             0.3333333333333333,
             "#9c179e"
            ],
            [
             0.4444444444444444,
             "#bd3786"
            ],
            [
             0.5555555555555556,
             "#d8576b"
            ],
            [
             0.6666666666666666,
             "#ed7953"
            ],
            [
             0.7777777777777778,
             "#fb9f3a"
            ],
            [
             0.8888888888888888,
             "#fdca26"
            ],
            [
             1,
             "#f0f921"
            ]
           ]
          },
          "colorway": [
           "#636efa",
           "#EF553B",
           "#00cc96",
           "#ab63fa",
           "#FFA15A",
           "#19d3f3",
           "#FF6692",
           "#B6E880",
           "#FF97FF",
           "#FECB52"
          ],
          "font": {
           "color": "#2a3f5f"
          },
          "geo": {
           "bgcolor": "white",
           "lakecolor": "white",
           "landcolor": "#E5ECF6",
           "showlakes": true,
           "showland": true,
           "subunitcolor": "white"
          },
          "hoverlabel": {
           "align": "left"
          },
          "hovermode": "closest",
          "mapbox": {
           "style": "light"
          },
          "paper_bgcolor": "white",
          "plot_bgcolor": "#E5ECF6",
          "polar": {
           "angularaxis": {
            "gridcolor": "white",
            "linecolor": "white",
            "ticks": ""
           },
           "bgcolor": "#E5ECF6",
           "radialaxis": {
            "gridcolor": "white",
            "linecolor": "white",
            "ticks": ""
           }
          },
          "scene": {
           "xaxis": {
            "backgroundcolor": "#E5ECF6",
            "gridcolor": "white",
            "gridwidth": 2,
            "linecolor": "white",
            "showbackground": true,
            "ticks": "",
            "zerolinecolor": "white"
           },
           "yaxis": {
            "backgroundcolor": "#E5ECF6",
            "gridcolor": "white",
            "gridwidth": 2,
            "linecolor": "white",
            "showbackground": true,
            "ticks": "",
            "zerolinecolor": "white"
           },
           "zaxis": {
            "backgroundcolor": "#E5ECF6",
            "gridcolor": "white",
            "gridwidth": 2,
            "linecolor": "white",
            "showbackground": true,
            "ticks": "",
            "zerolinecolor": "white"
           }
          },
          "shapedefaults": {
           "line": {
            "color": "#2a3f5f"
           }
          },
          "ternary": {
           "aaxis": {
            "gridcolor": "white",
            "linecolor": "white",
            "ticks": ""
           },
           "baxis": {
            "gridcolor": "white",
            "linecolor": "white",
            "ticks": ""
           },
           "bgcolor": "#E5ECF6",
           "caxis": {
            "gridcolor": "white",
            "linecolor": "white",
            "ticks": ""
           }
          },
          "title": {
           "x": 0.05
          },
          "xaxis": {
           "automargin": true,
           "gridcolor": "white",
           "linecolor": "white",
           "ticks": "",
           "title": {
            "standoff": 15
           },
           "zerolinecolor": "white",
           "zerolinewidth": 2
          },
          "yaxis": {
           "automargin": true,
           "gridcolor": "white",
           "linecolor": "white",
           "ticks": "",
           "title": {
            "standoff": 15
           },
           "zerolinecolor": "white",
           "zerolinewidth": 2
          }
         }
        },
        "title": {
         "font": {
          "family": "Arial",
          "size": 20,
          "weight": "bold"
         },
         "text": "Distribuzione della variabile is_conveniente",
         "x": 0.5,
         "xanchor": "center"
        }
       }
      }
     },
     "metadata": {},
     "output_type": "display_data"
    },
    {
     "name": "stdout",
     "output_type": "stream",
     "text": [
      "\n",
      "Distribuzione relativa della variabile 'is_conveniente':\n",
      "\n",
      " is_conveniente  Frequenza Relativa\n",
      "              0            0.620203\n",
      "              1            0.379797\n"
     ]
    }
   ],
   "source": [
    "plot_is_conveniente_distribution(data_ml)"
   ]
  },
  {
   "cell_type": "code",
   "execution_count": 9,
   "id": "0e67af43",
   "metadata": {},
   "outputs": [
    {
     "data": {
      "application/vnd.plotly.v1+json": {
       "config": {
        "plotlyServerURL": "https://plot.ly"
       },
       "data": [
        {
         "marker": {
          "color": "steelblue"
         },
         "name": "Prezzo Previsto",
         "nbinsx": 120,
         "type": "histogram",
         "x": {
          "bdata": "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",
          "dtype": "f8"
         },
         "xaxis": "x",
         "yaxis": "y"
        },
        {
         "marker": {
          "color": "darkorange"
         },
         "name": "Delta Prezzo",
         "nbinsx": 120,
         "type": "histogram",
         "x": {
          "bdata": "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",
          "dtype": "f8"
         },
         "xaxis": "x2",
         "yaxis": "y2"
        },
        {
         "line": {
          "color": "black",
          "dash": "dash"
         },
         "mode": "lines",
         "name": "Curva Normale Prezzo Previsto",
         "type": "scatter",
         "x": {
          "bdata": "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",
          "dtype": "f8"
         },
         "xaxis": "x",
         "y": {
          "bdata": "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",
          "dtype": "f8"
         },
         "yaxis": "y"
        },
        {
         "line": {
          "color": "black",
          "dash": "dash"
         },
         "mode": "lines",
         "name": "Curva Normale Delta Prezzo",
         "type": "scatter",
         "x": {
          "bdata": "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",
          "dtype": "f8"
         },
         "xaxis": "x2",
         "y": {
          "bdata": "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",
          "dtype": "f8"
         },
         "yaxis": "y2"
        }
       ],
       "layout": {
        "annotations": [
         {
          "font": {
           "size": 16
          },
          "showarrow": false,
          "text": "Distribuzione di Prezzo Previsto",
          "x": 0.225,
          "xanchor": "center",
          "xref": "paper",
          "y": 1,
          "yanchor": "bottom",
          "yref": "paper"
         },
         {
          "font": {
           "size": 16
          },
          "showarrow": false,
          "text": "Distribuzione di Delta Prezzo",
          "x": 0.775,
          "xanchor": "center",
          "xref": "paper",
          "y": 1,
          "yanchor": "bottom",
          "yref": "paper"
         }
        ],
        "bargap": 0.05,
        "showlegend": true,
        "template": {
         "data": {
          "bar": [
           {
            "error_x": {
             "color": "#2a3f5f"
            },
            "error_y": {
             "color": "#2a3f5f"
            },
            "marker": {
             "line": {
              "color": "#E5ECF6",
              "width": 0.5
             },
             "pattern": {
              "fillmode": "overlay",
              "size": 10,
              "solidity": 0.2
             }
            },
            "type": "bar"
           }
          ],
          "barpolar": [
           {
            "marker": {
             "line": {
              "color": "#E5ECF6",
              "width": 0.5
             },
             "pattern": {
              "fillmode": "overlay",
              "size": 10,
              "solidity": 0.2
             }
            },
            "type": "barpolar"
           }
          ],
          "carpet": [
           {
            "aaxis": {
             "endlinecolor": "#2a3f5f",
             "gridcolor": "white",
             "linecolor": "white",
             "minorgridcolor": "white",
             "startlinecolor": "#2a3f5f"
            },
            "baxis": {
             "endlinecolor": "#2a3f5f",
             "gridcolor": "white",
             "linecolor": "white",
             "minorgridcolor": "white",
             "startlinecolor": "#2a3f5f"
            },
            "type": "carpet"
           }
          ],
          "choropleth": [
           {
            "colorbar": {
             "outlinewidth": 0,
             "ticks": ""
            },
            "type": "choropleth"
           }
          ],
          "contour": [
           {
            "colorbar": {
             "outlinewidth": 0,
             "ticks": ""
            },
            "colorscale": [
             [
              0,
              "#0d0887"
             ],
             [
              0.1111111111111111,
              "#46039f"
             ],
             [
              0.2222222222222222,
              "#7201a8"
             ],
             [
              0.3333333333333333,
              "#9c179e"
             ],
             [
              0.4444444444444444,
              "#bd3786"
             ],
             [
              0.5555555555555556,
              "#d8576b"
             ],
             [
              0.6666666666666666,
              "#ed7953"
             ],
             [
              0.7777777777777778,
              "#fb9f3a"
             ],
             [
              0.8888888888888888,
              "#fdca26"
             ],
             [
              1,
              "#f0f921"
             ]
            ],
            "type": "contour"
           }
          ],
          "contourcarpet": [
           {
            "colorbar": {
             "outlinewidth": 0,
             "ticks": ""
            },
            "type": "contourcarpet"
           }
          ],
          "heatmap": [
           {
            "colorbar": {
             "outlinewidth": 0,
             "ticks": ""
            },
            "colorscale": [
             [
              0,
              "#0d0887"
             ],
             [
              0.1111111111111111,
              "#46039f"
             ],
             [
              0.2222222222222222,
              "#7201a8"
             ],
             [
              0.3333333333333333,
              "#9c179e"
             ],
             [
              0.4444444444444444,
              "#bd3786"
             ],
             [
              0.5555555555555556,
              "#d8576b"
             ],
             [
              0.6666666666666666,
              "#ed7953"
             ],
             [
              0.7777777777777778,
              "#fb9f3a"
             ],
             [
              0.8888888888888888,
              "#fdca26"
             ],
             [
              1,
              "#f0f921"
             ]
            ],
            "type": "heatmap"
           }
          ],
          "histogram": [
           {
            "marker": {
             "pattern": {
              "fillmode": "overlay",
              "size": 10,
              "solidity": 0.2
             }
            },
            "type": "histogram"
           }
          ],
          "histogram2d": [
           {
            "colorbar": {
             "outlinewidth": 0,
             "ticks": ""
            },
            "colorscale": [
             [
              0,
              "#0d0887"
             ],
             [
              0.1111111111111111,
              "#46039f"
             ],
             [
              0.2222222222222222,
              "#7201a8"
             ],
             [
              0.3333333333333333,
              "#9c179e"
             ],
             [
              0.4444444444444444,
              "#bd3786"
             ],
             [
              0.5555555555555556,
              "#d8576b"
             ],
             [
              0.6666666666666666,
              "#ed7953"
             ],
             [
              0.7777777777777778,
              "#fb9f3a"
             ],
             [
              0.8888888888888888,
              "#fdca26"
             ],
             [
              1,
              "#f0f921"
             ]
            ],
            "type": "histogram2d"
           }
          ],
          "histogram2dcontour": [
           {
            "colorbar": {
             "outlinewidth": 0,
             "ticks": ""
            },
            "colorscale": [
             [
              0,
              "#0d0887"
             ],
             [
              0.1111111111111111,
              "#46039f"
             ],
             [
              0.2222222222222222,
              "#7201a8"
             ],
             [
              0.3333333333333333,
              "#9c179e"
             ],
             [
              0.4444444444444444,
              "#bd3786"
             ],
             [
              0.5555555555555556,
              "#d8576b"
             ],
             [
              0.6666666666666666,
              "#ed7953"
             ],
             [
              0.7777777777777778,
              "#fb9f3a"
             ],
             [
              0.8888888888888888,
              "#fdca26"
             ],
             [
              1,
              "#f0f921"
             ]
            ],
            "type": "histogram2dcontour"
           }
          ],
          "mesh3d": [
           {
            "colorbar": {
             "outlinewidth": 0,
             "ticks": ""
            },
            "type": "mesh3d"
           }
          ],
          "parcoords": [
           {
            "line": {
             "colorbar": {
              "outlinewidth": 0,
              "ticks": ""
             }
            },
            "type": "parcoords"
           }
          ],
          "pie": [
           {
            "automargin": true,
            "type": "pie"
           }
          ],
          "scatter": [
           {
            "fillpattern": {
             "fillmode": "overlay",
             "size": 10,
             "solidity": 0.2
            },
            "type": "scatter"
           }
          ],
          "scatter3d": [
           {
            "line": {
             "colorbar": {
              "outlinewidth": 0,
              "ticks": ""
             }
            },
            "marker": {
             "colorbar": {
              "outlinewidth": 0,
              "ticks": ""
             }
            },
            "type": "scatter3d"
           }
          ],
          "scattercarpet": [
           {
            "marker": {
             "colorbar": {
              "outlinewidth": 0,
              "ticks": ""
             }
            },
            "type": "scattercarpet"
           }
          ],
          "scattergeo": [
           {
            "marker": {
             "colorbar": {
              "outlinewidth": 0,
              "ticks": ""
             }
            },
            "type": "scattergeo"
           }
          ],
          "scattergl": [
           {
            "marker": {
             "colorbar": {
              "outlinewidth": 0,
              "ticks": ""
             }
            },
            "type": "scattergl"
           }
          ],
          "scattermap": [
           {
            "marker": {
             "colorbar": {
              "outlinewidth": 0,
              "ticks": ""
             }
            },
            "type": "scattermap"
           }
          ],
          "scattermapbox": [
           {
            "marker": {
             "colorbar": {
              "outlinewidth": 0,
              "ticks": ""
             }
            },
            "type": "scattermapbox"
           }
          ],
          "scatterpolar": [
           {
            "marker": {
             "colorbar": {
              "outlinewidth": 0,
              "ticks": ""
             }
            },
            "type": "scatterpolar"
           }
          ],
          "scatterpolargl": [
           {
            "marker": {
             "colorbar": {
              "outlinewidth": 0,
              "ticks": ""
             }
            },
            "type": "scatterpolargl"
           }
          ],
          "scatterternary": [
           {
            "marker": {
             "colorbar": {
              "outlinewidth": 0,
              "ticks": ""
             }
            },
            "type": "scatterternary"
           }
          ],
          "surface": [
           {
            "colorbar": {
             "outlinewidth": 0,
             "ticks": ""
            },
            "colorscale": [
             [
              0,
              "#0d0887"
             ],
             [
              0.1111111111111111,
              "#46039f"
             ],
             [
              0.2222222222222222,
              "#7201a8"
             ],
             [
              0.3333333333333333,
              "#9c179e"
             ],
             [
              0.4444444444444444,
              "#bd3786"
             ],
             [
              0.5555555555555556,
              "#d8576b"
             ],
             [
              0.6666666666666666,
              "#ed7953"
             ],
             [
              0.7777777777777778,
              "#fb9f3a"
             ],
             [
              0.8888888888888888,
              "#fdca26"
             ],
             [
              1,
              "#f0f921"
             ]
            ],
            "type": "surface"
           }
          ],
          "table": [
           {
            "cells": {
             "fill": {
              "color": "#EBF0F8"
             },
             "line": {
              "color": "white"
             }
            },
            "header": {
             "fill": {
              "color": "#C8D4E3"
             },
             "line": {
              "color": "white"
             }
            },
            "type": "table"
           }
          ]
         },
         "layout": {
          "annotationdefaults": {
           "arrowcolor": "#2a3f5f",
           "arrowhead": 0,
           "arrowwidth": 1
          },
          "autotypenumbers": "strict",
          "coloraxis": {
           "colorbar": {
            "outlinewidth": 0,
            "ticks": ""
           }
          },
          "colorscale": {
           "diverging": [
            [
             0,
             "#8e0152"
            ],
            [
             0.1,
             "#c51b7d"
            ],
            [
             0.2,
             "#de77ae"
            ],
            [
             0.3,
             "#f1b6da"
            ],
            [
             0.4,
             "#fde0ef"
            ],
            [
             0.5,
             "#f7f7f7"
            ],
            [
             0.6,
             "#e6f5d0"
            ],
            [
             0.7,
             "#b8e186"
            ],
            [
             0.8,
             "#7fbc41"
            ],
            [
             0.9,
             "#4d9221"
            ],
            [
             1,
             "#276419"
            ]
           ],
           "sequential": [
            [
             0,
             "#0d0887"
            ],
            [
             0.1111111111111111,
             "#46039f"
            ],
            [
             0.2222222222222222,
             "#7201a8"
            ],
            [
             0.3333333333333333,
             "#9c179e"
            ],
            [
             0.4444444444444444,
             "#bd3786"
            ],
            [
             0.5555555555555556,
             "#d8576b"
            ],
            [
             0.6666666666666666,
             "#ed7953"
            ],
            [
             0.7777777777777778,
             "#fb9f3a"
            ],
            [
             0.8888888888888888,
             "#fdca26"
            ],
            [
             1,
             "#f0f921"
            ]
           ],
           "sequentialminus": [
            [
             0,
             "#0d0887"
            ],
            [
             0.1111111111111111,
             "#46039f"
            ],
            [
             0.2222222222222222,
             "#7201a8"
            ],
            [
             0.3333333333333333,
             "#9c179e"
            ],
            [
             0.4444444444444444,
             "#bd3786"
            ],
            [
             0.5555555555555556,
             "#d8576b"
            ],
            [
             0.6666666666666666,
             "#ed7953"
            ],
            [
             0.7777777777777778,
             "#fb9f3a"
            ],
            [
             0.8888888888888888,
             "#fdca26"
            ],
            [
             1,
             "#f0f921"
            ]
           ]
          },
          "colorway": [
           "#636efa",
           "#EF553B",
           "#00cc96",
           "#ab63fa",
           "#FFA15A",
           "#19d3f3",
           "#FF6692",
           "#B6E880",
           "#FF97FF",
           "#FECB52"
          ],
          "font": {
           "color": "#2a3f5f"
          },
          "geo": {
           "bgcolor": "white",
           "lakecolor": "white",
           "landcolor": "#E5ECF6",
           "showlakes": true,
           "showland": true,
           "subunitcolor": "white"
          },
          "hoverlabel": {
           "align": "left"
          },
          "hovermode": "closest",
          "mapbox": {
           "style": "light"
          },
          "paper_bgcolor": "white",
          "plot_bgcolor": "#E5ECF6",
          "polar": {
           "angularaxis": {
            "gridcolor": "white",
            "linecolor": "white",
            "ticks": ""
           },
           "bgcolor": "#E5ECF6",
           "radialaxis": {
            "gridcolor": "white",
            "linecolor": "white",
            "ticks": ""
           }
          },
          "scene": {
           "xaxis": {
            "backgroundcolor": "#E5ECF6",
            "gridcolor": "white",
            "gridwidth": 2,
            "linecolor": "white",
            "showbackground": true,
            "ticks": "",
            "zerolinecolor": "white"
           },
           "yaxis": {
            "backgroundcolor": "#E5ECF6",
            "gridcolor": "white",
            "gridwidth": 2,
            "linecolor": "white",
            "showbackground": true,
            "ticks": "",
            "zerolinecolor": "white"
           },
           "zaxis": {
            "backgroundcolor": "#E5ECF6",
            "gridcolor": "white",
            "gridwidth": 2,
            "linecolor": "white",
            "showbackground": true,
            "ticks": "",
            "zerolinecolor": "white"
           }
          },
          "shapedefaults": {
           "line": {
            "color": "#2a3f5f"
           }
          },
          "ternary": {
           "aaxis": {
            "gridcolor": "white",
            "linecolor": "white",
            "ticks": ""
           },
           "baxis": {
            "gridcolor": "white",
            "linecolor": "white",
            "ticks": ""
           },
           "bgcolor": "#E5ECF6",
           "caxis": {
            "gridcolor": "white",
            "linecolor": "white",
            "ticks": ""
           }
          },
          "title": {
           "x": 0.05
          },
          "xaxis": {
           "automargin": true,
           "gridcolor": "white",
           "linecolor": "white",
           "ticks": "",
           "title": {
            "standoff": 15
           },
           "zerolinecolor": "white",
           "zerolinewidth": 2
          },
          "yaxis": {
           "automargin": true,
           "gridcolor": "white",
           "linecolor": "white",
           "ticks": "",
           "title": {
            "standoff": 15
           },
           "zerolinecolor": "white",
           "zerolinewidth": 2
          }
         }
        },
        "title": {
         "font": {
          "family": "Arial",
          "size": 20,
          "weight": "bold"
         },
         "text": "Distribuzione delle variabili Prezzo Previsto e Delta Prezzo",
         "x": 0.5,
         "xanchor": "center"
        },
        "xaxis": {
         "anchor": "y",
         "domain": [
          0,
          0.45
         ]
        },
        "xaxis2": {
         "anchor": "y2",
         "domain": [
          0.55,
          1
         ]
        },
        "yaxis": {
         "anchor": "x",
         "domain": [
          0,
          1
         ]
        },
        "yaxis2": {
         "anchor": "x2",
         "domain": [
          0,
          1
         ]
        }
       }
      }
     },
     "metadata": {},
     "output_type": "display_data"
    }
   ],
   "source": [
    "plot_price_prediction_distributions(data_ml)"
   ]
  },
  {
   "cell_type": "code",
   "execution_count": 10,
   "id": "992b4a51",
   "metadata": {},
   "outputs": [],
   "source": [
    "#is_conveniente_class_report(data_ml)"
   ]
  },
  {
   "cell_type": "markdown",
   "id": "234eb0ec",
   "metadata": {},
   "source": [
    "### 3. Indice di attendibilità"
   ]
  },
  {
   "cell_type": "code",
   "execution_count": 11,
   "id": "d5b7b4ed",
   "metadata": {},
   "outputs": [],
   "source": [
    "#Prezzo soglia: prezzo oltre il quale il punteggio di attendibilità diminuisce\n",
    "prezzo_soglia=35000\n",
    "\n",
    "#Valori per il calcolo indice di attendibilità\n",
    "valore_idx_anni = 0.025\n",
    "valore_idx_prezzo = 0.15\n",
    "valore_idx_km= 0.15 \n",
    "valore_idx_dist = 0.10 \n",
    "valore_idx_allestimento= 0.25 \n",
    "valore_idx_cv =0.025\n",
    "valore_idx_cambio = 0.20 "
   ]
  },
  {
   "cell_type": "code",
   "execution_count": 12,
   "id": "6d250988",
   "metadata": {},
   "outputs": [],
   "source": [
    "df = indice_appetibilita(data, y_pred, prezzo_soglia, valore_idx_anni, valore_idx_prezzo, valore_idx_km, \n",
    "                           valore_idx_dist, valore_idx_allestimento, valore_idx_cv, valore_idx_cambio, \n",
    "                           allestimento_performance, allestimento_sport,allestimento_middle,allestimento_base)"
   ]
  },
  {
   "cell_type": "code",
   "execution_count": 13,
   "id": "e94688f0",
   "metadata": {},
   "outputs": [
    {
     "name": "stdout",
     "output_type": "stream",
     "text": [
      "Le migliori 20 auto secondo l'indice di appetibilità sono:\n"
     ]
    },
    {
     "data": {
      "text/html": [
       "Indice 0.76 → <a href='https://www.autoscout24.it/annunci/opel-corsa-corsa-vi-2020-e-gs-line-elettrica-rosso-af14fa66-61f7-46b1-a3d1-b073ec8a13eb' target='_blank'>https://www.autoscout24.it/annunci/opel-corsa-corsa-vi-2020-e-gs-line-elettrica-rosso-af14fa66-61f7-46b1-a3d1-b073ec8a13eb</a>"
      ],
      "text/plain": [
       "<IPython.core.display.HTML object>"
      ]
     },
     "metadata": {},
     "output_type": "display_data"
    },
    {
     "data": {
      "text/html": [
       "Indice 0.63 → <a href='https://www.autoscout24.it/annunci/opel-corsa-gs-6-serie-gs-1-2-km-0-benzina-grigio-20fc8c18-7407-44b3-94a1-bb14f4c51c21' target='_blank'>https://www.autoscout24.it/annunci/opel-corsa-gs-6-serie-gs-1-2-km-0-benzina-grigio-20fc8c18-7407-44b3-94a1-bb14f4c51c21</a>"
      ],
      "text/plain": [
       "<IPython.core.display.HTML object>"
      ]
     },
     "metadata": {},
     "output_type": "display_data"
    },
    {
     "data": {
      "text/html": [
       "Indice 0.63 → <a href='https://www.autoscout24.it/annunci/opel-corsa-gs-6-serie-gs-1-2-km-0-benzina-grigio-d8a312d9-c263-4bd2-9b32-682373219b4a' target='_blank'>https://www.autoscout24.it/annunci/opel-corsa-gs-6-serie-gs-1-2-km-0-benzina-grigio-d8a312d9-c263-4bd2-9b32-682373219b4a</a>"
      ],
      "text/plain": [
       "<IPython.core.display.HTML object>"
      ]
     },
     "metadata": {},
     "output_type": "display_data"
    },
    {
     "data": {
      "text/html": [
       "Indice 0.63 → <a href='https://www.automobile.it/castenaso-opel-corsa-1-2-100-cv-gs-line/180254399' target='_blank'>https://www.automobile.it/castenaso-opel-corsa-1-2-100-cv-gs-line/180254399</a>"
      ],
      "text/plain": [
       "<IPython.core.display.HTML object>"
      ]
     },
     "metadata": {},
     "output_type": "display_data"
    },
    {
     "data": {
      "text/html": [
       "Indice 0.63 → <a href='https://autosupermarket.it/annunci/opel-corsa-1-2-100-cv-benzina-2021-19f272ce8007aafb?search=https://autosupermarket.it/ricerca/opel/corsa/anno-da-2020?anno-a%3D2025%26t%3D4f01im%26page%3D28' target='_blank'>https://autosupermarket.it/annunci/opel-corsa-1-2-100-cv-benzina-2021-19f272ce8007aafb?search=https://autosupermarket.it/ricerca/opel/corsa/anno-da-2020?anno-a%3D2025%26t%3D4f01im%26page%3D28</a>"
      ],
      "text/plain": [
       "<IPython.core.display.HTML object>"
      ]
     },
     "metadata": {},
     "output_type": "display_data"
    },
    {
     "data": {
      "text/html": [
       "Indice 0.62 → <a href='https://www.automobile.it/certaldo-opel-corsa-1-2-100-cv-gs-line/180924567' target='_blank'>https://www.automobile.it/certaldo-opel-corsa-1-2-100-cv-gs-line/180924567</a>"
      ],
      "text/plain": [
       "<IPython.core.display.HTML object>"
      ]
     },
     "metadata": {},
     "output_type": "display_data"
    },
    {
     "data": {
      "text/html": [
       "Indice 0.62 → <a href='https://www.automobile.it/pistoia-opel-corsa-gs-1-2-km-0/179973632' target='_blank'>https://www.automobile.it/pistoia-opel-corsa-gs-1-2-km-0/179973632</a>"
      ],
      "text/plain": [
       "<IPython.core.display.HTML object>"
      ]
     },
     "metadata": {},
     "output_type": "display_data"
    },
    {
     "data": {
      "text/html": [
       "Indice 0.62 → <a href='https://autosupermarket.it/annunci/opel-corsa-1-2-100-cv-benzina-2021-a229dbb0e240ef4f?search=https://autosupermarket.it/ricerca/opel/corsa/anno-da-2020?anno-a%3D2025%26t%3Dd3baim%26page%3D26' target='_blank'>https://autosupermarket.it/annunci/opel-corsa-1-2-100-cv-benzina-2021-a229dbb0e240ef4f?search=https://autosupermarket.it/ricerca/opel/corsa/anno-da-2020?anno-a%3D2025%26t%3Dd3baim%26page%3D26</a>"
      ],
      "text/plain": [
       "<IPython.core.display.HTML object>"
      ]
     },
     "metadata": {},
     "output_type": "display_data"
    },
    {
     "data": {
      "text/html": [
       "Indice 0.62 → <a href='https://www.subito.it/auto/opel-corsa-gs-1-2-km-0-prato-606809239.htm' target='_blank'>https://www.subito.it/auto/opel-corsa-gs-1-2-km-0-prato-606809239.htm</a>"
      ],
      "text/plain": [
       "<IPython.core.display.HTML object>"
      ]
     },
     "metadata": {},
     "output_type": "display_data"
    },
    {
     "data": {
      "text/html": [
       "Indice 0.61 → <a href='https://www.automobile.it/pieve-nievole-opel-corsa-1-5-diesel-100-cv-gs-line/178985580' target='_blank'>https://www.automobile.it/pieve-nievole-opel-corsa-1-5-diesel-100-cv-gs-line/178985580</a>"
      ],
      "text/plain": [
       "<IPython.core.display.HTML object>"
      ]
     },
     "metadata": {},
     "output_type": "display_data"
    },
    {
     "data": {
      "text/html": [
       "Indice 0.61 → <a href='https://www.automobile.it/bologna-opel-corsa-1-2-100-cv-gs-line/180935066' target='_blank'>https://www.automobile.it/bologna-opel-corsa-1-2-100-cv-gs-line/180935066</a>"
      ],
      "text/plain": [
       "<IPython.core.display.HTML object>"
      ]
     },
     "metadata": {},
     "output_type": "display_data"
    },
    {
     "data": {
      "text/html": [
       "Indice 0.61 → <a href='https://autosupermarket.it/annunci/opel-corsa-1-5-diesel-fuel-2020-6c5688fdfac51c50?search=https://autosupermarket.it/ricerca/opel/corsa/anno-da-2020?anno-a%3D2025%26t%3D505aim%26page%3D3' target='_blank'>https://autosupermarket.it/annunci/opel-corsa-1-5-diesel-fuel-2020-6c5688fdfac51c50?search=https://autosupermarket.it/ricerca/opel/corsa/anno-da-2020?anno-a%3D2025%26t%3D505aim%26page%3D3</a>"
      ],
      "text/plain": [
       "<IPython.core.display.HTML object>"
      ]
     },
     "metadata": {},
     "output_type": "display_data"
    },
    {
     "data": {
      "text/html": [
       "Indice 0.60 → <a href='https://www.automobile.it/collesalvetti-opel-corsa-1-2-100-cv-gs-line/180919717' target='_blank'>https://www.automobile.it/collesalvetti-opel-corsa-1-2-100-cv-gs-line/180919717</a>"
      ],
      "text/plain": [
       "<IPython.core.display.HTML object>"
      ]
     },
     "metadata": {},
     "output_type": "display_data"
    },
    {
     "data": {
      "text/html": [
       "Indice 0.60 → <a href='https://www.automobile.it/verona-opel-corsa-1-2-100-cv-gs-line/180934720' target='_blank'>https://www.automobile.it/verona-opel-corsa-1-2-100-cv-gs-line/180934720</a>"
      ],
      "text/plain": [
       "<IPython.core.display.HTML object>"
      ]
     },
     "metadata": {},
     "output_type": "display_data"
    },
    {
     "data": {
      "text/html": [
       "Indice 0.59 → <a href='https://www.automobile.it/san-giorgio-bosco-opel-corsa-1-2-100cv-edition-at8/180884712' target='_blank'>https://www.automobile.it/san-giorgio-bosco-opel-corsa-1-2-100cv-edition-at8/180884712</a>"
      ],
      "text/plain": [
       "<IPython.core.display.HTML object>"
      ]
     },
     "metadata": {},
     "output_type": "display_data"
    },
    {
     "data": {
      "text/html": [
       "Indice 0.59 → <a href='https://autosupermarket.it/annunci/opel-corsa-1-7-diesel-elettrica-2021-8c9e8406a6222f53?search=https://autosupermarket.it/ricerca/opel/corsa/anno-da-2020?anno-a%3D2025%26t%3D76a7im%26page%3D31' target='_blank'>https://autosupermarket.it/annunci/opel-corsa-1-7-diesel-elettrica-2021-8c9e8406a6222f53?search=https://autosupermarket.it/ricerca/opel/corsa/anno-da-2020?anno-a%3D2025%26t%3D76a7im%26page%3D31</a>"
      ],
      "text/plain": [
       "<IPython.core.display.HTML object>"
      ]
     },
     "metadata": {},
     "output_type": "display_data"
    },
    {
     "data": {
      "text/html": [
       "Indice 0.57 → <a href='https://www.autoscout24.it/annunci/opel-corsa-corsa-vi-2020-1-2-gs-line-s-benzina-nero-a4c19575-e338-4e39-b7b7-ee15dd9e7801' target='_blank'>https://www.autoscout24.it/annunci/opel-corsa-corsa-vi-2020-1-2-gs-line-s-benzina-nero-a4c19575-e338-4e39-b7b7-ee15dd9e7801</a>"
      ],
      "text/plain": [
       "<IPython.core.display.HTML object>"
      ]
     },
     "metadata": {},
     "output_type": "display_data"
    },
    {
     "data": {
      "text/html": [
       "Indice 0.57 → <a href='https://www.autoscout24.it/annunci/opel-corsa-1-2-100-cv-gs-line-benzina-bianco-71e9f311-36f6-4512-af26-6c1bfcb3ee59' target='_blank'>https://www.autoscout24.it/annunci/opel-corsa-1-2-100-cv-gs-line-benzina-bianco-71e9f311-36f6-4512-af26-6c1bfcb3ee59</a>"
      ],
      "text/plain": [
       "<IPython.core.display.HTML object>"
      ]
     },
     "metadata": {},
     "output_type": "display_data"
    },
    {
     "data": {
      "text/html": [
       "Indice 0.57 → <a href='https://www.subito.it/auto/opel-corsa-1-2-100-cv-gs-line-bologna-602800558.htm' target='_blank'>https://www.subito.it/auto/opel-corsa-1-2-100-cv-gs-line-bologna-602800558.htm</a>"
      ],
      "text/plain": [
       "<IPython.core.display.HTML object>"
      ]
     },
     "metadata": {},
     "output_type": "display_data"
    },
    {
     "data": {
      "text/html": [
       "Indice 0.56 → <a href='https://www.subito.it/auto/opel-corsa-1-2-100-cv-gs-line-unica-proprietaria-rovigo-606421119.htm' target='_blank'>https://www.subito.it/auto/opel-corsa-1-2-100-cv-gs-line-unica-proprietaria-rovigo-606421119.htm</a>"
      ],
      "text/plain": [
       "<IPython.core.display.HTML object>"
      ]
     },
     "metadata": {},
     "output_type": "display_data"
    },
    {
     "name": "stdout",
     "output_type": "stream",
     "text": [
      "\n"
     ]
    },
    {
     "data": {
      "text/html": [
       "<div>\n",
       "<style scoped>\n",
       "    .dataframe tbody tr th:only-of-type {\n",
       "        vertical-align: middle;\n",
       "    }\n",
       "\n",
       "    .dataframe tbody tr th {\n",
       "        vertical-align: top;\n",
       "    }\n",
       "\n",
       "    .dataframe thead th {\n",
       "        text-align: right;\n",
       "    }\n",
       "</style>\n",
       "<table border=\"1\" class=\"dataframe\">\n",
       "  <thead>\n",
       "    <tr style=\"text-align: right;\">\n",
       "      <th></th>\n",
       "      <th>Annuncio</th>\n",
       "      <th>Link</th>\n",
       "      <th>Prezzo</th>\n",
       "      <th>Anni</th>\n",
       "      <th>Immatricolazione</th>\n",
       "      <th>Chilometraggio</th>\n",
       "      <th>Cambio</th>\n",
       "      <th>Carburante</th>\n",
       "      <th>CV</th>\n",
       "      <th>Allestimento</th>\n",
       "      <th>...</th>\n",
       "      <th>Venditore</th>\n",
       "      <th>Distanza</th>\n",
       "      <th>Comune</th>\n",
       "      <th>CAP</th>\n",
       "      <th>Regione</th>\n",
       "      <th>Area</th>\n",
       "      <th>Indice_Appetibilità</th>\n",
       "      <th>prezzo_previsto</th>\n",
       "      <th>delta_prezzo</th>\n",
       "      <th>is_conveniente</th>\n",
       "    </tr>\n",
       "  </thead>\n",
       "  <tbody>\n",
       "    <tr>\n",
       "      <th>242</th>\n",
       "      <td>Opel Corsa Corsa VI 2020 e- GS Line</td>\n",
       "      <td>https://www.autoscout24.it/annunci/opel-corsa-...</td>\n",
       "      <td>11500</td>\n",
       "      <td>5</td>\n",
       "      <td>2020</td>\n",
       "      <td>58500</td>\n",
       "      <td>automatico</td>\n",
       "      <td>Benzina</td>\n",
       "      <td>102</td>\n",
       "      <td>GS</td>\n",
       "      <td>...</td>\n",
       "      <td>Privato</td>\n",
       "      <td>116</td>\n",
       "      <td>borgoricco</td>\n",
       "      <td>35010</td>\n",
       "      <td>Veneto</td>\n",
       "      <td>Nord-est</td>\n",
       "      <td>0.76</td>\n",
       "      <td>12320.50</td>\n",
       "      <td>820.50</td>\n",
       "      <td>1</td>\n",
       "    </tr>\n",
       "    <tr>\n",
       "      <th>223</th>\n",
       "      <td>Opel Corsa GS 6ª serie GS 1.2 *KM 0*</td>\n",
       "      <td>https://www.autoscout24.it/annunci/opel-corsa-...</td>\n",
       "      <td>11980</td>\n",
       "      <td>0</td>\n",
       "      <td>2025</td>\n",
       "      <td>12</td>\n",
       "      <td>manuale</td>\n",
       "      <td>Benzina</td>\n",
       "      <td>102</td>\n",
       "      <td>GS</td>\n",
       "      <td>...</td>\n",
       "      <td>Rivenditore</td>\n",
       "      <td>83</td>\n",
       "      <td>pistoia</td>\n",
       "      <td>51100</td>\n",
       "      <td>Toscana</td>\n",
       "      <td>Centro</td>\n",
       "      <td>0.63</td>\n",
       "      <td>12406.59</td>\n",
       "      <td>426.59</td>\n",
       "      <td>1</td>\n",
       "    </tr>\n",
       "    <tr>\n",
       "      <th>390</th>\n",
       "      <td>Opel Corsa GS 6ª serie GS 1.2 *KM 0*</td>\n",
       "      <td>https://www.autoscout24.it/annunci/opel-corsa-...</td>\n",
       "      <td>11980</td>\n",
       "      <td>0</td>\n",
       "      <td>2025</td>\n",
       "      <td>12</td>\n",
       "      <td>manuale</td>\n",
       "      <td>Benzina</td>\n",
       "      <td>102</td>\n",
       "      <td>GS</td>\n",
       "      <td>...</td>\n",
       "      <td>Rivenditore</td>\n",
       "      <td>82</td>\n",
       "      <td>montemurlo</td>\n",
       "      <td>59013</td>\n",
       "      <td>Toscana</td>\n",
       "      <td>Centro</td>\n",
       "      <td>0.63</td>\n",
       "      <td>12406.59</td>\n",
       "      <td>426.59</td>\n",
       "      <td>1</td>\n",
       "    </tr>\n",
       "    <tr>\n",
       "      <th>1859</th>\n",
       "      <td>OPEL Corsa 1.2 100 CV GS Line +</td>\n",
       "      <td>https://www.automobile.it/castenaso-opel-corsa...</td>\n",
       "      <td>9990</td>\n",
       "      <td>4</td>\n",
       "      <td>2021</td>\n",
       "      <td>76</td>\n",
       "      <td>manuale</td>\n",
       "      <td>Benzina</td>\n",
       "      <td>100</td>\n",
       "      <td>GS</td>\n",
       "      <td>...</td>\n",
       "      <td>Rivenditore</td>\n",
       "      <td>31</td>\n",
       "      <td>castenaso</td>\n",
       "      <td>40055</td>\n",
       "      <td>Emilia-Romagna</td>\n",
       "      <td>Nord-est</td>\n",
       "      <td>0.63</td>\n",
       "      <td>11249.64</td>\n",
       "      <td>1259.64</td>\n",
       "      <td>1</td>\n",
       "    </tr>\n",
       "    <tr>\n",
       "      <th>3444</th>\n",
       "      <td>Opel Corsa 1.2 100 CV GS Line +</td>\n",
       "      <td>https://autosupermarket.it/annunci/opel-corsa-...</td>\n",
       "      <td>9990</td>\n",
       "      <td>4</td>\n",
       "      <td>2021</td>\n",
       "      <td>76</td>\n",
       "      <td>manuale</td>\n",
       "      <td>Benzina</td>\n",
       "      <td>101</td>\n",
       "      <td>GS</td>\n",
       "      <td>...</td>\n",
       "      <td>Rivenditore</td>\n",
       "      <td>31</td>\n",
       "      <td>castenaso</td>\n",
       "      <td>40055</td>\n",
       "      <td>Emilia-Romagna</td>\n",
       "      <td>Nord-est</td>\n",
       "      <td>0.63</td>\n",
       "      <td>10961.46</td>\n",
       "      <td>971.46</td>\n",
       "      <td>1</td>\n",
       "    </tr>\n",
       "    <tr>\n",
       "      <th>1855</th>\n",
       "      <td>Opel Corsa 1.2 100 CV GS Line</td>\n",
       "      <td>https://www.automobile.it/certaldo-opel-corsa-...</td>\n",
       "      <td>9900</td>\n",
       "      <td>4</td>\n",
       "      <td>2021</td>\n",
       "      <td>68</td>\n",
       "      <td>manuale</td>\n",
       "      <td>Benzina</td>\n",
       "      <td>100</td>\n",
       "      <td>GS</td>\n",
       "      <td>...</td>\n",
       "      <td>Rivenditore</td>\n",
       "      <td>124</td>\n",
       "      <td>certaldo</td>\n",
       "      <td>50052</td>\n",
       "      <td>Toscana</td>\n",
       "      <td>Centro</td>\n",
       "      <td>0.62</td>\n",
       "      <td>10656.20</td>\n",
       "      <td>756.20</td>\n",
       "      <td>1</td>\n",
       "    </tr>\n",
       "    <tr>\n",
       "      <th>2108</th>\n",
       "      <td>Opel Corsa GS 1.2 *KM 0*</td>\n",
       "      <td>https://www.automobile.it/pistoia-opel-corsa-g...</td>\n",
       "      <td>11980</td>\n",
       "      <td>0</td>\n",
       "      <td>2025</td>\n",
       "      <td>12</td>\n",
       "      <td>manuale</td>\n",
       "      <td>Benzina</td>\n",
       "      <td>75</td>\n",
       "      <td>GS</td>\n",
       "      <td>...</td>\n",
       "      <td>Rivenditore</td>\n",
       "      <td>83</td>\n",
       "      <td>pistoia</td>\n",
       "      <td>51100</td>\n",
       "      <td>Toscana</td>\n",
       "      <td>Centro</td>\n",
       "      <td>0.62</td>\n",
       "      <td>13034.65</td>\n",
       "      <td>1054.65</td>\n",
       "      <td>1</td>\n",
       "    </tr>\n",
       "    <tr>\n",
       "      <th>3402</th>\n",
       "      <td>Opel Corsa 1.2 100 CV GS Line</td>\n",
       "      <td>https://autosupermarket.it/annunci/opel-corsa-...</td>\n",
       "      <td>11500</td>\n",
       "      <td>4</td>\n",
       "      <td>2021</td>\n",
       "      <td>82</td>\n",
       "      <td>manuale</td>\n",
       "      <td>Benzina</td>\n",
       "      <td>101</td>\n",
       "      <td>GS</td>\n",
       "      <td>...</td>\n",
       "      <td>Rivenditore</td>\n",
       "      <td>20</td>\n",
       "      <td>castel maggiore</td>\n",
       "      <td>40013</td>\n",
       "      <td>Emilia-Romagna</td>\n",
       "      <td>Nord-est</td>\n",
       "      <td>0.62</td>\n",
       "      <td>11422.02</td>\n",
       "      <td>-77.98</td>\n",
       "      <td>0</td>\n",
       "    </tr>\n",
       "    <tr>\n",
       "      <th>4019</th>\n",
       "      <td>Opel Corsa Gs 1.2 Km 0</td>\n",
       "      <td>https://www.subito.it/auto/opel-corsa-gs-1-2-k...</td>\n",
       "      <td>11980</td>\n",
       "      <td>0</td>\n",
       "      <td>2025</td>\n",
       "      <td>12</td>\n",
       "      <td>manuale</td>\n",
       "      <td>Benzina</td>\n",
       "      <td>75</td>\n",
       "      <td>GS</td>\n",
       "      <td>...</td>\n",
       "      <td>Privato</td>\n",
       "      <td>82</td>\n",
       "      <td>montemurlo</td>\n",
       "      <td>59013</td>\n",
       "      <td>Toscana</td>\n",
       "      <td>Centro</td>\n",
       "      <td>0.62</td>\n",
       "      <td>13034.65</td>\n",
       "      <td>1054.65</td>\n",
       "      <td>1</td>\n",
       "    </tr>\n",
       "    <tr>\n",
       "      <th>2022</th>\n",
       "      <td>Opel Corsa 1.5 diesel 100 CV GS Line</td>\n",
       "      <td>https://www.automobile.it/pieve-nievole-opel-c...</td>\n",
       "      <td>11500</td>\n",
       "      <td>5</td>\n",
       "      <td>2020</td>\n",
       "      <td>130</td>\n",
       "      <td>manuale</td>\n",
       "      <td>Diesel</td>\n",
       "      <td>100</td>\n",
       "      <td>GS</td>\n",
       "      <td>...</td>\n",
       "      <td>Rivenditore</td>\n",
       "      <td>91</td>\n",
       "      <td>pieve a nievole</td>\n",
       "      <td>51018</td>\n",
       "      <td>Toscana</td>\n",
       "      <td>Centro</td>\n",
       "      <td>0.61</td>\n",
       "      <td>11478.56</td>\n",
       "      <td>-21.44</td>\n",
       "      <td>0</td>\n",
       "    </tr>\n",
       "    <tr>\n",
       "      <th>2125</th>\n",
       "      <td>OPEL Corsa 1.2 100 CV GS Line</td>\n",
       "      <td>https://www.automobile.it/bologna-opel-corsa-1...</td>\n",
       "      <td>11999</td>\n",
       "      <td>5</td>\n",
       "      <td>2020</td>\n",
       "      <td>85</td>\n",
       "      <td>manuale</td>\n",
       "      <td>Benzina</td>\n",
       "      <td>100</td>\n",
       "      <td>GS</td>\n",
       "      <td>...</td>\n",
       "      <td>Rivenditore</td>\n",
       "      <td>25</td>\n",
       "      <td>bologna</td>\n",
       "      <td>40121</td>\n",
       "      <td>Emilia-Romagna</td>\n",
       "      <td>Nord-est</td>\n",
       "      <td>0.61</td>\n",
       "      <td>11979.00</td>\n",
       "      <td>-20.00</td>\n",
       "      <td>0</td>\n",
       "    </tr>\n",
       "    <tr>\n",
       "      <th>2995</th>\n",
       "      <td>Opel Corsa 100 CV GS Line</td>\n",
       "      <td>https://autosupermarket.it/annunci/opel-corsa-...</td>\n",
       "      <td>11500</td>\n",
       "      <td>5</td>\n",
       "      <td>2020</td>\n",
       "      <td>130</td>\n",
       "      <td>manuale</td>\n",
       "      <td>Diesel</td>\n",
       "      <td>102</td>\n",
       "      <td>GS</td>\n",
       "      <td>...</td>\n",
       "      <td>Rivenditore</td>\n",
       "      <td>91</td>\n",
       "      <td>pieve a nievole</td>\n",
       "      <td>51018</td>\n",
       "      <td>Toscana</td>\n",
       "      <td>Centro</td>\n",
       "      <td>0.61</td>\n",
       "      <td>11896.50</td>\n",
       "      <td>396.50</td>\n",
       "      <td>1</td>\n",
       "    </tr>\n",
       "    <tr>\n",
       "      <th>2124</th>\n",
       "      <td>OPEL Corsa 1.2 100 CV GS Line</td>\n",
       "      <td>https://www.automobile.it/collesalvetti-opel-c...</td>\n",
       "      <td>11999</td>\n",
       "      <td>5</td>\n",
       "      <td>2020</td>\n",
       "      <td>85</td>\n",
       "      <td>manuale</td>\n",
       "      <td>Benzina</td>\n",
       "      <td>100</td>\n",
       "      <td>GS</td>\n",
       "      <td>...</td>\n",
       "      <td>Rivenditore</td>\n",
       "      <td>130</td>\n",
       "      <td>collesalvetti</td>\n",
       "      <td>57014</td>\n",
       "      <td>Toscana</td>\n",
       "      <td>Centro</td>\n",
       "      <td>0.60</td>\n",
       "      <td>12003.93</td>\n",
       "      <td>4.93</td>\n",
       "      <td>0</td>\n",
       "    </tr>\n",
       "    <tr>\n",
       "      <th>2130</th>\n",
       "      <td>OPEL Corsa 1.2 100 CV GS Line</td>\n",
       "      <td>https://www.automobile.it/verona-opel-corsa-1-...</td>\n",
       "      <td>11999</td>\n",
       "      <td>5</td>\n",
       "      <td>2020</td>\n",
       "      <td>85</td>\n",
       "      <td>manuale</td>\n",
       "      <td>Benzina</td>\n",
       "      <td>100</td>\n",
       "      <td>GS</td>\n",
       "      <td>...</td>\n",
       "      <td>Rivenditore</td>\n",
       "      <td>86</td>\n",
       "      <td>verona</td>\n",
       "      <td>37121</td>\n",
       "      <td>Veneto</td>\n",
       "      <td>Nord-est</td>\n",
       "      <td>0.60</td>\n",
       "      <td>11979.00</td>\n",
       "      <td>-20.00</td>\n",
       "      <td>0</td>\n",
       "    </tr>\n",
       "    <tr>\n",
       "      <th>2007</th>\n",
       "      <td>Opel Corsa 1.2 100CV Edition AT8</td>\n",
       "      <td>https://www.automobile.it/san-giorgio-bosco-op...</td>\n",
       "      <td>11486</td>\n",
       "      <td>3</td>\n",
       "      <td>2022</td>\n",
       "      <td>26</td>\n",
       "      <td>automatico</td>\n",
       "      <td>Benzina</td>\n",
       "      <td>100</td>\n",
       "      <td>Edition</td>\n",
       "      <td>...</td>\n",
       "      <td>Rivenditore</td>\n",
       "      <td>115</td>\n",
       "      <td>san giorgio bosco</td>\n",
       "      <td>35010</td>\n",
       "      <td>Veneto</td>\n",
       "      <td>Nord-est</td>\n",
       "      <td>0.59</td>\n",
       "      <td>12452.83</td>\n",
       "      <td>966.83</td>\n",
       "      <td>1</td>\n",
       "    </tr>\n",
       "    <tr>\n",
       "      <th>3497</th>\n",
       "      <td>Opel Corsa VI 2020 - e- Edition</td>\n",
       "      <td>https://autosupermarket.it/annunci/opel-corsa-...</td>\n",
       "      <td>9900</td>\n",
       "      <td>4</td>\n",
       "      <td>2021</td>\n",
       "      <td>60</td>\n",
       "      <td>automatico</td>\n",
       "      <td>Benzina</td>\n",
       "      <td>78</td>\n",
       "      <td>Edition</td>\n",
       "      <td>...</td>\n",
       "      <td>Rivenditore</td>\n",
       "      <td>25</td>\n",
       "      <td>bologna</td>\n",
       "      <td>40131</td>\n",
       "      <td>Emilia-Romagna</td>\n",
       "      <td>Nord-est</td>\n",
       "      <td>0.59</td>\n",
       "      <td>10910.80</td>\n",
       "      <td>1010.80</td>\n",
       "      <td>1</td>\n",
       "    </tr>\n",
       "    <tr>\n",
       "      <th>44</th>\n",
       "      <td>Opel Corsa Corsa VI 2020 1.2 GS Line s</td>\n",
       "      <td>https://www.autoscout24.it/annunci/opel-corsa-...</td>\n",
       "      <td>10000</td>\n",
       "      <td>5</td>\n",
       "      <td>2020</td>\n",
       "      <td>65000</td>\n",
       "      <td>manuale</td>\n",
       "      <td>Benzina</td>\n",
       "      <td>102</td>\n",
       "      <td>GS</td>\n",
       "      <td>...</td>\n",
       "      <td>Rivenditore</td>\n",
       "      <td>23</td>\n",
       "      <td>carpi</td>\n",
       "      <td>41012</td>\n",
       "      <td>Emilia-Romagna</td>\n",
       "      <td>Nord-est</td>\n",
       "      <td>0.57</td>\n",
       "      <td>10919.13</td>\n",
       "      <td>919.13</td>\n",
       "      <td>1</td>\n",
       "    </tr>\n",
       "    <tr>\n",
       "      <th>66</th>\n",
       "      <td>Opel Corsa 1.2 100 CV GS Line +</td>\n",
       "      <td>https://www.autoscout24.it/annunci/opel-corsa-...</td>\n",
       "      <td>9990</td>\n",
       "      <td>4</td>\n",
       "      <td>2021</td>\n",
       "      <td>76961</td>\n",
       "      <td>manuale</td>\n",
       "      <td>Benzina</td>\n",
       "      <td>102</td>\n",
       "      <td>GS</td>\n",
       "      <td>...</td>\n",
       "      <td>Rivenditore</td>\n",
       "      <td>31</td>\n",
       "      <td>castenaso</td>\n",
       "      <td>40055</td>\n",
       "      <td>Emilia-Romagna</td>\n",
       "      <td>Nord-est</td>\n",
       "      <td>0.57</td>\n",
       "      <td>10373.00</td>\n",
       "      <td>383.00</td>\n",
       "      <td>1</td>\n",
       "    </tr>\n",
       "    <tr>\n",
       "      <th>4646</th>\n",
       "      <td>Opel Corsa 1.2 100 CV Gs Line</td>\n",
       "      <td>https://www.subito.it/auto/opel-corsa-1-2-100-...</td>\n",
       "      <td>9990</td>\n",
       "      <td>4</td>\n",
       "      <td>2021</td>\n",
       "      <td>76961</td>\n",
       "      <td>manuale</td>\n",
       "      <td>Benzina</td>\n",
       "      <td>100</td>\n",
       "      <td>GS</td>\n",
       "      <td>...</td>\n",
       "      <td>Privato</td>\n",
       "      <td>31</td>\n",
       "      <td>castenaso</td>\n",
       "      <td>40055</td>\n",
       "      <td>Emilia-Romagna</td>\n",
       "      <td>Nord-est</td>\n",
       "      <td>0.57</td>\n",
       "      <td>10238.70</td>\n",
       "      <td>248.70</td>\n",
       "      <td>1</td>\n",
       "    </tr>\n",
       "    <tr>\n",
       "      <th>4558</th>\n",
       "      <td>Opel Corsa 1.2 100 CV Gs Line Unica Proprietaria</td>\n",
       "      <td>https://www.subito.it/auto/opel-corsa-1-2-100-...</td>\n",
       "      <td>10900</td>\n",
       "      <td>5</td>\n",
       "      <td>2020</td>\n",
       "      <td>78000</td>\n",
       "      <td>manuale</td>\n",
       "      <td>Benzina</td>\n",
       "      <td>100</td>\n",
       "      <td>GS</td>\n",
       "      <td>...</td>\n",
       "      <td>Privato</td>\n",
       "      <td>59</td>\n",
       "      <td>lendinara</td>\n",
       "      <td>45026</td>\n",
       "      <td>Veneto</td>\n",
       "      <td>Nord-est</td>\n",
       "      <td>0.56</td>\n",
       "      <td>10975.90</td>\n",
       "      <td>75.90</td>\n",
       "      <td>0</td>\n",
       "    </tr>\n",
       "  </tbody>\n",
       "</table>\n",
       "<p>20 rows × 22 columns</p>\n",
       "</div>"
      ],
      "text/plain": [
       "                                              Annuncio  \\\n",
       "242                Opel Corsa Corsa VI 2020 e- GS Line   \n",
       "223               Opel Corsa GS 6ª serie GS 1.2 *KM 0*   \n",
       "390               Opel Corsa GS 6ª serie GS 1.2 *KM 0*   \n",
       "1859                   OPEL Corsa 1.2 100 CV GS Line +   \n",
       "3444                   Opel Corsa 1.2 100 CV GS Line +   \n",
       "1855                     Opel Corsa 1.2 100 CV GS Line   \n",
       "2108                          Opel Corsa GS 1.2 *KM 0*   \n",
       "3402                     Opel Corsa 1.2 100 CV GS Line   \n",
       "4019                            Opel Corsa Gs 1.2 Km 0   \n",
       "2022              Opel Corsa 1.5 diesel 100 CV GS Line   \n",
       "2125                     OPEL Corsa 1.2 100 CV GS Line   \n",
       "2995                         Opel Corsa 100 CV GS Line   \n",
       "2124                     OPEL Corsa 1.2 100 CV GS Line   \n",
       "2130                     OPEL Corsa 1.2 100 CV GS Line   \n",
       "2007                  Opel Corsa 1.2 100CV Edition AT8   \n",
       "3497                   Opel Corsa VI 2020 - e- Edition   \n",
       "44              Opel Corsa Corsa VI 2020 1.2 GS Line s   \n",
       "66                     Opel Corsa 1.2 100 CV GS Line +   \n",
       "4646                     Opel Corsa 1.2 100 CV Gs Line   \n",
       "4558  Opel Corsa 1.2 100 CV Gs Line Unica Proprietaria   \n",
       "\n",
       "                                                   Link  Prezzo  Anni  \\\n",
       "242   https://www.autoscout24.it/annunci/opel-corsa-...   11500     5   \n",
       "223   https://www.autoscout24.it/annunci/opel-corsa-...   11980     0   \n",
       "390   https://www.autoscout24.it/annunci/opel-corsa-...   11980     0   \n",
       "1859  https://www.automobile.it/castenaso-opel-corsa...    9990     4   \n",
       "3444  https://autosupermarket.it/annunci/opel-corsa-...    9990     4   \n",
       "1855  https://www.automobile.it/certaldo-opel-corsa-...    9900     4   \n",
       "2108  https://www.automobile.it/pistoia-opel-corsa-g...   11980     0   \n",
       "3402  https://autosupermarket.it/annunci/opel-corsa-...   11500     4   \n",
       "4019  https://www.subito.it/auto/opel-corsa-gs-1-2-k...   11980     0   \n",
       "2022  https://www.automobile.it/pieve-nievole-opel-c...   11500     5   \n",
       "2125  https://www.automobile.it/bologna-opel-corsa-1...   11999     5   \n",
       "2995  https://autosupermarket.it/annunci/opel-corsa-...   11500     5   \n",
       "2124  https://www.automobile.it/collesalvetti-opel-c...   11999     5   \n",
       "2130  https://www.automobile.it/verona-opel-corsa-1-...   11999     5   \n",
       "2007  https://www.automobile.it/san-giorgio-bosco-op...   11486     3   \n",
       "3497  https://autosupermarket.it/annunci/opel-corsa-...    9900     4   \n",
       "44    https://www.autoscout24.it/annunci/opel-corsa-...   10000     5   \n",
       "66    https://www.autoscout24.it/annunci/opel-corsa-...    9990     4   \n",
       "4646  https://www.subito.it/auto/opel-corsa-1-2-100-...    9990     4   \n",
       "4558  https://www.subito.it/auto/opel-corsa-1-2-100-...   10900     5   \n",
       "\n",
       "      Immatricolazione  Chilometraggio      Cambio Carburante   CV  \\\n",
       "242               2020           58500  automatico    Benzina  102   \n",
       "223               2025              12     manuale    Benzina  102   \n",
       "390               2025              12     manuale    Benzina  102   \n",
       "1859              2021              76     manuale    Benzina  100   \n",
       "3444              2021              76     manuale    Benzina  101   \n",
       "1855              2021              68     manuale    Benzina  100   \n",
       "2108              2025              12     manuale    Benzina   75   \n",
       "3402              2021              82     manuale    Benzina  101   \n",
       "4019              2025              12     manuale    Benzina   75   \n",
       "2022              2020             130     manuale     Diesel  100   \n",
       "2125              2020              85     manuale    Benzina  100   \n",
       "2995              2020             130     manuale     Diesel  102   \n",
       "2124              2020              85     manuale    Benzina  100   \n",
       "2130              2020              85     manuale    Benzina  100   \n",
       "2007              2022              26  automatico    Benzina  100   \n",
       "3497              2021              60  automatico    Benzina   78   \n",
       "44                2020           65000     manuale    Benzina  102   \n",
       "66                2021           76961     manuale    Benzina  102   \n",
       "4646              2021           76961     manuale    Benzina  100   \n",
       "4558              2020           78000     manuale    Benzina  100   \n",
       "\n",
       "     Allestimento  ...    Venditore Distanza             Comune    CAP  \\\n",
       "242            GS  ...      Privato      116         borgoricco  35010   \n",
       "223            GS  ...  Rivenditore       83            pistoia  51100   \n",
       "390            GS  ...  Rivenditore       82         montemurlo  59013   \n",
       "1859           GS  ...  Rivenditore       31          castenaso  40055   \n",
       "3444           GS  ...  Rivenditore       31          castenaso  40055   \n",
       "1855           GS  ...  Rivenditore      124           certaldo  50052   \n",
       "2108           GS  ...  Rivenditore       83            pistoia  51100   \n",
       "3402           GS  ...  Rivenditore       20    castel maggiore  40013   \n",
       "4019           GS  ...      Privato       82         montemurlo  59013   \n",
       "2022           GS  ...  Rivenditore       91    pieve a nievole  51018   \n",
       "2125           GS  ...  Rivenditore       25            bologna  40121   \n",
       "2995           GS  ...  Rivenditore       91    pieve a nievole  51018   \n",
       "2124           GS  ...  Rivenditore      130      collesalvetti  57014   \n",
       "2130           GS  ...  Rivenditore       86             verona  37121   \n",
       "2007      Edition  ...  Rivenditore      115  san giorgio bosco  35010   \n",
       "3497      Edition  ...  Rivenditore       25            bologna  40131   \n",
       "44             GS  ...  Rivenditore       23              carpi  41012   \n",
       "66             GS  ...  Rivenditore       31          castenaso  40055   \n",
       "4646           GS  ...      Privato       31          castenaso  40055   \n",
       "4558           GS  ...      Privato       59          lendinara  45026   \n",
       "\n",
       "             Regione      Area Indice_Appetibilità prezzo_previsto  \\\n",
       "242           Veneto  Nord-est                0.76        12320.50   \n",
       "223          Toscana    Centro                0.63        12406.59   \n",
       "390          Toscana    Centro                0.63        12406.59   \n",
       "1859  Emilia-Romagna  Nord-est                0.63        11249.64   \n",
       "3444  Emilia-Romagna  Nord-est                0.63        10961.46   \n",
       "1855         Toscana    Centro                0.62        10656.20   \n",
       "2108         Toscana    Centro                0.62        13034.65   \n",
       "3402  Emilia-Romagna  Nord-est                0.62        11422.02   \n",
       "4019         Toscana    Centro                0.62        13034.65   \n",
       "2022         Toscana    Centro                0.61        11478.56   \n",
       "2125  Emilia-Romagna  Nord-est                0.61        11979.00   \n",
       "2995         Toscana    Centro                0.61        11896.50   \n",
       "2124         Toscana    Centro                0.60        12003.93   \n",
       "2130          Veneto  Nord-est                0.60        11979.00   \n",
       "2007          Veneto  Nord-est                0.59        12452.83   \n",
       "3497  Emilia-Romagna  Nord-est                0.59        10910.80   \n",
       "44    Emilia-Romagna  Nord-est                0.57        10919.13   \n",
       "66    Emilia-Romagna  Nord-est                0.57        10373.00   \n",
       "4646  Emilia-Romagna  Nord-est                0.57        10238.70   \n",
       "4558          Veneto  Nord-est                0.56        10975.90   \n",
       "\n",
       "      delta_prezzo  is_conveniente  \n",
       "242         820.50               1  \n",
       "223         426.59               1  \n",
       "390         426.59               1  \n",
       "1859       1259.64               1  \n",
       "3444        971.46               1  \n",
       "1855        756.20               1  \n",
       "2108       1054.65               1  \n",
       "3402        -77.98               0  \n",
       "4019       1054.65               1  \n",
       "2022        -21.44               0  \n",
       "2125        -20.00               0  \n",
       "2995        396.50               1  \n",
       "2124          4.93               0  \n",
       "2130        -20.00               0  \n",
       "2007        966.83               1  \n",
       "3497       1010.80               1  \n",
       "44          919.13               1  \n",
       "66          383.00               1  \n",
       "4646        248.70               1  \n",
       "4558         75.90               0  \n",
       "\n",
       "[20 rows x 22 columns]"
      ]
     },
     "metadata": {},
     "output_type": "display_data"
    }
   ],
   "source": [
    "prezzo_max = 12000\n",
    "prezzo_min = 7000\n",
    "km_max =90000\n",
    "km_min = 0\n",
    "dist_max = 150\n",
    "dispaly = 20\n",
    "\n",
    "display_top_auto(df, dispaly, prezzo_max, prezzo_min, km_max, km_min, dist_max, carburante=None)\n"
   ]
  }
 ],
 "metadata": {
  "kernelspec": {
   "display_name": "Python 3",
   "language": "python",
   "name": "python3"
  },
  "language_info": {
   "codemirror_mode": {
    "name": "ipython",
    "version": 3
   },
   "file_extension": ".py",
   "mimetype": "text/x-python",
   "name": "python",
   "nbconvert_exporter": "python",
   "pygments_lexer": "ipython3",
   "version": "3.13.2"
  }
 },
 "nbformat": 4,
 "nbformat_minor": 5
}
